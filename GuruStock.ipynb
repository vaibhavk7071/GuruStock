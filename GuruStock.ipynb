{
 "cells": [
  {
   "cell_type": "markdown",
   "id": "f4e46175",
   "metadata": {},
   "source": [
    "# <font color=green>GuruStock - A Comparative Study of Stock Price Prediction using Sentiment Analysis</font>"
   ]
  },
  {
   "cell_type": "markdown",
   "id": "083e5f8e",
   "metadata": {},
   "source": [
    "## **<font color=red>Sentiment Analysis of the Stocks</font>**"
   ]
  },
  {
   "cell_type": "markdown",
   "id": "3eb11c9b",
   "metadata": {},
   "source": [
    "### Libraries and Modules"
   ]
  },
  {
   "cell_type": "code",
   "execution_count": 1,
   "id": "8e114e5e",
   "metadata": {},
   "outputs": [],
   "source": [
    "from textblob import TextBlob\n",
    "import tweepy \n",
    "from tweepy import OAuthHandler\n",
    "import os\n",
    "import sys\n",
    "import pandas as pd\n",
    "import numpy as np\n",
    "import datetime\n",
    "import math\n",
    "\n",
    "import matplotlib.pyplot as plt"
   ]
  },
  {
   "cell_type": "markdown",
   "id": "39138df7",
   "metadata": {},
   "source": [
    "### Keys and Tokens for Twitter API"
   ]
  },
  {
   "cell_type": "code",
   "execution_count": 2,
   "id": "5b804017",
   "metadata": {},
   "outputs": [],
   "source": [
    "consumer_key = \"vYnC9KnfWBn8glDIkLh0wu2Ew\"\n",
    "consumer_secret = \"iUQHBV0GYS69Xoopz8LV6EGlEteTpTeTtw734S4HILMYS7EAWM\"\n",
    "access_token = \"1084360003132125186-IisxCooPrfinEgPhlChrFuCSJDGUlF\"\n",
    "bearer_token = \"AAAAAAAAAAAAAAAAAAAAANF4bQEAAAAAodBJIvocEsuKvR55%2FedDUkghF0U%3DOlEdqAculLBurvJI7A5zUeSMdzkfOgzMBqqUha4Bh45oEDPyyq\"\n",
    "access_token_secret = \"DsxIfsPzqeZCl0oA51VZn5mNVPPDmpLC1lb5YcAJmgnA3\""
   ]
  },
  {
   "cell_type": "markdown",
   "id": "ae5cf3a5",
   "metadata": {},
   "source": [
    "### Authentication"
   ]
  },
  {
   "cell_type": "code",
   "execution_count": 3,
   "id": "50d7ff47",
   "metadata": {},
   "outputs": [],
   "source": [
    "try: \n",
    "    # create OAuthHandler object \n",
    "    auth = tweepy.OAuthHandler(consumer_key, consumer_secret) \n",
    "    # set access token and secret \n",
    "    auth.set_access_token(access_token, access_token_secret)\n",
    "    # create tweepy API object to fetch tweets \n",
    "    api = tweepy.API(auth)\n",
    "except: \n",
    "    print(\"Error: Authentication Failed\")"
   ]
  },
  {
   "cell_type": "markdown",
   "id": "2435bd70",
   "metadata": {},
   "source": [
    "### Fetching"
   ]
  },
  {
   "cell_type": "code",
   "execution_count": 4,
   "id": "674e6890",
   "metadata": {},
   "outputs": [
    {
     "name": "stdout",
     "output_type": "stream",
     "text": [
      "Please enter a stock quote from the CSV to perform the search: INTC\n"
     ]
    }
   ],
   "source": [
    "query = input(\"Please enter a stock quote from the CSV to perform the search: \").upper()\n",
    "\n",
    "# Checks if the sentiment for our quote is positive or negative\n",
    "list_of_tweets = api.search_30_day(label = \"Development\", query = query, maxResults= 100)\n",
    "num_tweets = 100"
   ]
  },
  {
   "cell_type": "markdown",
   "id": "e682e04c",
   "metadata": {},
   "source": [
    "### Subjective Analysis"
   ]
  },
  {
   "cell_type": "code",
   "execution_count": 5,
   "id": "e11eae85",
   "metadata": {},
   "outputs": [
    {
     "name": "stdout",
     "output_type": "stream",
     "text": [
      "This stock has good sentiment\n"
     ]
    }
   ],
   "source": [
    "polarity = 0\n",
    "positive = 0\n",
    "negative = 0\n",
    "neutral = 0\n",
    "null = 0\n",
    "\n",
    "flag = False\n",
    "\n",
    "for tweet in list_of_tweets:\n",
    "    analysis = TextBlob(tweet.text)\n",
    "   #print(analysis)\n",
    "    polarity = analysis.sentiment.polarity\n",
    "   #print(polarity)\n",
    "    if analysis.subjectivity == 0:  \n",
    "        null += 1\n",
    "        next\n",
    "    if polarity < 0:\n",
    "        negative += 1\n",
    "    elif polarity == 0:\n",
    "        neutral += 1\n",
    "    else:\n",
    "        positive += 1\n",
    "        \n",
    "if positive > ((num_tweets - null)/2):\n",
    "    flag = True\n",
    "    \n",
    "if not flag:\n",
    "    print('This stock has bad sentiment, please re-run the script')\n",
    "    sys.exit()\n",
    "else:\n",
    "    print('This stock has good sentiment')"
   ]
  },
  {
   "cell_type": "markdown",
   "id": "55611cf7",
   "metadata": {},
   "source": [
    "###  Visualization"
   ]
  },
  {
   "cell_type": "code",
   "execution_count": 6,
   "id": "96503ba8",
   "metadata": {},
   "outputs": [
    {
     "data": {
      "image/png": "[encoded data removed]",
      "text/plain": [
       "<Figure size 432x288 with 1 Axes>"
      ]
     },
     "metadata": {},
     "output_type": "display_data"
    }
   ],
   "source": [
    "labels = ['Positive ['+str(positive)+'%]' , 'Neutral ['+str(neutral)+'%]','Negative ['+str(negative)+'%]']\n",
    "sizes = [positive, neutral, negative]\n",
    "colors = ['yellowgreen', 'blue','red']\n",
    "patches, texts = plt.pie(sizes,colors=colors, startangle=90)\n",
    "plt.style.use('default')\n",
    "plt.legend(labels)\n",
    "plt.title(\"Sentiment Analysis Result for keyword = \"+query)\n",
    "plt.axis('equal')\n",
    "plt.show()"
   ]
  },
  {
   "cell_type": "markdown",
   "id": "0bbdaa10",
   "metadata": {},
   "source": [
    "## <font color=red>**Fetching previous data using Yfinance**</font>"
   ]
  },
  {
   "cell_type": "markdown",
   "id": "c86f330b",
   "metadata": {},
   "source": [
    "### Modules and Libraries"
   ]
  },
  {
   "cell_type": "code",
   "execution_count": 7,
   "id": "02d984d0",
   "metadata": {},
   "outputs": [],
   "source": [
    "import yfinance as yf"
   ]
  },
  {
   "cell_type": "markdown",
   "id": "ff20243f",
   "metadata": {},
   "source": [
    "### Fetching the Dataset "
   ]
  },
  {
   "cell_type": "code",
   "execution_count": 8,
   "id": "a7d574ec",
   "metadata": {},
   "outputs": [],
   "source": [
    "if yf.Ticker(query) != 400:\n",
    "    value = yf.Ticker(query)\n",
    "    hist = value.history(period=\"5y\")\n",
    "    hist.to_csv('hist.csv')\n",
    "else:\n",
    "    raise RuntimeError('Connection Failed')\n",
    "    \n",
    "df = pd.read_csv('hist.csv')"
   ]
  },
  {
   "cell_type": "markdown",
   "id": "c2ee11b3",
   "metadata": {},
   "source": [
    "## <font color = red>**The Linear Regression Model**</font> "
   ]
  },
  {
   "cell_type": "markdown",
   "id": "928a7a8f",
   "metadata": {},
   "source": [
    "### Modules and Libraries"
   ]
  },
  {
   "cell_type": "code",
   "execution_count": 9,
   "id": "e7417188",
   "metadata": {},
   "outputs": [],
   "source": [
    "from sklearn.linear_model import LinearRegression\n",
    "\n",
    "from sklearn.metrics import mean_squared_error\n",
    "from sklearn.preprocessing import MinMaxScaler"
   ]
  },
  {
   "cell_type": "markdown",
   "id": "eb7097d6",
   "metadata": {},
   "source": [
    "### Preprocessing the Dataset"
   ]
  },
  {
   "cell_type": "code",
   "execution_count": 10,
   "id": "2bf78981",
   "metadata": {},
   "outputs": [],
   "source": [
    "df3 = df.reset_index()['Close']\n",
    "scaler = MinMaxScaler(feature_range=(0,1))\n",
    "df3 = scaler.fit_transform(np.array(df3).reshape(-1,1))\n",
    "\n",
    "def create_dataset(dataset, time_step=1):\n",
    "    val = (len(dataset)-time_step-1)\n",
    "    dataX, dataY = [], []\n",
    "    for i in range(val):\n",
    "        a = dataset[i:(i+time_step), 0]   \n",
    "        dataX.append(a)\n",
    "        dataY.append(dataset[i + time_step, 0])\n",
    "    return np.array(dataX), np.array(dataY)"
   ]
  },
  {
   "cell_type": "markdown",
   "id": "dc43fbb2",
   "metadata": {},
   "source": [
    "### Train-Test Split"
   ]
  },
  {
   "cell_type": "code",
   "execution_count": 11,
   "id": "c9eac460",
   "metadata": {},
   "outputs": [],
   "source": [
    "training_size=int(len(df3)*0.65)\n",
    "test_size=len(df3)-training_size\n",
    "\n",
    "train_data,test_data=df3[0:training_size,:],df3[training_size:len(df3),:1]\n",
    "\n",
    "time_step = 100\n",
    "X_train1, y_train1 = create_dataset(train_data, time_step)\n",
    "X_test1, y_test1 = create_dataset(test_data, time_step)"
   ]
  },
  {
   "cell_type": "markdown",
   "id": "4122ed1d",
   "metadata": {},
   "source": [
    "### Fitting the model"
   ]
  },
  {
   "cell_type": "code",
   "execution_count": 12,
   "id": "c2d7cead",
   "metadata": {},
   "outputs": [
    {
     "data": {
      "text/plain": [
       "LinearRegression()"
      ]
     },
     "execution_count": 12,
     "metadata": {},
     "output_type": "execute_result"
    }
   ],
   "source": [
    "model3 = LinearRegression()\n",
    "model3.fit(X_train1,y_train1)"
   ]
  },
  {
   "cell_type": "markdown",
   "id": "a7d63edc",
   "metadata": {},
   "source": [
    "### Predicting and Reverse transforming"
   ]
  },
  {
   "cell_type": "code",
   "execution_count": 13,
   "id": "27883b17",
   "metadata": {},
   "outputs": [],
   "source": [
    "y_pred = model3.predict(X_test1)\n",
    "y_pred = y_pred.reshape(-1,1)\n",
    "y_pred = scaler.inverse_transform(y_pred)\n",
    "\n",
    "train_predict = model3.predict(X_train1)\n",
    "train_predict = train_predict.reshape(-1,1)\n",
    "train_predict=scaler.inverse_transform(train_predict)"
   ]
  },
  {
   "cell_type": "markdown",
   "id": "c761e7c0",
   "metadata": {},
   "source": [
    "### Performance Analysis"
   ]
  },
  {
   "cell_type": "code",
   "execution_count": 14,
   "id": "bcb7e493",
   "metadata": {},
   "outputs": [
    {
     "name": "stdout",
     "output_type": "stream",
     "text": [
      "RMS error when using Linear Regression on training data:  47.63248786475377\n",
      "RMS error when using Linear Regression on testing data:  50.82081062824633\n"
     ]
    }
   ],
   "source": [
    "print(\"RMS error when using Linear Regression on training data: \",math.sqrt(mean_squared_error(y_train1, train_predict)))\n",
    "print(\"RMS error when using Linear Regression on testing data: \",math.sqrt(mean_squared_error(y_test1, y_pred)))"
   ]
  },
  {
   "cell_type": "markdown",
   "id": "f7575d58",
   "metadata": {},
   "source": [
    "### Visualization"
   ]
  },
  {
   "cell_type": "code",
   "execution_count": 15,
   "id": "c76e7539",
   "metadata": {},
   "outputs": [
    {
     "data": {
      "image/png": "[encoded data removed]",
      "text/plain": [
       "<Figure size 640x480 with 1 Axes>"
      ]
     },
     "metadata": {},
     "output_type": "display_data"
    }
   ],
   "source": [
    "look_back=100\n",
    "trainPredictPlot = np.empty_like(df3)\n",
    "trainPredictPlot[:, :] = np.nan\n",
    "trainPredictPlot[look_back:len(train_predict)+look_back, :] = train_predict\n",
    "\n",
    "test_predict = y_pred\n",
    "testPredictPlot = np.empty_like(df3)\n",
    "testPredictPlot[:, :] = np.nan\n",
    "testPredictPlot[len(train_predict)+(look_back*2)+1:len(df3)-1, :] = test_predict\n",
    "# plot baseline and predictions\n",
    "plt.plot(scaler.inverse_transform(df3))\n",
    "plt.plot(trainPredictPlot)\n",
    "plt.plot(testPredictPlot)\n",
    "\n",
    "labels = ['Actual Values' , 'Training Dataset', 'Testing Dataset']\n",
    "plt.title(\"Linear Regression on a train-test split\")\n",
    "plt.legend(labels)\n",
    "plt.show()"
   ]
  },
  {
   "cell_type": "markdown",
   "id": "5b090fc7",
   "metadata": {},
   "source": [
    "## <font color=red>**The Random Forest Regressor Model**</font>"
   ]
  },
  {
   "cell_type": "markdown",
   "id": "abd45ad4",
   "metadata": {},
   "source": [
    "### Modules and Libraries"
   ]
  },
  {
   "cell_type": "code",
   "execution_count": 16,
   "id": "0322cea9",
   "metadata": {},
   "outputs": [],
   "source": [
    "from sklearn.ensemble import RandomForestRegressor\n",
    "from sklearn.model_selection import RandomizedSearchCV\n",
    "from sklearn.model_selection import train_test_split\n",
    "from sklearn.preprocessing import StandardScaler"
   ]
  },
  {
   "cell_type": "markdown",
   "id": "3a47ba4f",
   "metadata": {},
   "source": [
    "### Preprocessing the Dataset"
   ]
  },
  {
   "cell_type": "code",
   "execution_count": 17,
   "id": "3f05d2ed",
   "metadata": {},
   "outputs": [],
   "source": [
    "df2 = df.reset_index()['Close']\n",
    "scaler = MinMaxScaler(feature_range=(0,1))\n",
    "df2 = scaler.fit_transform(np.array(df2).reshape(-1,1))\n",
    "\n",
    "def create_dataset(dataset, time_step=1):\n",
    "    val = (len(dataset)-time_step-1)\n",
    "    dataX, dataY = [], []\n",
    "    for i in range(val):\n",
    "        a = dataset[i:(i+time_step), 0]  \n",
    "        dataX.append(a)\n",
    "        dataY.append(dataset[i + time_step, 0])\n",
    "    return np.array(dataX), np.array(dataY)"
   ]
  },
  {
   "cell_type": "markdown",
   "id": "966e5a5a",
   "metadata": {},
   "source": [
    "### Train-Test Split"
   ]
  },
  {
   "cell_type": "code",
   "execution_count": 18,
   "id": "56b83615",
   "metadata": {},
   "outputs": [],
   "source": [
    "training_size=int(len(df2)*0.65)\n",
    "test_size=len(df2)-training_size\n",
    "\n",
    "train_data,test_data=df2[0:training_size,:],df2[training_size:len(df2),:1]\n",
    "time_step = 100\n",
    "X_train, y_train = create_dataset(train_data, time_step)\n",
    "X_test, y_test = create_dataset(test_data, time_step)\n",
    "X_train =X_train.reshape(X_train.shape[0],X_train.shape[1])\n",
    "X_test = X_test.reshape(X_test.shape[0],X_test.shape[1])"
   ]
  },
  {
   "cell_type": "markdown",
   "id": "0351aa16",
   "metadata": {},
   "source": [
    "### Hyperparameter Tuning"
   ]
  },
  {
   "cell_type": "code",
   "execution_count": 19,
   "id": "347ef211",
   "metadata": {},
   "outputs": [],
   "source": [
    "# Number of trees in random forest\n",
    "n_estimators = [int(x) for x in np.linspace(start = 500, stop = 5500, num = 100)]\n",
    "# Number of features to consider at every split\n",
    "max_features = ['auto', 'sqrt']\n",
    "# Maximum number of levels in tree\n",
    "max_depth = [int(x) for x in np.linspace(10, 100, num = 11)]\n",
    "max_depth.append(None)\n",
    "# Minimum number of samples required to split a node\n",
    "min_samples_split = [2, 4, 5, 10, 20]\n",
    "# Minimum number of samples required at each leaf node\n",
    "min_samples_leaf = [2, 4, 8, 16]\n",
    "# Method of selecting samples for training each tree\n",
    "bootstrap = [True, False]\n",
    "# Create the random grid\n",
    "random_grid = {'n_estimators': n_estimators,\n",
    "               'max_features': max_features,\n",
    "               'max_depth': max_depth,\n",
    "               'min_samples_split': min_samples_split,\n",
    "               'min_samples_leaf': min_samples_leaf,\n",
    "               'bootstrap': bootstrap}"
   ]
  },
  {
   "cell_type": "markdown",
   "id": "278d0920",
   "metadata": {},
   "source": [
    "### Randomized K-fold Fitting"
   ]
  },
  {
   "cell_type": "code",
   "execution_count": 20,
   "id": "10eda1cd",
   "metadata": {},
   "outputs": [
    {
     "name": "stdout",
     "output_type": "stream",
     "text": [
      "Fitting 5 folds for each of 20 candidates, totalling 100 fits\n"
     ]
    },
    {
     "data": {
      "text/plain": [
       "RandomizedSearchCV(cv=5, estimator=RandomForestRegressor(), n_iter=20,\n",
       "                   n_jobs=-1,\n",
       "                   param_distributions={'bootstrap': [True, False],\n",
       "                                        'max_depth': [10, 19, 28, 37, 46, 55,\n",
       "                                                      64, 73, 82, 91, 100,\n",
       "                                                      None],\n",
       "                                        'max_features': ['auto', 'sqrt'],\n",
       "                                        'min_samples_leaf': [2, 4, 8, 16],\n",
       "                                        'min_samples_split': [2, 4, 5, 10, 20],\n",
       "                                        'n_estimators': [500, 550, 601, 651,\n",
       "                                                         702, 752, 803, 853,\n",
       "                                                         904, 954, 1005, 1055,\n",
       "                                                         1106, 1156, 1207, 1257,\n",
       "                                                         1308, 1358, 1409, 1459,\n",
       "                                                         1510, 1560, 1611, 1661,\n",
       "                                                         1712, 1762, 1813, 1863,\n",
       "                                                         1914, 1964, ...]},\n",
       "                   random_state=42, verbose=2)"
      ]
     },
     "execution_count": 20,
     "metadata": {},
     "output_type": "execute_result"
    }
   ],
   "source": [
    "rf = RandomForestRegressor()\n",
    "rf_random = RandomizedSearchCV(estimator = rf, param_distributions = random_grid, n_iter = 20, cv = 5, verbose=2, random_state=42, n_jobs = -1)\n",
    "# Fit the random search model\n",
    "rf_random.fit(X_train, y_train)"
   ]
  },
  {
   "cell_type": "markdown",
   "id": "ef7cb7c7",
   "metadata": {},
   "source": [
    "### Best Parameters and Performance Evaluation"
   ]
  },
  {
   "cell_type": "code",
   "execution_count": 21,
   "id": "c4d8e341",
   "metadata": {},
   "outputs": [
    {
     "name": "stdout",
     "output_type": "stream",
     "text": [
      "{'n_estimators': 5045, 'min_samples_split': 2, 'min_samples_leaf': 8, 'max_features': 'auto', 'max_depth': 100, 'bootstrap': True}\n",
      "Model Performance\n",
      "Average Error: 0.0259 degrees.\n",
      "Accuracy = 94.41%.\n"
     ]
    }
   ],
   "source": [
    "best_parameters = rf_random.best_params_\n",
    "print(best_parameters)\n",
    "\n",
    "def evaluate(model, test_features, test_labels):\n",
    "    predictions = model.predict(test_features)\n",
    "    errors = abs(predictions - test_labels)\n",
    "    mape = 100 * np.mean(errors / test_labels)\n",
    "    accuracy = 100 - mape\n",
    "    \n",
    "    print('Model Performance')\n",
    "    print('Average Error: {:0.4f} degrees.'.format(np.mean(errors)))\n",
    "    print('Accuracy = {:0.2f}%.'.format(accuracy))   \n",
    "    return accuracy\n",
    "\n",
    "best_random = rf_random.best_estimator_\n",
    "random_accuracy = evaluate(best_random, X_test, y_test)"
   ]
  },
  {
   "cell_type": "markdown",
   "id": "b026f4a5",
   "metadata": {},
   "source": [
    "<font color=blue>{'n_estimators': 3530, 'min_samples_split': 5, 'min_samples_leaf': 4, 'max_features': 'auto', 'max_depth': 20, 'bootstrap': True}</font>"
   ]
  },
  {
   "cell_type": "markdown",
   "id": "6d8088bb",
   "metadata": {},
   "source": [
    "### Predicting and Reverse transforming"
   ]
  },
  {
   "cell_type": "code",
   "execution_count": 22,
   "id": "35edb3b6",
   "metadata": {},
   "outputs": [
    {
     "name": "stdout",
     "output_type": "stream",
     "text": [
      "RMS error when using Random Forest Regression on training data:  47.63071380470057\n",
      "RMS error when using Random Forest Regression on testing data:  51.03450982905625\n"
     ]
    }
   ],
   "source": [
    "train_predict=best_random.predict(X_train)\n",
    "train_predict=train_predict.reshape(-1, 1)\n",
    "train_predict = scaler.inverse_transform(train_predict)\n",
    "array_length = len(train_predict)\n",
    "val = train_predict[array_length - 1]\n",
    "\n",
    "test_predict=best_random.predict(X_test)\n",
    "test_predict=test_predict.reshape(-1, 1)\n",
    "test_predict = scaler.inverse_transform(test_predict)\n",
    "array_length = len(test_predict)\n",
    "val_test = test_predict[array_length - 1]\n",
    "\n",
    "print(\"RMS error when using Random Forest Regression on training data: \",math.sqrt(mean_squared_error(y_train, train_predict)))\n",
    "print(\"RMS error when using Random Forest Regression on testing data: \",math.sqrt(mean_squared_error(y_test, test_predict)))"
   ]
  },
  {
   "cell_type": "markdown",
   "id": "12e9c685",
   "metadata": {},
   "source": [
    "### Visualization"
   ]
  },
  {
   "cell_type": "code",
   "execution_count": 23,
   "id": "2da23ed2",
   "metadata": {},
   "outputs": [
    {
     "data": {
      "image/png": "[encoded data removed]",
      "text/plain": [
       "<Figure size 640x480 with 1 Axes>"
      ]
     },
     "metadata": {},
     "output_type": "display_data"
    }
   ],
   "source": [
    "look_back = 100\n",
    "\n",
    "trainPredictPlot = np.empty_like(df2)\n",
    "trainPredictPlot[:, :] = np.nan\n",
    "trainPredictPlot[look_back:len(train_predict)+look_back, :] = train_predict\n",
    "\n",
    "testPredictPlot = np.empty_like(df2)\n",
    "testPredictPlot[:, :] = np.nan\n",
    "testPredictPlot[len(train_predict)+(look_back*2)+1:len(df2)-1, :] = test_predict\n",
    "\n",
    "plt.plot(scaler.inverse_transform(df2))\n",
    "plt.plot(trainPredictPlot)\n",
    "plt.plot(testPredictPlot)\n",
    "\n",
    "labels = ['Actual Values' , 'Training Dataset', 'Testing Dataset']\n",
    "plt.title(\"Random Forest Regressor on a train-test split\")\n",
    "plt.legend(labels)\n",
    "plt.show()"
   ]
  },
  {
   "cell_type": "markdown",
   "id": "7a5a440a",
   "metadata": {},
   "source": [
    "## <font color=red>**The LSTM-TLBO model**</font>"
   ]
  },
  {
   "cell_type": "markdown",
   "id": "71bd1e7b",
   "metadata": {},
   "source": [
    "### Modules and Libraries - LSTM"
   ]
  },
  {
   "cell_type": "code",
   "execution_count": 24,
   "id": "292fd136",
   "metadata": {},
   "outputs": [],
   "source": [
    "import tensorflow as tf\n",
    "from tensorflow.keras.models import Sequential, load_model\n",
    "from tensorflow.keras.layers import Dense, LSTM, Dropout\n",
    "from tensorflow import keras"
   ]
  },
  {
   "cell_type": "markdown",
   "id": "6070a42e",
   "metadata": {},
   "source": [
    "### Preprocessing the Dataset"
   ]
  },
  {
   "cell_type": "code",
   "execution_count": 25,
   "id": "69fa2647",
   "metadata": {},
   "outputs": [],
   "source": [
    "df1 = df.reset_index()['Close']\n",
    "scaler = MinMaxScaler(feature_range=(0,1))\n",
    "df1 = scaler.fit_transform(np.array(df1).reshape(-1,1))  \n",
    "\n",
    "def create_dataset(dataset, time_step=1):\n",
    "    val = (len(dataset)-time_step-1)\n",
    "    dataX, dataY = [], []\n",
    "    for i in range(val):\n",
    "        a = dataset[i:(i+time_step), 0]   ###i=0, 0,1,2,3-----99   100 \n",
    "        dataX.append(a)\n",
    "        dataY.append(dataset[i + time_step, 0])\n",
    "    return np.array(dataX), np.array(dataY)\n",
    "\n",
    "time_step = 100\n",
    "# reshape into X=t,t+1,t+2,t+3 and Y=t+4\n",
    "X, Y = create_dataset(df1, time_step)\n",
    "\n",
    "# reshape input to be [samples, time steps, features] which is required for LSTM\n",
    "X = X.reshape(X.shape[0],X.shape[1] , 1)   "
   ]
  },
  {
   "cell_type": "markdown",
   "id": "94bf87bf",
   "metadata": {},
   "source": [
    "### Layers in the LSTM Model"
   ]
  },
  {
   "cell_type": "code",
   "execution_count": 26,
   "id": "45424147",
   "metadata": {},
   "outputs": [],
   "source": [
    "# Creating a Multilinear Perceptron model\n",
    "model = Sequential()\n",
    "\n",
    "model.add(LSTM(50,return_sequences=True,input_shape=(100,1)))\n",
    "model.add(Dropout(0.2))\n",
    "\n",
    "model.add(LSTM(50,return_sequences=True))\n",
    "model.add(Dropout(0.2))\n",
    "\n",
    "model.add(LSTM(50))\n",
    "model.add(Dropout(0.2))  \n",
    "\n",
    "model.add(Dense(units=1))   "
   ]
  },
  {
   "cell_type": "markdown",
   "id": "200d1e71",
   "metadata": {},
   "source": [
    "### Train-Test Split"
   ]
  },
  {
   "cell_type": "code",
   "execution_count": 27,
   "id": "ac888f92",
   "metadata": {},
   "outputs": [],
   "source": [
    "training_size=int(len(df1)*0.65)\n",
    "test_size=len(df1)-training_size\n",
    "\n",
    "train_data,test_data=df1[0:training_size,:],df1[training_size:len(df1),:1]\n",
    "\n",
    "time_step = 100\n",
    "X_train, y_train = create_dataset(train_data, time_step)\n",
    "X_test, y_test = create_dataset(test_data, time_step)\n",
    "\n",
    "X_train =X_train.reshape(X_train.shape[0],X_train.shape[1] , 1)\n",
    "X_test = X_test.reshape(X_test.shape[0],X_test.shape[1] , 1)"
   ]
  },
  {
   "cell_type": "markdown",
   "id": "00a8821d",
   "metadata": {},
   "source": [
    "### Compiling, Fitting and Saving"
   ]
  },
  {
   "cell_type": "code",
   "execution_count": 28,
   "id": "60ea5568",
   "metadata": {},
   "outputs": [
    {
     "name": "stdout",
     "output_type": "stream",
     "text": [
      "Epoch 1/100\n",
      "72/72 - 11s - loss: 0.0276 - val_loss: 0.0047 - 11s/epoch - 154ms/step\n",
      "Epoch 2/100\n",
      "72/72 - 5s - loss: 0.0093 - val_loss: 0.0042 - 5s/epoch - 76ms/step\n",
      "Epoch 3/100\n",
      "72/72 - 5s - loss: 0.0093 - val_loss: 0.0052 - 5s/epoch - 72ms/step\n",
      "Epoch 4/100\n",
      "72/72 - 5s - loss: 0.0075 - val_loss: 0.0033 - 5s/epoch - 75ms/step\n",
      "Epoch 5/100\n",
      "72/72 - 6s - loss: 0.0061 - val_loss: 0.0071 - 6s/epoch - 80ms/step\n",
      "Epoch 6/100\n",
      "72/72 - 5s - loss: 0.0057 - val_loss: 0.0033 - 5s/epoch - 72ms/step\n",
      "Epoch 7/100\n",
      "72/72 - 6s - loss: 0.0063 - val_loss: 0.0029 - 6s/epoch - 87ms/step\n",
      "Epoch 8/100\n",
      "72/72 - 6s - loss: 0.0059 - val_loss: 0.0031 - 6s/epoch - 77ms/step\n",
      "Epoch 9/100\n",
      "72/72 - 6s - loss: 0.0058 - val_loss: 0.0033 - 6s/epoch - 80ms/step\n",
      "Epoch 10/100\n",
      "72/72 - 5s - loss: 0.0053 - val_loss: 0.0035 - 5s/epoch - 71ms/step\n",
      "Epoch 11/100\n",
      "72/72 - 7s - loss: 0.0043 - val_loss: 0.0044 - 7s/epoch - 94ms/step\n",
      "Epoch 12/100\n",
      "72/72 - 6s - loss: 0.0050 - val_loss: 0.0026 - 6s/epoch - 80ms/step\n",
      "Epoch 13/100\n",
      "72/72 - 5s - loss: 0.0044 - val_loss: 0.0023 - 5s/epoch - 76ms/step\n",
      "Epoch 14/100\n",
      "72/72 - 6s - loss: 0.0044 - val_loss: 0.0023 - 6s/epoch - 77ms/step\n",
      "Epoch 15/100\n",
      "72/72 - 6s - loss: 0.0045 - val_loss: 0.0021 - 6s/epoch - 76ms/step\n",
      "Epoch 16/100\n",
      "72/72 - 5s - loss: 0.0046 - val_loss: 0.0023 - 5s/epoch - 76ms/step\n",
      "Epoch 17/100\n",
      "72/72 - 5s - loss: 0.0045 - val_loss: 0.0028 - 5s/epoch - 75ms/step\n",
      "Epoch 18/100\n",
      "72/72 - 5s - loss: 0.0038 - val_loss: 0.0020 - 5s/epoch - 76ms/step\n",
      "Epoch 19/100\n",
      "72/72 - 5s - loss: 0.0041 - val_loss: 0.0023 - 5s/epoch - 75ms/step\n",
      "Epoch 20/100\n",
      "72/72 - 5s - loss: 0.0045 - val_loss: 0.0023 - 5s/epoch - 76ms/step\n",
      "Epoch 21/100\n",
      "72/72 - 5s - loss: 0.0038 - val_loss: 0.0041 - 5s/epoch - 75ms/step\n",
      "Epoch 22/100\n",
      "72/72 - 5s - loss: 0.0038 - val_loss: 0.0024 - 5s/epoch - 75ms/step\n",
      "Epoch 23/100\n",
      "72/72 - 5s - loss: 0.0037 - val_loss: 0.0018 - 5s/epoch - 75ms/step\n",
      "Epoch 24/100\n",
      "72/72 - 5s - loss: 0.0032 - val_loss: 0.0018 - 5s/epoch - 75ms/step\n",
      "Epoch 25/100\n",
      "72/72 - 5s - loss: 0.0034 - val_loss: 0.0018 - 5s/epoch - 75ms/step\n",
      "Epoch 26/100\n",
      "72/72 - 6s - loss: 0.0032 - val_loss: 0.0020 - 6s/epoch - 85ms/step\n",
      "Epoch 27/100\n",
      "72/72 - 6s - loss: 0.0035 - val_loss: 0.0015 - 6s/epoch - 80ms/step\n",
      "Epoch 28/100\n",
      "72/72 - 6s - loss: 0.0036 - val_loss: 0.0017 - 6s/epoch - 78ms/step\n",
      "Epoch 29/100\n",
      "72/72 - 5s - loss: 0.0034 - val_loss: 0.0019 - 5s/epoch - 75ms/step\n",
      "Epoch 30/100\n",
      "72/72 - 6s - loss: 0.0032 - val_loss: 0.0015 - 6s/epoch - 76ms/step\n",
      "Epoch 31/100\n",
      "72/72 - 5s - loss: 0.0033 - val_loss: 0.0032 - 5s/epoch - 74ms/step\n",
      "Epoch 32/100\n",
      "72/72 - 5s - loss: 0.0028 - val_loss: 0.0016 - 5s/epoch - 74ms/step\n",
      "Epoch 33/100\n",
      "72/72 - 5s - loss: 0.0031 - val_loss: 0.0014 - 5s/epoch - 73ms/step\n",
      "Epoch 34/100\n",
      "72/72 - 5s - loss: 0.0027 - val_loss: 0.0014 - 5s/epoch - 76ms/step\n",
      "Epoch 35/100\n",
      "72/72 - 5s - loss: 0.0025 - val_loss: 0.0014 - 5s/epoch - 75ms/step\n",
      "Epoch 36/100\n",
      "72/72 - 5s - loss: 0.0025 - val_loss: 0.0015 - 5s/epoch - 75ms/step\n",
      "Epoch 37/100\n",
      "72/72 - 5s - loss: 0.0025 - val_loss: 0.0013 - 5s/epoch - 76ms/step\n",
      "Epoch 38/100\n",
      "72/72 - 6s - loss: 0.0026 - val_loss: 0.0016 - 6s/epoch - 78ms/step\n",
      "Epoch 39/100\n",
      "72/72 - 5s - loss: 0.0023 - val_loss: 0.0013 - 5s/epoch - 75ms/step\n",
      "Epoch 40/100\n",
      "72/72 - 5s - loss: 0.0024 - val_loss: 0.0014 - 5s/epoch - 74ms/step\n",
      "Epoch 41/100\n",
      "72/72 - 5s - loss: 0.0024 - val_loss: 0.0017 - 5s/epoch - 75ms/step\n",
      "Epoch 42/100\n",
      "72/72 - 6s - loss: 0.0024 - val_loss: 0.0011 - 6s/epoch - 77ms/step\n",
      "Epoch 43/100\n",
      "72/72 - 6s - loss: 0.0023 - val_loss: 0.0012 - 6s/epoch - 78ms/step\n",
      "Epoch 44/100\n",
      "72/72 - 6s - loss: 0.0022 - val_loss: 0.0016 - 6s/epoch - 80ms/step\n",
      "Epoch 45/100\n",
      "72/72 - 7s - loss: 0.0021 - val_loss: 0.0012 - 7s/epoch - 100ms/step\n",
      "Epoch 46/100\n",
      "72/72 - 8s - loss: 0.0022 - val_loss: 0.0015 - 8s/epoch - 107ms/step\n",
      "Epoch 47/100\n",
      "72/72 - 5s - loss: 0.0024 - val_loss: 0.0012 - 5s/epoch - 72ms/step\n",
      "Epoch 48/100\n",
      "72/72 - 5s - loss: 0.0022 - val_loss: 0.0012 - 5s/epoch - 73ms/step\n",
      "Epoch 49/100\n",
      "72/72 - 5s - loss: 0.0021 - val_loss: 0.0010 - 5s/epoch - 70ms/step\n",
      "Epoch 50/100\n",
      "72/72 - 5s - loss: 0.0019 - val_loss: 0.0010 - 5s/epoch - 71ms/step\n",
      "Epoch 51/100\n",
      "72/72 - 6s - loss: 0.0023 - val_loss: 0.0016 - 6s/epoch - 81ms/step\n",
      "Epoch 52/100\n",
      "72/72 - 5s - loss: 0.0021 - val_loss: 0.0018 - 5s/epoch - 75ms/step\n",
      "Epoch 53/100\n",
      "72/72 - 5s - loss: 0.0019 - val_loss: 0.0011 - 5s/epoch - 71ms/step\n",
      "Epoch 54/100\n",
      "72/72 - 5s - loss: 0.0018 - val_loss: 9.9225e-04 - 5s/epoch - 71ms/step\n",
      "Epoch 55/100\n",
      "72/72 - 5s - loss: 0.0021 - val_loss: 0.0015 - 5s/epoch - 75ms/step\n",
      "Epoch 56/100\n",
      "72/72 - 6s - loss: 0.0018 - val_loss: 0.0020 - 6s/epoch - 78ms/step\n",
      "Epoch 57/100\n",
      "72/72 - 6s - loss: 0.0019 - val_loss: 0.0012 - 6s/epoch - 80ms/step\n",
      "Epoch 58/100\n",
      "72/72 - 7s - loss: 0.0019 - val_loss: 0.0011 - 7s/epoch - 91ms/step\n",
      "Epoch 59/100\n",
      "72/72 - 5s - loss: 0.0018 - val_loss: 0.0011 - 5s/epoch - 76ms/step\n",
      "Epoch 60/100\n",
      "72/72 - 7s - loss: 0.0017 - val_loss: 9.2634e-04 - 7s/epoch - 93ms/step\n",
      "Epoch 61/100\n",
      "72/72 - 9s - loss: 0.0016 - val_loss: 0.0023 - 9s/epoch - 130ms/step\n",
      "Epoch 62/100\n",
      "72/72 - 7s - loss: 0.0020 - val_loss: 8.8285e-04 - 7s/epoch - 99ms/step\n",
      "Epoch 63/100\n",
      "72/72 - 5s - loss: 0.0017 - val_loss: 8.7493e-04 - 5s/epoch - 76ms/step\n",
      "Epoch 64/100\n",
      "72/72 - 5s - loss: 0.0018 - val_loss: 9.0128e-04 - 5s/epoch - 72ms/step\n",
      "Epoch 65/100\n",
      "72/72 - 6s - loss: 0.0019 - val_loss: 9.3202e-04 - 6s/epoch - 77ms/step\n",
      "Epoch 66/100\n",
      "72/72 - 6s - loss: 0.0015 - val_loss: 0.0011 - 6s/epoch - 78ms/step\n",
      "Epoch 67/100\n",
      "72/72 - 6s - loss: 0.0017 - val_loss: 9.4305e-04 - 6s/epoch - 80ms/step\n",
      "Epoch 68/100\n",
      "72/72 - 5s - loss: 0.0016 - val_loss: 0.0017 - 5s/epoch - 76ms/step\n",
      "Epoch 69/100\n",
      "72/72 - 6s - loss: 0.0017 - val_loss: 9.7240e-04 - 6s/epoch - 81ms/step\n",
      "Epoch 70/100\n",
      "72/72 - 6s - loss: 0.0018 - val_loss: 0.0011 - 6s/epoch - 78ms/step\n",
      "Epoch 71/100\n",
      "72/72 - 6s - loss: 0.0018 - val_loss: 9.9759e-04 - 6s/epoch - 81ms/step\n",
      "Epoch 72/100\n",
      "72/72 - 5s - loss: 0.0017 - val_loss: 9.0962e-04 - 5s/epoch - 74ms/step\n",
      "Epoch 73/100\n",
      "72/72 - 5s - loss: 0.0016 - val_loss: 0.0010 - 5s/epoch - 73ms/step\n",
      "Epoch 74/100\n",
      "72/72 - 5s - loss: 0.0015 - val_loss: 0.0011 - 5s/epoch - 72ms/step\n",
      "Epoch 75/100\n",
      "72/72 - 6s - loss: 0.0016 - val_loss: 9.2801e-04 - 6s/epoch - 80ms/step\n",
      "Epoch 76/100\n",
      "72/72 - 6s - loss: 0.0016 - val_loss: 9.0948e-04 - 6s/epoch - 77ms/step\n",
      "Epoch 77/100\n",
      "72/72 - 5s - loss: 0.0015 - val_loss: 0.0015 - 5s/epoch - 73ms/step\n",
      "Epoch 78/100\n",
      "72/72 - 5s - loss: 0.0017 - val_loss: 9.3842e-04 - 5s/epoch - 76ms/step\n",
      "Epoch 79/100\n",
      "72/72 - 5s - loss: 0.0016 - val_loss: 0.0014 - 5s/epoch - 72ms/step\n",
      "Epoch 80/100\n",
      "72/72 - 5s - loss: 0.0016 - val_loss: 0.0011 - 5s/epoch - 72ms/step\n",
      "Epoch 81/100\n",
      "72/72 - 6s - loss: 0.0016 - val_loss: 8.5797e-04 - 6s/epoch - 79ms/step\n",
      "Epoch 82/100\n",
      "72/72 - 5s - loss: 0.0017 - val_loss: 0.0010 - 5s/epoch - 73ms/step\n",
      "Epoch 83/100\n",
      "72/72 - 5s - loss: 0.0015 - val_loss: 8.5106e-04 - 5s/epoch - 73ms/step\n",
      "Epoch 84/100\n",
      "72/72 - 5s - loss: 0.0017 - val_loss: 8.8841e-04 - 5s/epoch - 74ms/step\n",
      "Epoch 85/100\n",
      "72/72 - 5s - loss: 0.0016 - val_loss: 0.0011 - 5s/epoch - 70ms/step\n",
      "Epoch 86/100\n",
      "72/72 - 5s - loss: 0.0016 - val_loss: 9.3583e-04 - 5s/epoch - 72ms/step\n",
      "Epoch 87/100\n",
      "72/72 - 6s - loss: 0.0016 - val_loss: 0.0010 - 6s/epoch - 89ms/step\n",
      "Epoch 88/100\n",
      "72/72 - 5s - loss: 0.0015 - val_loss: 8.4834e-04 - 5s/epoch - 71ms/step\n",
      "Epoch 89/100\n",
      "72/72 - 5s - loss: 0.0016 - val_loss: 9.5143e-04 - 5s/epoch - 70ms/step\n",
      "Epoch 90/100\n",
      "72/72 - 5s - loss: 0.0016 - val_loss: 8.6264e-04 - 5s/epoch - 70ms/step\n",
      "Epoch 91/100\n",
      "72/72 - 5s - loss: 0.0016 - val_loss: 8.6087e-04 - 5s/epoch - 70ms/step\n",
      "Epoch 92/100\n",
      "72/72 - 5s - loss: 0.0016 - val_loss: 0.0015 - 5s/epoch - 74ms/step\n",
      "Epoch 93/100\n",
      "72/72 - 5s - loss: 0.0016 - val_loss: 8.8434e-04 - 5s/epoch - 73ms/step\n",
      "Epoch 94/100\n",
      "72/72 - 5s - loss: 0.0015 - val_loss: 0.0017 - 5s/epoch - 70ms/step\n",
      "Epoch 95/100\n",
      "72/72 - 5s - loss: 0.0016 - val_loss: 9.4797e-04 - 5s/epoch - 71ms/step\n",
      "Epoch 96/100\n",
      "72/72 - 6s - loss: 0.0016 - val_loss: 0.0012 - 6s/epoch - 77ms/step\n",
      "Epoch 97/100\n",
      "72/72 - 5s - loss: 0.0015 - val_loss: 0.0014 - 5s/epoch - 70ms/step\n",
      "Epoch 98/100\n",
      "72/72 - 5s - loss: 0.0016 - val_loss: 9.4561e-04 - 5s/epoch - 70ms/step\n",
      "Epoch 99/100\n",
      "72/72 - 6s - loss: 0.0014 - val_loss: 9.1710e-04 - 6s/epoch - 77ms/step\n",
      "Epoch 100/100\n",
      "72/72 - 6s - loss: 0.0015 - val_loss: 9.2076e-04 - 6s/epoch - 87ms/step\n"
     ]
    }
   ],
   "source": [
    "optimizer = keras.optimizers.Adam()\n",
    "model.compile(loss='mean_squared_error', optimizer=optimizer)\n",
    "\n",
    "history = model.fit(X_train, y_train, epochs=100, batch_size=10, verbose=2, validation_data=(X_test, y_test))\n",
    "\n",
    "model.save('Final_model.h5')"
   ]
  },
  {
   "cell_type": "markdown",
   "id": "b43e1fd4",
   "metadata": {},
   "source": [
    "### Modules and Libraries - TLBO"
   ]
  },
  {
   "cell_type": "code",
   "execution_count": 29,
   "id": "7c41495f",
   "metadata": {},
   "outputs": [],
   "source": [
    "from mealpy.human_based.TLO import BaseTLO"
   ]
  },
  {
   "cell_type": "markdown",
   "id": "57e86c81",
   "metadata": {},
   "source": [
    "### The TLBO Model"
   ]
  },
  {
   "cell_type": "code",
   "execution_count": 30,
   "id": "55c44cc6",
   "metadata": {},
   "outputs": [],
   "source": [
    "def TLBO(wts):\n",
    "    def fitness_rastrigin(position):\n",
    "        fitness_value = 0.0\n",
    "        for i in range(len(position)):\n",
    "            xi = position[i]\n",
    "            fitness_value += (xi * xi) - (10 * math.cos(2 * math.pi * xi)) + 10\n",
    "        return fitness_value\n",
    "     \n",
    "    def fitness_sphere(position):\n",
    "        fitness_value = 0.0\n",
    "        for i in range(len(position)):\n",
    "            xi = position[i]\n",
    "            fitness_value += (xi*xi);\n",
    "        return fitness_value\n",
    "    \n",
    "    def fitness_function(position):\n",
    "        return np.sum(position**2)\n",
    "    \n",
    "    problem_dict = {\n",
    "        \"fit_func\": fitness_rastrigin,\n",
    "        \"lb\": [np.min(wts),-10,0,10],\n",
    "        \"ub\": [np.max(wts),10,0,-10],\n",
    "        \"minmax\": \"min\",\n",
    "    }\n",
    "    epoch = 100\n",
    "    pop_size = 50\n",
    "    model_optim = BaseTLO(problem_dict, epoch, pop_size)\n",
    "    best_position, best_fitness = model_optim.solve()\n",
    "    print(f\"Solution: {best_position}, Fitness: {best_fitness}\")\n",
    "    return best_position"
   ]
  },
  {
   "cell_type": "markdown",
   "id": "74c597ea",
   "metadata": {},
   "source": [
    "### Optimizing the LSTM Model with TLBO"
   ]
  },
  {
   "cell_type": "code",
   "execution_count": 31,
   "id": "7ae63e43",
   "metadata": {},
   "outputs": [
    {
     "name": "stderr",
     "output_type": "stream",
     "text": [
      "2022/07/06 10:39:57 PM, INFO, mealpy.human_based.TLO.BaseTLO: Solving single objective optimization problem.\n",
      "2022/07/06 10:39:57 PM, INFO, mealpy.human_based.TLO.BaseTLO: >Epoch: 1, Current best: 102.43482467475233, Global best: 102.43482467475233, Runtime: 0.01279 seconds\n",
      "2022/07/06 10:39:57 PM, INFO, mealpy.human_based.TLO.BaseTLO: >Epoch: 2, Current best: 101.80450356300541, Global best: 101.80450356300541, Runtime: 0.01681 seconds\n",
      "2022/07/06 10:39:57 PM, INFO, mealpy.human_based.TLO.BaseTLO: >Epoch: 3, Current best: 101.80450356300541, Global best: 101.80450356300541, Runtime: 0.02535 seconds\n",
      "2022/07/06 10:39:57 PM, INFO, mealpy.human_based.TLO.BaseTLO: >Epoch: 4, Current best: 100.41818481682745, Global best: 100.41818481682745, Runtime: 0.02155 seconds\n",
      "2022/07/06 10:39:57 PM, INFO, mealpy.human_based.TLO.BaseTLO: >Epoch: 5, Current best: 100.23759598357597, Global best: 100.23759598357597, Runtime: 0.01964 seconds\n",
      "2022/07/06 10:39:57 PM, INFO, mealpy.human_based.TLO.BaseTLO: >Epoch: 6, Current best: 100.04606607782952, Global best: 100.04606607782952, Runtime: 0.01142 seconds\n",
      "2022/07/06 10:39:57 PM, INFO, mealpy.human_based.TLO.BaseTLO: >Epoch: 7, Current best: 100.04411626044258, Global best: 100.04411626044258, Runtime: 0.01071 seconds\n",
      "2022/07/06 10:39:57 PM, INFO, mealpy.human_based.TLO.BaseTLO: >Epoch: 8, Current best: 100.04411626044258, Global best: 100.04411626044258, Runtime: 0.02005 seconds\n",
      "2022/07/06 10:39:57 PM, INFO, mealpy.human_based.TLO.BaseTLO: >Epoch: 9, Current best: 100.01710926026536, Global best: 100.01710926026536, Runtime: 0.02070 seconds\n",
      "2022/07/06 10:39:57 PM, INFO, mealpy.human_based.TLO.BaseTLO: >Epoch: 10, Current best: 100.00634080880232, Global best: 100.00634080880232, Runtime: 0.02353 seconds\n",
      "2022/07/06 10:39:57 PM, INFO, mealpy.human_based.TLO.BaseTLO: >Epoch: 11, Current best: 100.00463907377866, Global best: 100.00463907377866, Runtime: 0.01724 seconds\n",
      "2022/07/06 10:39:57 PM, INFO, mealpy.human_based.TLO.BaseTLO: >Epoch: 12, Current best: 100.00463907377866, Global best: 100.00463907377866, Runtime: 0.02526 seconds\n",
      "2022/07/06 10:39:57 PM, INFO, mealpy.human_based.TLO.BaseTLO: >Epoch: 13, Current best: 100.00463907377866, Global best: 100.00463907377866, Runtime: 0.01488 seconds\n",
      "2022/07/06 10:39:57 PM, INFO, mealpy.human_based.TLO.BaseTLO: >Epoch: 14, Current best: 100.00463907377866, Global best: 100.00463907377866, Runtime: 0.01842 seconds\n",
      "2022/07/06 10:39:57 PM, INFO, mealpy.human_based.TLO.BaseTLO: >Epoch: 15, Current best: 100.00463907377866, Global best: 100.00463907377866, Runtime: 0.02151 seconds\n",
      "2022/07/06 10:39:57 PM, INFO, mealpy.human_based.TLO.BaseTLO: >Epoch: 16, Current best: 100.00044968916612, Global best: 100.00044968916612, Runtime: 0.02260 seconds\n",
      "2022/07/06 10:39:57 PM, INFO, mealpy.human_based.TLO.BaseTLO: >Epoch: 17, Current best: 100.00044968916612, Global best: 100.00044968916612, Runtime: 0.01627 seconds\n",
      "2022/07/06 10:39:57 PM, INFO, mealpy.human_based.TLO.BaseTLO: >Epoch: 18, Current best: 100.00003691693131, Global best: 100.00003691693131, Runtime: 0.01939 seconds\n",
      "2022/07/06 10:39:57 PM, INFO, mealpy.human_based.TLO.BaseTLO: >Epoch: 19, Current best: 100.00003691693131, Global best: 100.00003691693131, Runtime: 0.01593 seconds\n",
      "2022/07/06 10:39:57 PM, INFO, mealpy.human_based.TLO.BaseTLO: >Epoch: 20, Current best: 100.00003691693131, Global best: 100.00003691693131, Runtime: 0.01892 seconds\n",
      "2022/07/06 10:39:57 PM, INFO, mealpy.human_based.TLO.BaseTLO: >Epoch: 21, Current best: 100.00003691693131, Global best: 100.00003691693131, Runtime: 0.02080 seconds\n",
      "2022/07/06 10:39:57 PM, INFO, mealpy.human_based.TLO.BaseTLO: >Epoch: 22, Current best: 100.00003691693131, Global best: 100.00003691693131, Runtime: 0.02185 seconds\n",
      "2022/07/06 10:39:57 PM, INFO, mealpy.human_based.TLO.BaseTLO: >Epoch: 23, Current best: 100.00003691693131, Global best: 100.00003691693131, Runtime: 0.01183 seconds\n",
      "2022/07/06 10:39:57 PM, INFO, mealpy.human_based.TLO.BaseTLO: >Epoch: 24, Current best: 100.00003691693131, Global best: 100.00003691693131, Runtime: 0.02541 seconds\n",
      "2022/07/06 10:39:57 PM, INFO, mealpy.human_based.TLO.BaseTLO: >Epoch: 25, Current best: 100.00003691693131, Global best: 100.00003691693131, Runtime: 0.02445 seconds\n",
      "2022/07/06 10:39:57 PM, INFO, mealpy.human_based.TLO.BaseTLO: >Epoch: 26, Current best: 100.00003691693131, Global best: 100.00003691693131, Runtime: 0.02047 seconds\n",
      "2022/07/06 10:39:57 PM, INFO, mealpy.human_based.TLO.BaseTLO: >Epoch: 27, Current best: 100.00003691693131, Global best: 100.00003691693131, Runtime: 0.01551 seconds\n",
      "2022/07/06 10:39:57 PM, INFO, mealpy.human_based.TLO.BaseTLO: >Epoch: 28, Current best: 100.00002891602686, Global best: 100.00002891602686, Runtime: 0.01883 seconds\n",
      "2022/07/06 10:39:57 PM, INFO, mealpy.human_based.TLO.BaseTLO: >Epoch: 29, Current best: 100.00001674548608, Global best: 100.00001674548608, Runtime: 0.01962 seconds\n",
      "2022/07/06 10:39:57 PM, INFO, mealpy.human_based.TLO.BaseTLO: >Epoch: 30, Current best: 100.00001674548608, Global best: 100.00001674548608, Runtime: 0.01965 seconds\n",
      "2022/07/06 10:39:57 PM, INFO, mealpy.human_based.TLO.BaseTLO: >Epoch: 31, Current best: 100.00000807428975, Global best: 100.00000807428975, Runtime: 0.01975 seconds\n",
      "2022/07/06 10:39:57 PM, INFO, mealpy.human_based.TLO.BaseTLO: >Epoch: 32, Current best: 100.00000000649366, Global best: 100.00000000649366, Runtime: 0.01937 seconds\n",
      "2022/07/06 10:39:57 PM, INFO, mealpy.human_based.TLO.BaseTLO: >Epoch: 33, Current best: 100.00000000649366, Global best: 100.00000000649366, Runtime: 0.01216 seconds\n",
      "2022/07/06 10:39:57 PM, INFO, mealpy.human_based.TLO.BaseTLO: >Epoch: 34, Current best: 100.00000000649366, Global best: 100.00000000649366, Runtime: 0.02010 seconds\n",
      "2022/07/06 10:39:57 PM, INFO, mealpy.human_based.TLO.BaseTLO: >Epoch: 35, Current best: 100.00000000649366, Global best: 100.00000000649366, Runtime: 0.01964 seconds\n",
      "2022/07/06 10:39:57 PM, INFO, mealpy.human_based.TLO.BaseTLO: >Epoch: 36, Current best: 100.00000000649366, Global best: 100.00000000649366, Runtime: 0.01661 seconds\n",
      "2022/07/06 10:39:57 PM, INFO, mealpy.human_based.TLO.BaseTLO: >Epoch: 37, Current best: 100.00000000649366, Global best: 100.00000000649366, Runtime: 0.02195 seconds\n",
      "2022/07/06 10:39:57 PM, INFO, mealpy.human_based.TLO.BaseTLO: >Epoch: 38, Current best: 100.0000000054459, Global best: 100.0000000054459, Runtime: 0.02145 seconds\n",
      "2022/07/06 10:39:57 PM, INFO, mealpy.human_based.TLO.BaseTLO: >Epoch: 39, Current best: 100.0000000054459, Global best: 100.0000000054459, Runtime: 0.04599 seconds\n",
      "2022/07/06 10:39:58 PM, INFO, mealpy.human_based.TLO.BaseTLO: >Epoch: 40, Current best: 100.00000000508854, Global best: 100.00000000508854, Runtime: 0.02404 seconds\n",
      "2022/07/06 10:39:58 PM, INFO, mealpy.human_based.TLO.BaseTLO: >Epoch: 41, Current best: 100.00000000508854, Global best: 100.00000000508854, Runtime: 0.02312 seconds\n",
      "2022/07/06 10:39:58 PM, INFO, mealpy.human_based.TLO.BaseTLO: >Epoch: 42, Current best: 100.00000000508854, Global best: 100.00000000508854, Runtime: 0.02468 seconds\n",
      "2022/07/06 10:39:58 PM, INFO, mealpy.human_based.TLO.BaseTLO: >Epoch: 43, Current best: 100.00000000393263, Global best: 100.00000000393263, Runtime: 0.02160 seconds\n",
      "2022/07/06 10:39:58 PM, INFO, mealpy.human_based.TLO.BaseTLO: >Epoch: 44, Current best: 100.00000000048874, Global best: 100.00000000048874, Runtime: 0.01803 seconds\n",
      "2022/07/06 10:39:58 PM, INFO, mealpy.human_based.TLO.BaseTLO: >Epoch: 45, Current best: 100.00000000025378, Global best: 100.00000000025378, Runtime: 0.02205 seconds\n",
      "2022/07/06 10:39:58 PM, INFO, mealpy.human_based.TLO.BaseTLO: >Epoch: 46, Current best: 100.00000000025378, Global best: 100.00000000025378, Runtime: 0.02671 seconds\n",
      "2022/07/06 10:39:58 PM, INFO, mealpy.human_based.TLO.BaseTLO: >Epoch: 47, Current best: 100.00000000002649, Global best: 100.00000000002649, Runtime: 0.02519 seconds\n",
      "2022/07/06 10:39:58 PM, INFO, mealpy.human_based.TLO.BaseTLO: >Epoch: 48, Current best: 100.00000000002649, Global best: 100.00000000002649, Runtime: 0.01755 seconds\n",
      "2022/07/06 10:39:58 PM, INFO, mealpy.human_based.TLO.BaseTLO: >Epoch: 49, Current best: 100.00000000002649, Global best: 100.00000000002649, Runtime: 0.01879 seconds\n"
     ]
    },
    {
     "name": "stderr",
     "output_type": "stream",
     "text": [
      "2022/07/06 10:39:58 PM, INFO, mealpy.human_based.TLO.BaseTLO: >Epoch: 50, Current best: 100.00000000000998, Global best: 100.00000000000998, Runtime: 0.02239 seconds\n",
      "2022/07/06 10:39:58 PM, INFO, mealpy.human_based.TLO.BaseTLO: >Epoch: 51, Current best: 100.00000000000998, Global best: 100.00000000000998, Runtime: 0.02045 seconds\n",
      "2022/07/06 10:39:58 PM, INFO, mealpy.human_based.TLO.BaseTLO: >Epoch: 52, Current best: 100.0000000000018, Global best: 100.0000000000018, Runtime: 0.01690 seconds\n",
      "2022/07/06 10:39:58 PM, INFO, mealpy.human_based.TLO.BaseTLO: >Epoch: 53, Current best: 100.0000000000018, Global best: 100.0000000000018, Runtime: 0.02689 seconds\n",
      "2022/07/06 10:39:58 PM, INFO, mealpy.human_based.TLO.BaseTLO: >Epoch: 54, Current best: 100.0000000000018, Global best: 100.0000000000018, Runtime: 0.01827 seconds\n",
      "2022/07/06 10:39:58 PM, INFO, mealpy.human_based.TLO.BaseTLO: >Epoch: 55, Current best: 100.00000000000028, Global best: 100.00000000000028, Runtime: 0.03216 seconds\n",
      "2022/07/06 10:39:58 PM, INFO, mealpy.human_based.TLO.BaseTLO: >Epoch: 56, Current best: 100.00000000000028, Global best: 100.00000000000028, Runtime: 0.01718 seconds\n",
      "2022/07/06 10:39:58 PM, INFO, mealpy.human_based.TLO.BaseTLO: >Epoch: 57, Current best: 100.00000000000028, Global best: 100.00000000000028, Runtime: 0.01395 seconds\n",
      "2022/07/06 10:39:58 PM, INFO, mealpy.human_based.TLO.BaseTLO: >Epoch: 58, Current best: 100.00000000000028, Global best: 100.00000000000028, Runtime: 0.01568 seconds\n",
      "2022/07/06 10:39:58 PM, INFO, mealpy.human_based.TLO.BaseTLO: >Epoch: 59, Current best: 100.00000000000001, Global best: 100.00000000000001, Runtime: 0.01605 seconds\n",
      "2022/07/06 10:39:58 PM, INFO, mealpy.human_based.TLO.BaseTLO: >Epoch: 60, Current best: 100.00000000000001, Global best: 100.00000000000001, Runtime: 0.01602 seconds\n",
      "2022/07/06 10:39:58 PM, INFO, mealpy.human_based.TLO.BaseTLO: >Epoch: 61, Current best: 100.00000000000001, Global best: 100.00000000000001, Runtime: 0.01327 seconds\n",
      "2022/07/06 10:39:58 PM, INFO, mealpy.human_based.TLO.BaseTLO: >Epoch: 62, Current best: 100.0, Global best: 100.0, Runtime: 0.01179 seconds\n",
      "2022/07/06 10:39:58 PM, INFO, mealpy.human_based.TLO.BaseTLO: >Epoch: 63, Current best: 100.0, Global best: 100.0, Runtime: 0.01247 seconds\n",
      "2022/07/06 10:39:58 PM, INFO, mealpy.human_based.TLO.BaseTLO: >Epoch: 64, Current best: 100.0, Global best: 100.0, Runtime: 0.01286 seconds\n",
      "2022/07/06 10:39:58 PM, INFO, mealpy.human_based.TLO.BaseTLO: >Epoch: 65, Current best: 100.0, Global best: 100.0, Runtime: 0.01326 seconds\n",
      "2022/07/06 10:39:58 PM, INFO, mealpy.human_based.TLO.BaseTLO: >Epoch: 66, Current best: 100.0, Global best: 100.0, Runtime: 0.01544 seconds\n",
      "2022/07/06 10:39:58 PM, INFO, mealpy.human_based.TLO.BaseTLO: >Epoch: 67, Current best: 100.0, Global best: 100.0, Runtime: 0.01363 seconds\n",
      "2022/07/06 10:39:58 PM, INFO, mealpy.human_based.TLO.BaseTLO: >Epoch: 68, Current best: 100.0, Global best: 100.0, Runtime: 0.01277 seconds\n",
      "2022/07/06 10:39:58 PM, INFO, mealpy.human_based.TLO.BaseTLO: >Epoch: 69, Current best: 100.0, Global best: 100.0, Runtime: 0.01373 seconds\n",
      "2022/07/06 10:39:58 PM, INFO, mealpy.human_based.TLO.BaseTLO: >Epoch: 70, Current best: 100.0, Global best: 100.0, Runtime: 0.01257 seconds\n",
      "2022/07/06 10:39:58 PM, INFO, mealpy.human_based.TLO.BaseTLO: >Epoch: 71, Current best: 100.0, Global best: 100.0, Runtime: 0.01151 seconds\n",
      "2022/07/06 10:39:58 PM, INFO, mealpy.human_based.TLO.BaseTLO: >Epoch: 72, Current best: 100.0, Global best: 100.0, Runtime: 0.01205 seconds\n",
      "2022/07/06 10:39:58 PM, INFO, mealpy.human_based.TLO.BaseTLO: >Epoch: 73, Current best: 100.0, Global best: 100.0, Runtime: 0.01449 seconds\n",
      "2022/07/06 10:39:58 PM, INFO, mealpy.human_based.TLO.BaseTLO: >Epoch: 74, Current best: 100.0, Global best: 100.0, Runtime: 0.01275 seconds\n",
      "2022/07/06 10:39:58 PM, INFO, mealpy.human_based.TLO.BaseTLO: >Epoch: 75, Current best: 100.0, Global best: 100.0, Runtime: 0.01185 seconds\n",
      "2022/07/06 10:39:58 PM, INFO, mealpy.human_based.TLO.BaseTLO: >Epoch: 76, Current best: 100.0, Global best: 100.0, Runtime: 0.01293 seconds\n",
      "2022/07/06 10:39:58 PM, INFO, mealpy.human_based.TLO.BaseTLO: >Epoch: 77, Current best: 100.0, Global best: 100.0, Runtime: 0.01168 seconds\n",
      "2022/07/06 10:39:58 PM, INFO, mealpy.human_based.TLO.BaseTLO: >Epoch: 78, Current best: 100.0, Global best: 100.0, Runtime: 0.01117 seconds\n",
      "2022/07/06 10:39:58 PM, INFO, mealpy.human_based.TLO.BaseTLO: >Epoch: 79, Current best: 100.0, Global best: 100.0, Runtime: 0.01086 seconds\n",
      "2022/07/06 10:39:58 PM, INFO, mealpy.human_based.TLO.BaseTLO: >Epoch: 80, Current best: 100.0, Global best: 100.0, Runtime: 0.01309 seconds\n",
      "2022/07/06 10:39:58 PM, INFO, mealpy.human_based.TLO.BaseTLO: >Epoch: 81, Current best: 100.0, Global best: 100.0, Runtime: 0.01365 seconds\n",
      "2022/07/06 10:39:58 PM, INFO, mealpy.human_based.TLO.BaseTLO: >Epoch: 82, Current best: 100.0, Global best: 100.0, Runtime: 0.01100 seconds\n",
      "2022/07/06 10:39:58 PM, INFO, mealpy.human_based.TLO.BaseTLO: >Epoch: 83, Current best: 100.0, Global best: 100.0, Runtime: 0.01044 seconds\n",
      "2022/07/06 10:39:58 PM, INFO, mealpy.human_based.TLO.BaseTLO: >Epoch: 84, Current best: 100.0, Global best: 100.0, Runtime: 0.01077 seconds\n",
      "2022/07/06 10:39:58 PM, INFO, mealpy.human_based.TLO.BaseTLO: >Epoch: 85, Current best: 100.0, Global best: 100.0, Runtime: 0.01240 seconds\n",
      "2022/07/06 10:39:58 PM, INFO, mealpy.human_based.TLO.BaseTLO: >Epoch: 86, Current best: 100.0, Global best: 100.0, Runtime: 0.01192 seconds\n",
      "2022/07/06 10:39:58 PM, INFO, mealpy.human_based.TLO.BaseTLO: >Epoch: 87, Current best: 100.0, Global best: 100.0, Runtime: 0.01185 seconds\n",
      "2022/07/06 10:39:58 PM, INFO, mealpy.human_based.TLO.BaseTLO: >Epoch: 88, Current best: 100.0, Global best: 100.0, Runtime: 0.01112 seconds\n",
      "2022/07/06 10:39:58 PM, INFO, mealpy.human_based.TLO.BaseTLO: >Epoch: 89, Current best: 100.0, Global best: 100.0, Runtime: 0.01151 seconds\n",
      "2022/07/06 10:39:58 PM, INFO, mealpy.human_based.TLO.BaseTLO: >Epoch: 90, Current best: 100.0, Global best: 100.0, Runtime: 0.01180 seconds\n",
      "2022/07/06 10:39:58 PM, INFO, mealpy.human_based.TLO.BaseTLO: >Epoch: 91, Current best: 100.0, Global best: 100.0, Runtime: 0.01562 seconds\n",
      "2022/07/06 10:39:58 PM, INFO, mealpy.human_based.TLO.BaseTLO: >Epoch: 92, Current best: 100.0, Global best: 100.0, Runtime: 0.01163 seconds\n",
      "2022/07/06 10:39:58 PM, INFO, mealpy.human_based.TLO.BaseTLO: >Epoch: 93, Current best: 100.0, Global best: 100.0, Runtime: 0.01159 seconds\n",
      "2022/07/06 10:39:58 PM, INFO, mealpy.human_based.TLO.BaseTLO: >Epoch: 94, Current best: 100.0, Global best: 100.0, Runtime: 0.01054 seconds\n",
      "2022/07/06 10:39:58 PM, INFO, mealpy.human_based.TLO.BaseTLO: >Epoch: 95, Current best: 100.0, Global best: 100.0, Runtime: 0.01102 seconds\n",
      "2022/07/06 10:39:58 PM, INFO, mealpy.human_based.TLO.BaseTLO: >Epoch: 96, Current best: 100.0, Global best: 100.0, Runtime: 0.01263 seconds\n",
      "2022/07/06 10:39:59 PM, INFO, mealpy.human_based.TLO.BaseTLO: >Epoch: 97, Current best: 100.0, Global best: 100.0, Runtime: 0.01075 seconds\n",
      "2022/07/06 10:39:59 PM, INFO, mealpy.human_based.TLO.BaseTLO: >Epoch: 98, Current best: 100.0, Global best: 100.0, Runtime: 0.01371 seconds\n",
      "2022/07/06 10:39:59 PM, INFO, mealpy.human_based.TLO.BaseTLO: >Epoch: 99, Current best: 100.0, Global best: 100.0, Runtime: 0.01141 seconds\n",
      "2022/07/06 10:39:59 PM, INFO, mealpy.human_based.TLO.BaseTLO: >Epoch: 100, Current best: 100.0, Global best: 100.0, Runtime: 0.01069 seconds\n",
      "2022/07/06 10:39:59 PM, INFO, mealpy.human_based.TLO.BaseTLO: Solving single objective optimization problem.\n",
      "2022/07/06 10:39:59 PM, INFO, mealpy.human_based.TLO.BaseTLO: Solving single objective optimization problem.\n",
      "2022/07/06 10:39:59 PM, INFO, mealpy.human_based.TLO.BaseTLO: >Epoch: 1, Current best: 102.87198995571313, Global best: 102.87198995571313, Runtime: 0.01290 seconds\n",
      "2022/07/06 10:39:59 PM, INFO, mealpy.human_based.TLO.BaseTLO: >Epoch: 1, Current best: 102.87198995571313, Global best: 102.87198995571313, Runtime: 0.01290 seconds\n",
      "2022/07/06 10:39:59 PM, INFO, mealpy.human_based.TLO.BaseTLO: >Epoch: 2, Current best: 102.17480369706698, Global best: 102.17480369706698, Runtime: 0.01190 seconds\n",
      "2022/07/06 10:39:59 PM, INFO, mealpy.human_based.TLO.BaseTLO: >Epoch: 2, Current best: 102.17480369706698, Global best: 102.17480369706698, Runtime: 0.01190 seconds\n"
     ]
    },
    {
     "name": "stderr",
     "output_type": "stream",
     "text": [
      "2022/07/06 10:39:59 PM, INFO, mealpy.human_based.TLO.BaseTLO: >Epoch: 3, Current best: 101.9942644676985, Global best: 101.9942644676985, Runtime: 0.01035 seconds\n",
      "2022/07/06 10:39:59 PM, INFO, mealpy.human_based.TLO.BaseTLO: >Epoch: 3, Current best: 101.9942644676985, Global best: 101.9942644676985, Runtime: 0.01035 seconds\n",
      "2022/07/06 10:39:59 PM, INFO, mealpy.human_based.TLO.BaseTLO: >Epoch: 4, Current best: 101.8934429545865, Global best: 101.8934429545865, Runtime: 0.01181 seconds\n",
      "2022/07/06 10:39:59 PM, INFO, mealpy.human_based.TLO.BaseTLO: >Epoch: 4, Current best: 101.8934429545865, Global best: 101.8934429545865, Runtime: 0.01181 seconds\n",
      "2022/07/06 10:39:59 PM, INFO, mealpy.human_based.TLO.BaseTLO: >Epoch: 5, Current best: 101.8934429545865, Global best: 101.8934429545865, Runtime: 0.01359 seconds\n",
      "2022/07/06 10:39:59 PM, INFO, mealpy.human_based.TLO.BaseTLO: >Epoch: 5, Current best: 101.8934429545865, Global best: 101.8934429545865, Runtime: 0.01359 seconds\n",
      "2022/07/06 10:39:59 PM, INFO, mealpy.human_based.TLO.BaseTLO: >Epoch: 6, Current best: 101.06385893087918, Global best: 101.06385893087918, Runtime: 0.01612 seconds\n",
      "2022/07/06 10:39:59 PM, INFO, mealpy.human_based.TLO.BaseTLO: >Epoch: 6, Current best: 101.06385893087918, Global best: 101.06385893087918, Runtime: 0.01612 seconds\n",
      "2022/07/06 10:39:59 PM, INFO, mealpy.human_based.TLO.BaseTLO: >Epoch: 7, Current best: 101.06385893087918, Global best: 101.06385893087918, Runtime: 0.01190 seconds\n",
      "2022/07/06 10:39:59 PM, INFO, mealpy.human_based.TLO.BaseTLO: >Epoch: 7, Current best: 101.06385893087918, Global best: 101.06385893087918, Runtime: 0.01190 seconds\n",
      "2022/07/06 10:39:59 PM, INFO, mealpy.human_based.TLO.BaseTLO: >Epoch: 8, Current best: 101.06385893087918, Global best: 101.06385893087918, Runtime: 0.01167 seconds\n",
      "2022/07/06 10:39:59 PM, INFO, mealpy.human_based.TLO.BaseTLO: >Epoch: 8, Current best: 101.06385893087918, Global best: 101.06385893087918, Runtime: 0.01167 seconds\n",
      "2022/07/06 10:39:59 PM, INFO, mealpy.human_based.TLO.BaseTLO: >Epoch: 9, Current best: 101.04885378891642, Global best: 101.04885378891642, Runtime: 0.01397 seconds\n",
      "2022/07/06 10:39:59 PM, INFO, mealpy.human_based.TLO.BaseTLO: >Epoch: 9, Current best: 101.04885378891642, Global best: 101.04885378891642, Runtime: 0.01397 seconds\n",
      "2022/07/06 10:39:59 PM, INFO, mealpy.human_based.TLO.BaseTLO: >Epoch: 10, Current best: 101.04885378891642, Global best: 101.04885378891642, Runtime: 0.01220 seconds\n",
      "2022/07/06 10:39:59 PM, INFO, mealpy.human_based.TLO.BaseTLO: >Epoch: 10, Current best: 101.04885378891642, Global best: 101.04885378891642, Runtime: 0.01220 seconds\n",
      "2022/07/06 10:39:59 PM, INFO, mealpy.human_based.TLO.BaseTLO: >Epoch: 11, Current best: 101.04830092977468, Global best: 101.04830092977468, Runtime: 0.01268 seconds\n",
      "2022/07/06 10:39:59 PM, INFO, mealpy.human_based.TLO.BaseTLO: >Epoch: 11, Current best: 101.04830092977468, Global best: 101.04830092977468, Runtime: 0.01268 seconds\n",
      "2022/07/06 10:39:59 PM, INFO, mealpy.human_based.TLO.BaseTLO: >Epoch: 12, Current best: 101.04830092977468, Global best: 101.04830092977468, Runtime: 0.01013 seconds\n",
      "2022/07/06 10:39:59 PM, INFO, mealpy.human_based.TLO.BaseTLO: >Epoch: 12, Current best: 101.04830092977468, Global best: 101.04830092977468, Runtime: 0.01013 seconds\n"
     ]
    },
    {
     "name": "stdout",
     "output_type": "stream",
     "text": [
      "Solution: [ 2.32450305e-09  1.11580884e-10  0.00000000e+00 -1.00000000e+01], Fitness: 100.0\n"
     ]
    },
    {
     "name": "stderr",
     "output_type": "stream",
     "text": [
      "2022/07/06 10:39:59 PM, INFO, mealpy.human_based.TLO.BaseTLO: >Epoch: 13, Current best: 101.04830092977468, Global best: 101.04830092977468, Runtime: 0.01168 seconds\n",
      "2022/07/06 10:39:59 PM, INFO, mealpy.human_based.TLO.BaseTLO: >Epoch: 13, Current best: 101.04830092977468, Global best: 101.04830092977468, Runtime: 0.01168 seconds\n",
      "2022/07/06 10:39:59 PM, INFO, mealpy.human_based.TLO.BaseTLO: >Epoch: 14, Current best: 101.03275320311621, Global best: 101.03275320311621, Runtime: 0.01196 seconds\n",
      "2022/07/06 10:39:59 PM, INFO, mealpy.human_based.TLO.BaseTLO: >Epoch: 14, Current best: 101.03275320311621, Global best: 101.03275320311621, Runtime: 0.01196 seconds\n",
      "2022/07/06 10:39:59 PM, INFO, mealpy.human_based.TLO.BaseTLO: >Epoch: 15, Current best: 100.18755628224943, Global best: 100.18755628224943, Runtime: 0.01184 seconds\n",
      "2022/07/06 10:39:59 PM, INFO, mealpy.human_based.TLO.BaseTLO: >Epoch: 15, Current best: 100.18755628224943, Global best: 100.18755628224943, Runtime: 0.01184 seconds\n",
      "2022/07/06 10:39:59 PM, INFO, mealpy.human_based.TLO.BaseTLO: >Epoch: 16, Current best: 100.00590586303062, Global best: 100.00590586303062, Runtime: 0.01416 seconds\n",
      "2022/07/06 10:39:59 PM, INFO, mealpy.human_based.TLO.BaseTLO: >Epoch: 16, Current best: 100.00590586303062, Global best: 100.00590586303062, Runtime: 0.01416 seconds\n",
      "2022/07/06 10:39:59 PM, INFO, mealpy.human_based.TLO.BaseTLO: >Epoch: 17, Current best: 100.00590586303062, Global best: 100.00590586303062, Runtime: 0.01171 seconds\n",
      "2022/07/06 10:39:59 PM, INFO, mealpy.human_based.TLO.BaseTLO: >Epoch: 17, Current best: 100.00590586303062, Global best: 100.00590586303062, Runtime: 0.01171 seconds\n",
      "2022/07/06 10:39:59 PM, INFO, mealpy.human_based.TLO.BaseTLO: >Epoch: 18, Current best: 100.00590586303062, Global best: 100.00590586303062, Runtime: 0.00990 seconds\n",
      "2022/07/06 10:39:59 PM, INFO, mealpy.human_based.TLO.BaseTLO: >Epoch: 18, Current best: 100.00590586303062, Global best: 100.00590586303062, Runtime: 0.00990 seconds\n",
      "2022/07/06 10:39:59 PM, INFO, mealpy.human_based.TLO.BaseTLO: >Epoch: 19, Current best: 100.00590586303062, Global best: 100.00590586303062, Runtime: 0.01025 seconds\n",
      "2022/07/06 10:39:59 PM, INFO, mealpy.human_based.TLO.BaseTLO: >Epoch: 19, Current best: 100.00590586303062, Global best: 100.00590586303062, Runtime: 0.01025 seconds\n",
      "2022/07/06 10:39:59 PM, INFO, mealpy.human_based.TLO.BaseTLO: >Epoch: 20, Current best: 100.00590586303062, Global best: 100.00590586303062, Runtime: 0.01344 seconds\n",
      "2022/07/06 10:39:59 PM, INFO, mealpy.human_based.TLO.BaseTLO: >Epoch: 20, Current best: 100.00590586303062, Global best: 100.00590586303062, Runtime: 0.01344 seconds\n",
      "2022/07/06 10:39:59 PM, INFO, mealpy.human_based.TLO.BaseTLO: >Epoch: 21, Current best: 100.00590586303062, Global best: 100.00590586303062, Runtime: 0.01062 seconds\n",
      "2022/07/06 10:39:59 PM, INFO, mealpy.human_based.TLO.BaseTLO: >Epoch: 21, Current best: 100.00590586303062, Global best: 100.00590586303062, Runtime: 0.01062 seconds\n",
      "2022/07/06 10:39:59 PM, INFO, mealpy.human_based.TLO.BaseTLO: >Epoch: 22, Current best: 100.00590586303062, Global best: 100.00590586303062, Runtime: 0.01117 seconds\n",
      "2022/07/06 10:39:59 PM, INFO, mealpy.human_based.TLO.BaseTLO: >Epoch: 22, Current best: 100.00590586303062, Global best: 100.00590586303062, Runtime: 0.01117 seconds\n",
      "2022/07/06 10:39:59 PM, INFO, mealpy.human_based.TLO.BaseTLO: >Epoch: 23, Current best: 100.00590586303062, Global best: 100.00590586303062, Runtime: 0.01015 seconds\n",
      "2022/07/06 10:39:59 PM, INFO, mealpy.human_based.TLO.BaseTLO: >Epoch: 23, Current best: 100.00590586303062, Global best: 100.00590586303062, Runtime: 0.01015 seconds\n",
      "2022/07/06 10:39:59 PM, INFO, mealpy.human_based.TLO.BaseTLO: >Epoch: 24, Current best: 100.00551735497488, Global best: 100.00551735497488, Runtime: 0.01305 seconds\n",
      "2022/07/06 10:39:59 PM, INFO, mealpy.human_based.TLO.BaseTLO: >Epoch: 24, Current best: 100.00551735497488, Global best: 100.00551735497488, Runtime: 0.01305 seconds\n",
      "2022/07/06 10:39:59 PM, INFO, mealpy.human_based.TLO.BaseTLO: >Epoch: 25, Current best: 100.00070227203621, Global best: 100.00070227203621, Runtime: 0.01001 seconds\n",
      "2022/07/06 10:39:59 PM, INFO, mealpy.human_based.TLO.BaseTLO: >Epoch: 25, Current best: 100.00070227203621, Global best: 100.00070227203621, Runtime: 0.01001 seconds\n",
      "2022/07/06 10:39:59 PM, INFO, mealpy.human_based.TLO.BaseTLO: >Epoch: 26, Current best: 100.00070227203621, Global best: 100.00070227203621, Runtime: 0.01159 seconds\n",
      "2022/07/06 10:39:59 PM, INFO, mealpy.human_based.TLO.BaseTLO: >Epoch: 26, Current best: 100.00070227203621, Global best: 100.00070227203621, Runtime: 0.01159 seconds\n",
      "2022/07/06 10:39:59 PM, INFO, mealpy.human_based.TLO.BaseTLO: >Epoch: 27, Current best: 100.00070227203621, Global best: 100.00070227203621, Runtime: 0.01089 seconds\n",
      "2022/07/06 10:39:59 PM, INFO, mealpy.human_based.TLO.BaseTLO: >Epoch: 27, Current best: 100.00070227203621, Global best: 100.00070227203621, Runtime: 0.01089 seconds\n",
      "2022/07/06 10:39:59 PM, INFO, mealpy.human_based.TLO.BaseTLO: >Epoch: 28, Current best: 100.00070227203621, Global best: 100.00070227203621, Runtime: 0.01150 seconds\n",
      "2022/07/06 10:39:59 PM, INFO, mealpy.human_based.TLO.BaseTLO: >Epoch: 28, Current best: 100.00070227203621, Global best: 100.00070227203621, Runtime: 0.01150 seconds\n",
      "2022/07/06 10:39:59 PM, INFO, mealpy.human_based.TLO.BaseTLO: >Epoch: 29, Current best: 100.00070227203621, Global best: 100.00070227203621, Runtime: 0.01043 seconds\n",
      "2022/07/06 10:39:59 PM, INFO, mealpy.human_based.TLO.BaseTLO: >Epoch: 29, Current best: 100.00070227203621, Global best: 100.00070227203621, Runtime: 0.01043 seconds\n",
      "2022/07/06 10:39:59 PM, INFO, mealpy.human_based.TLO.BaseTLO: >Epoch: 30, Current best: 100.00070227203621, Global best: 100.00070227203621, Runtime: 0.01072 seconds\n",
      "2022/07/06 10:39:59 PM, INFO, mealpy.human_based.TLO.BaseTLO: >Epoch: 30, Current best: 100.00070227203621, Global best: 100.00070227203621, Runtime: 0.01072 seconds\n",
      "2022/07/06 10:39:59 PM, INFO, mealpy.human_based.TLO.BaseTLO: >Epoch: 31, Current best: 100.00070227203621, Global best: 100.00070227203621, Runtime: 0.01121 seconds\n",
      "2022/07/06 10:39:59 PM, INFO, mealpy.human_based.TLO.BaseTLO: >Epoch: 31, Current best: 100.00070227203621, Global best: 100.00070227203621, Runtime: 0.01121 seconds\n",
      "2022/07/06 10:39:59 PM, INFO, mealpy.human_based.TLO.BaseTLO: >Epoch: 32, Current best: 100.00070227203621, Global best: 100.00070227203621, Runtime: 0.01068 seconds\n",
      "2022/07/06 10:39:59 PM, INFO, mealpy.human_based.TLO.BaseTLO: >Epoch: 32, Current best: 100.00070227203621, Global best: 100.00070227203621, Runtime: 0.01068 seconds\n",
      "2022/07/06 10:39:59 PM, INFO, mealpy.human_based.TLO.BaseTLO: >Epoch: 33, Current best: 100.00070227203621, Global best: 100.00070227203621, Runtime: 0.01269 seconds\n",
      "2022/07/06 10:39:59 PM, INFO, mealpy.human_based.TLO.BaseTLO: >Epoch: 33, Current best: 100.00070227203621, Global best: 100.00070227203621, Runtime: 0.01269 seconds\n",
      "2022/07/06 10:39:59 PM, INFO, mealpy.human_based.TLO.BaseTLO: >Epoch: 34, Current best: 100.00070227203621, Global best: 100.00070227203621, Runtime: 0.00937 seconds\n",
      "2022/07/06 10:39:59 PM, INFO, mealpy.human_based.TLO.BaseTLO: >Epoch: 34, Current best: 100.00070227203621, Global best: 100.00070227203621, Runtime: 0.00937 seconds\n",
      "2022/07/06 10:39:59 PM, INFO, mealpy.human_based.TLO.BaseTLO: >Epoch: 35, Current best: 100.00070227203621, Global best: 100.00070227203621, Runtime: 0.01040 seconds\n",
      "2022/07/06 10:39:59 PM, INFO, mealpy.human_based.TLO.BaseTLO: >Epoch: 35, Current best: 100.00070227203621, Global best: 100.00070227203621, Runtime: 0.01040 seconds\n",
      "2022/07/06 10:39:59 PM, INFO, mealpy.human_based.TLO.BaseTLO: >Epoch: 36, Current best: 100.0004293127088, Global best: 100.0004293127088, Runtime: 0.01145 seconds\n",
      "2022/07/06 10:39:59 PM, INFO, mealpy.human_based.TLO.BaseTLO: >Epoch: 36, Current best: 100.0004293127088, Global best: 100.0004293127088, Runtime: 0.01145 seconds\n",
      "2022/07/06 10:39:59 PM, INFO, mealpy.human_based.TLO.BaseTLO: >Epoch: 37, Current best: 100.0004293127088, Global best: 100.0004293127088, Runtime: 0.01155 seconds\n",
      "2022/07/06 10:39:59 PM, INFO, mealpy.human_based.TLO.BaseTLO: >Epoch: 37, Current best: 100.0004293127088, Global best: 100.0004293127088, Runtime: 0.01155 seconds\n"
     ]
    },
    {
     "name": "stderr",
     "output_type": "stream",
     "text": [
      "2022/07/06 10:39:59 PM, INFO, mealpy.human_based.TLO.BaseTLO: >Epoch: 38, Current best: 100.0004293127088, Global best: 100.0004293127088, Runtime: 0.01222 seconds\n",
      "2022/07/06 10:39:59 PM, INFO, mealpy.human_based.TLO.BaseTLO: >Epoch: 38, Current best: 100.0004293127088, Global best: 100.0004293127088, Runtime: 0.01222 seconds\n",
      "2022/07/06 10:39:59 PM, INFO, mealpy.human_based.TLO.BaseTLO: >Epoch: 39, Current best: 100.0004293127088, Global best: 100.0004293127088, Runtime: 0.01285 seconds\n",
      "2022/07/06 10:39:59 PM, INFO, mealpy.human_based.TLO.BaseTLO: >Epoch: 39, Current best: 100.0004293127088, Global best: 100.0004293127088, Runtime: 0.01285 seconds\n",
      "2022/07/06 10:39:59 PM, INFO, mealpy.human_based.TLO.BaseTLO: >Epoch: 40, Current best: 100.0001969166308, Global best: 100.0001969166308, Runtime: 0.01007 seconds\n",
      "2022/07/06 10:39:59 PM, INFO, mealpy.human_based.TLO.BaseTLO: >Epoch: 40, Current best: 100.0001969166308, Global best: 100.0001969166308, Runtime: 0.01007 seconds\n",
      "2022/07/06 10:39:59 PM, INFO, mealpy.human_based.TLO.BaseTLO: >Epoch: 41, Current best: 100.0001969166308, Global best: 100.0001969166308, Runtime: 0.01023 seconds\n",
      "2022/07/06 10:39:59 PM, INFO, mealpy.human_based.TLO.BaseTLO: >Epoch: 41, Current best: 100.0001969166308, Global best: 100.0001969166308, Runtime: 0.01023 seconds\n",
      "2022/07/06 10:39:59 PM, INFO, mealpy.human_based.TLO.BaseTLO: >Epoch: 42, Current best: 100.0001969166308, Global best: 100.0001969166308, Runtime: 0.01263 seconds\n",
      "2022/07/06 10:39:59 PM, INFO, mealpy.human_based.TLO.BaseTLO: >Epoch: 42, Current best: 100.0001969166308, Global best: 100.0001969166308, Runtime: 0.01263 seconds\n",
      "2022/07/06 10:39:59 PM, INFO, mealpy.human_based.TLO.BaseTLO: >Epoch: 43, Current best: 100.0001969166308, Global best: 100.0001969166308, Runtime: 0.01074 seconds\n",
      "2022/07/06 10:39:59 PM, INFO, mealpy.human_based.TLO.BaseTLO: >Epoch: 43, Current best: 100.0001969166308, Global best: 100.0001969166308, Runtime: 0.01074 seconds\n",
      "2022/07/06 10:39:59 PM, INFO, mealpy.human_based.TLO.BaseTLO: >Epoch: 44, Current best: 100.0001969166308, Global best: 100.0001969166308, Runtime: 0.01127 seconds\n",
      "2022/07/06 10:39:59 PM, INFO, mealpy.human_based.TLO.BaseTLO: >Epoch: 44, Current best: 100.0001969166308, Global best: 100.0001969166308, Runtime: 0.01127 seconds\n",
      "2022/07/06 10:39:59 PM, INFO, mealpy.human_based.TLO.BaseTLO: >Epoch: 45, Current best: 100.00013854135032, Global best: 100.00013854135032, Runtime: 0.00993 seconds\n",
      "2022/07/06 10:39:59 PM, INFO, mealpy.human_based.TLO.BaseTLO: >Epoch: 45, Current best: 100.00013854135032, Global best: 100.00013854135032, Runtime: 0.00993 seconds\n",
      "2022/07/06 10:39:59 PM, INFO, mealpy.human_based.TLO.BaseTLO: >Epoch: 46, Current best: 100.00013854135032, Global best: 100.00013854135032, Runtime: 0.01065 seconds\n",
      "2022/07/06 10:39:59 PM, INFO, mealpy.human_based.TLO.BaseTLO: >Epoch: 46, Current best: 100.00013854135032, Global best: 100.00013854135032, Runtime: 0.01065 seconds\n",
      "2022/07/06 10:39:59 PM, INFO, mealpy.human_based.TLO.BaseTLO: >Epoch: 47, Current best: 100.00013854135032, Global best: 100.00013854135032, Runtime: 0.01165 seconds\n",
      "2022/07/06 10:39:59 PM, INFO, mealpy.human_based.TLO.BaseTLO: >Epoch: 47, Current best: 100.00013854135032, Global best: 100.00013854135032, Runtime: 0.01165 seconds\n",
      "2022/07/06 10:39:59 PM, INFO, mealpy.human_based.TLO.BaseTLO: >Epoch: 48, Current best: 100.00013854135032, Global best: 100.00013854135032, Runtime: 0.01180 seconds\n",
      "2022/07/06 10:39:59 PM, INFO, mealpy.human_based.TLO.BaseTLO: >Epoch: 48, Current best: 100.00013854135032, Global best: 100.00013854135032, Runtime: 0.01180 seconds\n",
      "2022/07/06 10:39:59 PM, INFO, mealpy.human_based.TLO.BaseTLO: >Epoch: 49, Current best: 100.00011793394222, Global best: 100.00011793394222, Runtime: 0.01174 seconds\n",
      "2022/07/06 10:39:59 PM, INFO, mealpy.human_based.TLO.BaseTLO: >Epoch: 49, Current best: 100.00011793394222, Global best: 100.00011793394222, Runtime: 0.01174 seconds\n",
      "2022/07/06 10:39:59 PM, INFO, mealpy.human_based.TLO.BaseTLO: >Epoch: 50, Current best: 100.00002111394502, Global best: 100.00002111394502, Runtime: 0.00993 seconds\n",
      "2022/07/06 10:39:59 PM, INFO, mealpy.human_based.TLO.BaseTLO: >Epoch: 50, Current best: 100.00002111394502, Global best: 100.00002111394502, Runtime: 0.00993 seconds\n",
      "2022/07/06 10:39:59 PM, INFO, mealpy.human_based.TLO.BaseTLO: >Epoch: 51, Current best: 100.00002111394502, Global best: 100.00002111394502, Runtime: 0.01003 seconds\n",
      "2022/07/06 10:39:59 PM, INFO, mealpy.human_based.TLO.BaseTLO: >Epoch: 51, Current best: 100.00002111394502, Global best: 100.00002111394502, Runtime: 0.01003 seconds\n",
      "2022/07/06 10:39:59 PM, INFO, mealpy.human_based.TLO.BaseTLO: >Epoch: 52, Current best: 100.00002111394502, Global best: 100.00002111394502, Runtime: 0.01073 seconds\n",
      "2022/07/06 10:39:59 PM, INFO, mealpy.human_based.TLO.BaseTLO: >Epoch: 52, Current best: 100.00002111394502, Global best: 100.00002111394502, Runtime: 0.01073 seconds\n",
      "2022/07/06 10:39:59 PM, INFO, mealpy.human_based.TLO.BaseTLO: >Epoch: 53, Current best: 100.00000775214644, Global best: 100.00000775214644, Runtime: 0.01287 seconds\n",
      "2022/07/06 10:39:59 PM, INFO, mealpy.human_based.TLO.BaseTLO: >Epoch: 53, Current best: 100.00000775214644, Global best: 100.00000775214644, Runtime: 0.01287 seconds\n",
      "2022/07/06 10:39:59 PM, INFO, mealpy.human_based.TLO.BaseTLO: >Epoch: 54, Current best: 100.00000057418674, Global best: 100.00000057418674, Runtime: 0.01427 seconds\n",
      "2022/07/06 10:39:59 PM, INFO, mealpy.human_based.TLO.BaseTLO: >Epoch: 54, Current best: 100.00000057418674, Global best: 100.00000057418674, Runtime: 0.01427 seconds\n",
      "2022/07/06 10:39:59 PM, INFO, mealpy.human_based.TLO.BaseTLO: >Epoch: 55, Current best: 100.00000057418674, Global best: 100.00000057418674, Runtime: 0.01286 seconds\n",
      "2022/07/06 10:39:59 PM, INFO, mealpy.human_based.TLO.BaseTLO: >Epoch: 55, Current best: 100.00000057418674, Global best: 100.00000057418674, Runtime: 0.01286 seconds\n",
      "2022/07/06 10:39:59 PM, INFO, mealpy.human_based.TLO.BaseTLO: >Epoch: 56, Current best: 100.00000057418674, Global best: 100.00000057418674, Runtime: 0.01026 seconds\n",
      "2022/07/06 10:39:59 PM, INFO, mealpy.human_based.TLO.BaseTLO: >Epoch: 56, Current best: 100.00000057418674, Global best: 100.00000057418674, Runtime: 0.01026 seconds\n",
      "2022/07/06 10:39:59 PM, INFO, mealpy.human_based.TLO.BaseTLO: >Epoch: 57, Current best: 100.00000023429901, Global best: 100.00000023429901, Runtime: 0.01015 seconds\n",
      "2022/07/06 10:39:59 PM, INFO, mealpy.human_based.TLO.BaseTLO: >Epoch: 57, Current best: 100.00000023429901, Global best: 100.00000023429901, Runtime: 0.01015 seconds\n",
      "2022/07/06 10:39:59 PM, INFO, mealpy.human_based.TLO.BaseTLO: >Epoch: 58, Current best: 100.00000023429901, Global best: 100.00000023429901, Runtime: 0.01632 seconds\n",
      "2022/07/06 10:39:59 PM, INFO, mealpy.human_based.TLO.BaseTLO: >Epoch: 58, Current best: 100.00000023429901, Global best: 100.00000023429901, Runtime: 0.01632 seconds\n",
      "2022/07/06 10:39:59 PM, INFO, mealpy.human_based.TLO.BaseTLO: >Epoch: 59, Current best: 100.00000014010182, Global best: 100.00000014010182, Runtime: 0.01060 seconds\n",
      "2022/07/06 10:39:59 PM, INFO, mealpy.human_based.TLO.BaseTLO: >Epoch: 59, Current best: 100.00000014010182, Global best: 100.00000014010182, Runtime: 0.01060 seconds\n",
      "2022/07/06 10:39:59 PM, INFO, mealpy.human_based.TLO.BaseTLO: >Epoch: 60, Current best: 100.00000014010182, Global best: 100.00000014010182, Runtime: 0.01163 seconds\n",
      "2022/07/06 10:39:59 PM, INFO, mealpy.human_based.TLO.BaseTLO: >Epoch: 60, Current best: 100.00000014010182, Global best: 100.00000014010182, Runtime: 0.01163 seconds\n",
      "2022/07/06 10:39:59 PM, INFO, mealpy.human_based.TLO.BaseTLO: >Epoch: 61, Current best: 100.00000014010182, Global best: 100.00000014010182, Runtime: 0.01111 seconds\n",
      "2022/07/06 10:39:59 PM, INFO, mealpy.human_based.TLO.BaseTLO: >Epoch: 61, Current best: 100.00000014010182, Global best: 100.00000014010182, Runtime: 0.01111 seconds\n",
      "2022/07/06 10:39:59 PM, INFO, mealpy.human_based.TLO.BaseTLO: >Epoch: 62, Current best: 100.00000014010182, Global best: 100.00000014010182, Runtime: 0.01111 seconds\n",
      "2022/07/06 10:39:59 PM, INFO, mealpy.human_based.TLO.BaseTLO: >Epoch: 62, Current best: 100.00000014010182, Global best: 100.00000014010182, Runtime: 0.01111 seconds\n"
     ]
    },
    {
     "name": "stderr",
     "output_type": "stream",
     "text": [
      "2022/07/06 10:39:59 PM, INFO, mealpy.human_based.TLO.BaseTLO: >Epoch: 63, Current best: 100.00000014010182, Global best: 100.00000014010182, Runtime: 0.01064 seconds\n",
      "2022/07/06 10:39:59 PM, INFO, mealpy.human_based.TLO.BaseTLO: >Epoch: 63, Current best: 100.00000014010182, Global best: 100.00000014010182, Runtime: 0.01064 seconds\n",
      "2022/07/06 10:39:59 PM, INFO, mealpy.human_based.TLO.BaseTLO: >Epoch: 64, Current best: 100.00000000015174, Global best: 100.00000000015174, Runtime: 0.01188 seconds\n",
      "2022/07/06 10:39:59 PM, INFO, mealpy.human_based.TLO.BaseTLO: >Epoch: 64, Current best: 100.00000000015174, Global best: 100.00000000015174, Runtime: 0.01188 seconds\n",
      "2022/07/06 10:39:59 PM, INFO, mealpy.human_based.TLO.BaseTLO: >Epoch: 65, Current best: 100.00000000015174, Global best: 100.00000000015174, Runtime: 0.01245 seconds\n",
      "2022/07/06 10:39:59 PM, INFO, mealpy.human_based.TLO.BaseTLO: >Epoch: 65, Current best: 100.00000000015174, Global best: 100.00000000015174, Runtime: 0.01245 seconds\n",
      "2022/07/06 10:39:59 PM, INFO, mealpy.human_based.TLO.BaseTLO: >Epoch: 66, Current best: 100.00000000015174, Global best: 100.00000000015174, Runtime: 0.01159 seconds\n",
      "2022/07/06 10:39:59 PM, INFO, mealpy.human_based.TLO.BaseTLO: >Epoch: 66, Current best: 100.00000000015174, Global best: 100.00000000015174, Runtime: 0.01159 seconds\n",
      "2022/07/06 10:39:59 PM, INFO, mealpy.human_based.TLO.BaseTLO: >Epoch: 67, Current best: 100.00000000015174, Global best: 100.00000000015174, Runtime: 0.01156 seconds\n",
      "2022/07/06 10:39:59 PM, INFO, mealpy.human_based.TLO.BaseTLO: >Epoch: 67, Current best: 100.00000000015174, Global best: 100.00000000015174, Runtime: 0.01156 seconds\n",
      "2022/07/06 10:39:59 PM, INFO, mealpy.human_based.TLO.BaseTLO: >Epoch: 68, Current best: 100.00000000015174, Global best: 100.00000000015174, Runtime: 0.01220 seconds\n",
      "2022/07/06 10:39:59 PM, INFO, mealpy.human_based.TLO.BaseTLO: >Epoch: 68, Current best: 100.00000000015174, Global best: 100.00000000015174, Runtime: 0.01220 seconds\n",
      "2022/07/06 10:40:00 PM, INFO, mealpy.human_based.TLO.BaseTLO: >Epoch: 69, Current best: 100.00000000015174, Global best: 100.00000000015174, Runtime: 0.01124 seconds\n",
      "2022/07/06 10:40:00 PM, INFO, mealpy.human_based.TLO.BaseTLO: >Epoch: 69, Current best: 100.00000000015174, Global best: 100.00000000015174, Runtime: 0.01124 seconds\n",
      "2022/07/06 10:40:00 PM, INFO, mealpy.human_based.TLO.BaseTLO: >Epoch: 70, Current best: 100.00000000015174, Global best: 100.00000000015174, Runtime: 0.01187 seconds\n",
      "2022/07/06 10:40:00 PM, INFO, mealpy.human_based.TLO.BaseTLO: >Epoch: 70, Current best: 100.00000000015174, Global best: 100.00000000015174, Runtime: 0.01187 seconds\n",
      "2022/07/06 10:40:00 PM, INFO, mealpy.human_based.TLO.BaseTLO: >Epoch: 71, Current best: 100.00000000015174, Global best: 100.00000000015174, Runtime: 0.01065 seconds\n",
      "2022/07/06 10:40:00 PM, INFO, mealpy.human_based.TLO.BaseTLO: >Epoch: 71, Current best: 100.00000000015174, Global best: 100.00000000015174, Runtime: 0.01065 seconds\n",
      "2022/07/06 10:40:00 PM, INFO, mealpy.human_based.TLO.BaseTLO: >Epoch: 72, Current best: 100.00000000015174, Global best: 100.00000000015174, Runtime: 0.01556 seconds\n",
      "2022/07/06 10:40:00 PM, INFO, mealpy.human_based.TLO.BaseTLO: >Epoch: 72, Current best: 100.00000000015174, Global best: 100.00000000015174, Runtime: 0.01556 seconds\n",
      "2022/07/06 10:40:00 PM, INFO, mealpy.human_based.TLO.BaseTLO: >Epoch: 73, Current best: 100.00000000015174, Global best: 100.00000000015174, Runtime: 0.01286 seconds\n",
      "2022/07/06 10:40:00 PM, INFO, mealpy.human_based.TLO.BaseTLO: >Epoch: 73, Current best: 100.00000000015174, Global best: 100.00000000015174, Runtime: 0.01286 seconds\n",
      "2022/07/06 10:40:00 PM, INFO, mealpy.human_based.TLO.BaseTLO: >Epoch: 74, Current best: 100.00000000015174, Global best: 100.00000000015174, Runtime: 0.01165 seconds\n",
      "2022/07/06 10:40:00 PM, INFO, mealpy.human_based.TLO.BaseTLO: >Epoch: 74, Current best: 100.00000000015174, Global best: 100.00000000015174, Runtime: 0.01165 seconds\n",
      "2022/07/06 10:40:00 PM, INFO, mealpy.human_based.TLO.BaseTLO: >Epoch: 75, Current best: 100.00000000015174, Global best: 100.00000000015174, Runtime: 0.01116 seconds\n",
      "2022/07/06 10:40:00 PM, INFO, mealpy.human_based.TLO.BaseTLO: >Epoch: 75, Current best: 100.00000000015174, Global best: 100.00000000015174, Runtime: 0.01116 seconds\n",
      "2022/07/06 10:40:00 PM, INFO, mealpy.human_based.TLO.BaseTLO: >Epoch: 76, Current best: 100.00000000015174, Global best: 100.00000000015174, Runtime: 0.01003 seconds\n",
      "2022/07/06 10:40:00 PM, INFO, mealpy.human_based.TLO.BaseTLO: >Epoch: 76, Current best: 100.00000000015174, Global best: 100.00000000015174, Runtime: 0.01003 seconds\n",
      "2022/07/06 10:40:00 PM, INFO, mealpy.human_based.TLO.BaseTLO: >Epoch: 77, Current best: 100.00000000015174, Global best: 100.00000000015174, Runtime: 0.01069 seconds\n",
      "2022/07/06 10:40:00 PM, INFO, mealpy.human_based.TLO.BaseTLO: >Epoch: 77, Current best: 100.00000000015174, Global best: 100.00000000015174, Runtime: 0.01069 seconds\n",
      "2022/07/06 10:40:00 PM, INFO, mealpy.human_based.TLO.BaseTLO: >Epoch: 78, Current best: 100.00000000015174, Global best: 100.00000000015174, Runtime: 0.01277 seconds\n",
      "2022/07/06 10:40:00 PM, INFO, mealpy.human_based.TLO.BaseTLO: >Epoch: 78, Current best: 100.00000000015174, Global best: 100.00000000015174, Runtime: 0.01277 seconds\n",
      "2022/07/06 10:40:00 PM, INFO, mealpy.human_based.TLO.BaseTLO: >Epoch: 79, Current best: 100.00000000012548, Global best: 100.00000000012548, Runtime: 0.01161 seconds\n",
      "2022/07/06 10:40:00 PM, INFO, mealpy.human_based.TLO.BaseTLO: >Epoch: 79, Current best: 100.00000000012548, Global best: 100.00000000012548, Runtime: 0.01161 seconds\n",
      "2022/07/06 10:40:00 PM, INFO, mealpy.human_based.TLO.BaseTLO: >Epoch: 80, Current best: 100.00000000005853, Global best: 100.00000000005853, Runtime: 0.01114 seconds\n",
      "2022/07/06 10:40:00 PM, INFO, mealpy.human_based.TLO.BaseTLO: >Epoch: 80, Current best: 100.00000000005853, Global best: 100.00000000005853, Runtime: 0.01114 seconds\n",
      "2022/07/06 10:40:00 PM, INFO, mealpy.human_based.TLO.BaseTLO: >Epoch: 81, Current best: 100.00000000003753, Global best: 100.00000000003753, Runtime: 0.01461 seconds\n",
      "2022/07/06 10:40:00 PM, INFO, mealpy.human_based.TLO.BaseTLO: >Epoch: 81, Current best: 100.00000000003753, Global best: 100.00000000003753, Runtime: 0.01461 seconds\n",
      "2022/07/06 10:40:00 PM, INFO, mealpy.human_based.TLO.BaseTLO: >Epoch: 82, Current best: 100.00000000001384, Global best: 100.00000000001384, Runtime: 0.01235 seconds\n",
      "2022/07/06 10:40:00 PM, INFO, mealpy.human_based.TLO.BaseTLO: >Epoch: 82, Current best: 100.00000000001384, Global best: 100.00000000001384, Runtime: 0.01235 seconds\n",
      "2022/07/06 10:40:00 PM, INFO, mealpy.human_based.TLO.BaseTLO: >Epoch: 83, Current best: 100.00000000001384, Global best: 100.00000000001384, Runtime: 0.01287 seconds\n",
      "2022/07/06 10:40:00 PM, INFO, mealpy.human_based.TLO.BaseTLO: >Epoch: 83, Current best: 100.00000000001384, Global best: 100.00000000001384, Runtime: 0.01287 seconds\n",
      "2022/07/06 10:40:00 PM, INFO, mealpy.human_based.TLO.BaseTLO: >Epoch: 84, Current best: 100.00000000000092, Global best: 100.00000000000092, Runtime: 0.01005 seconds\n",
      "2022/07/06 10:40:00 PM, INFO, mealpy.human_based.TLO.BaseTLO: >Epoch: 84, Current best: 100.00000000000092, Global best: 100.00000000000092, Runtime: 0.01005 seconds\n",
      "2022/07/06 10:40:00 PM, INFO, mealpy.human_based.TLO.BaseTLO: >Epoch: 85, Current best: 100.00000000000092, Global best: 100.00000000000092, Runtime: 0.01475 seconds\n",
      "2022/07/06 10:40:00 PM, INFO, mealpy.human_based.TLO.BaseTLO: >Epoch: 85, Current best: 100.00000000000092, Global best: 100.00000000000092, Runtime: 0.01475 seconds\n",
      "2022/07/06 10:40:00 PM, INFO, mealpy.human_based.TLO.BaseTLO: >Epoch: 86, Current best: 100.00000000000037, Global best: 100.00000000000037, Runtime: 0.01110 seconds\n",
      "2022/07/06 10:40:00 PM, INFO, mealpy.human_based.TLO.BaseTLO: >Epoch: 86, Current best: 100.00000000000037, Global best: 100.00000000000037, Runtime: 0.01110 seconds\n",
      "2022/07/06 10:40:00 PM, INFO, mealpy.human_based.TLO.BaseTLO: >Epoch: 87, Current best: 100.00000000000037, Global best: 100.00000000000037, Runtime: 0.01342 seconds\n",
      "2022/07/06 10:40:00 PM, INFO, mealpy.human_based.TLO.BaseTLO: >Epoch: 87, Current best: 100.00000000000037, Global best: 100.00000000000037, Runtime: 0.01342 seconds\n"
     ]
    },
    {
     "name": "stderr",
     "output_type": "stream",
     "text": [
      "2022/07/06 10:40:00 PM, INFO, mealpy.human_based.TLO.BaseTLO: >Epoch: 88, Current best: 100.00000000000014, Global best: 100.00000000000014, Runtime: 0.01210 seconds\n",
      "2022/07/06 10:40:00 PM, INFO, mealpy.human_based.TLO.BaseTLO: >Epoch: 88, Current best: 100.00000000000014, Global best: 100.00000000000014, Runtime: 0.01210 seconds\n",
      "2022/07/06 10:40:00 PM, INFO, mealpy.human_based.TLO.BaseTLO: >Epoch: 89, Current best: 100.00000000000014, Global best: 100.00000000000014, Runtime: 0.01171 seconds\n",
      "2022/07/06 10:40:00 PM, INFO, mealpy.human_based.TLO.BaseTLO: >Epoch: 89, Current best: 100.00000000000014, Global best: 100.00000000000014, Runtime: 0.01171 seconds\n",
      "2022/07/06 10:40:00 PM, INFO, mealpy.human_based.TLO.BaseTLO: >Epoch: 90, Current best: 100.00000000000014, Global best: 100.00000000000014, Runtime: 0.00951 seconds\n",
      "2022/07/06 10:40:00 PM, INFO, mealpy.human_based.TLO.BaseTLO: >Epoch: 90, Current best: 100.00000000000014, Global best: 100.00000000000014, Runtime: 0.00951 seconds\n",
      "2022/07/06 10:40:00 PM, INFO, mealpy.human_based.TLO.BaseTLO: >Epoch: 91, Current best: 100.00000000000009, Global best: 100.00000000000009, Runtime: 0.01094 seconds\n",
      "2022/07/06 10:40:00 PM, INFO, mealpy.human_based.TLO.BaseTLO: >Epoch: 91, Current best: 100.00000000000009, Global best: 100.00000000000009, Runtime: 0.01094 seconds\n",
      "2022/07/06 10:40:00 PM, INFO, mealpy.human_based.TLO.BaseTLO: >Epoch: 92, Current best: 100.00000000000007, Global best: 100.00000000000007, Runtime: 0.01467 seconds\n",
      "2022/07/06 10:40:00 PM, INFO, mealpy.human_based.TLO.BaseTLO: >Epoch: 92, Current best: 100.00000000000007, Global best: 100.00000000000007, Runtime: 0.01467 seconds\n",
      "2022/07/06 10:40:00 PM, INFO, mealpy.human_based.TLO.BaseTLO: >Epoch: 93, Current best: 100.00000000000001, Global best: 100.00000000000001, Runtime: 0.01203 seconds\n",
      "2022/07/06 10:40:00 PM, INFO, mealpy.human_based.TLO.BaseTLO: >Epoch: 93, Current best: 100.00000000000001, Global best: 100.00000000000001, Runtime: 0.01203 seconds\n",
      "2022/07/06 10:40:00 PM, INFO, mealpy.human_based.TLO.BaseTLO: >Epoch: 94, Current best: 100.00000000000001, Global best: 100.00000000000001, Runtime: 0.01135 seconds\n",
      "2022/07/06 10:40:00 PM, INFO, mealpy.human_based.TLO.BaseTLO: >Epoch: 94, Current best: 100.00000000000001, Global best: 100.00000000000001, Runtime: 0.01135 seconds\n",
      "2022/07/06 10:40:00 PM, INFO, mealpy.human_based.TLO.BaseTLO: >Epoch: 95, Current best: 100.0, Global best: 100.0, Runtime: 0.01319 seconds\n",
      "2022/07/06 10:40:00 PM, INFO, mealpy.human_based.TLO.BaseTLO: >Epoch: 95, Current best: 100.0, Global best: 100.0, Runtime: 0.01319 seconds\n",
      "2022/07/06 10:40:00 PM, INFO, mealpy.human_based.TLO.BaseTLO: >Epoch: 96, Current best: 100.0, Global best: 100.0, Runtime: 0.01116 seconds\n",
      "2022/07/06 10:40:00 PM, INFO, mealpy.human_based.TLO.BaseTLO: >Epoch: 96, Current best: 100.0, Global best: 100.0, Runtime: 0.01116 seconds\n",
      "2022/07/06 10:40:00 PM, INFO, mealpy.human_based.TLO.BaseTLO: >Epoch: 97, Current best: 100.0, Global best: 100.0, Runtime: 0.01176 seconds\n",
      "2022/07/06 10:40:00 PM, INFO, mealpy.human_based.TLO.BaseTLO: >Epoch: 97, Current best: 100.0, Global best: 100.0, Runtime: 0.01176 seconds\n",
      "2022/07/06 10:40:00 PM, INFO, mealpy.human_based.TLO.BaseTLO: >Epoch: 98, Current best: 100.0, Global best: 100.0, Runtime: 0.01066 seconds\n",
      "2022/07/06 10:40:00 PM, INFO, mealpy.human_based.TLO.BaseTLO: >Epoch: 98, Current best: 100.0, Global best: 100.0, Runtime: 0.01066 seconds\n",
      "2022/07/06 10:40:00 PM, INFO, mealpy.human_based.TLO.BaseTLO: >Epoch: 99, Current best: 100.0, Global best: 100.0, Runtime: 0.01282 seconds\n",
      "2022/07/06 10:40:00 PM, INFO, mealpy.human_based.TLO.BaseTLO: >Epoch: 99, Current best: 100.0, Global best: 100.0, Runtime: 0.01282 seconds\n",
      "2022/07/06 10:40:00 PM, INFO, mealpy.human_based.TLO.BaseTLO: >Epoch: 100, Current best: 100.0, Global best: 100.0, Runtime: 0.01072 seconds\n",
      "2022/07/06 10:40:00 PM, INFO, mealpy.human_based.TLO.BaseTLO: >Epoch: 100, Current best: 100.0, Global best: 100.0, Runtime: 0.01072 seconds\n",
      "2022/07/06 10:40:00 PM, INFO, mealpy.human_based.TLO.BaseTLO: Solving single objective optimization problem.\n",
      "2022/07/06 10:40:00 PM, INFO, mealpy.human_based.TLO.BaseTLO: Solving single objective optimization problem.\n",
      "2022/07/06 10:40:00 PM, INFO, mealpy.human_based.TLO.BaseTLO: Solving single objective optimization problem.\n",
      "2022/07/06 10:40:00 PM, INFO, mealpy.human_based.TLO.BaseTLO: >Epoch: 1, Current best: 101.3027529792023, Global best: 101.3027529792023, Runtime: 0.01096 seconds\n",
      "2022/07/06 10:40:00 PM, INFO, mealpy.human_based.TLO.BaseTLO: >Epoch: 1, Current best: 101.3027529792023, Global best: 101.3027529792023, Runtime: 0.01096 seconds\n",
      "2022/07/06 10:40:00 PM, INFO, mealpy.human_based.TLO.BaseTLO: >Epoch: 1, Current best: 101.3027529792023, Global best: 101.3027529792023, Runtime: 0.01096 seconds\n",
      "2022/07/06 10:40:00 PM, INFO, mealpy.human_based.TLO.BaseTLO: >Epoch: 2, Current best: 101.3027529792023, Global best: 101.3027529792023, Runtime: 0.01484 seconds\n",
      "2022/07/06 10:40:00 PM, INFO, mealpy.human_based.TLO.BaseTLO: >Epoch: 2, Current best: 101.3027529792023, Global best: 101.3027529792023, Runtime: 0.01484 seconds\n",
      "2022/07/06 10:40:00 PM, INFO, mealpy.human_based.TLO.BaseTLO: >Epoch: 2, Current best: 101.3027529792023, Global best: 101.3027529792023, Runtime: 0.01484 seconds\n",
      "2022/07/06 10:40:00 PM, INFO, mealpy.human_based.TLO.BaseTLO: >Epoch: 3, Current best: 101.07925996318815, Global best: 101.07925996318815, Runtime: 0.01219 seconds\n",
      "2022/07/06 10:40:00 PM, INFO, mealpy.human_based.TLO.BaseTLO: >Epoch: 3, Current best: 101.07925996318815, Global best: 101.07925996318815, Runtime: 0.01219 seconds\n",
      "2022/07/06 10:40:00 PM, INFO, mealpy.human_based.TLO.BaseTLO: >Epoch: 3, Current best: 101.07925996318815, Global best: 101.07925996318815, Runtime: 0.01219 seconds\n",
      "2022/07/06 10:40:00 PM, INFO, mealpy.human_based.TLO.BaseTLO: >Epoch: 4, Current best: 101.07925996318815, Global best: 101.07925996318815, Runtime: 0.01607 seconds\n",
      "2022/07/06 10:40:00 PM, INFO, mealpy.human_based.TLO.BaseTLO: >Epoch: 4, Current best: 101.07925996318815, Global best: 101.07925996318815, Runtime: 0.01607 seconds\n",
      "2022/07/06 10:40:00 PM, INFO, mealpy.human_based.TLO.BaseTLO: >Epoch: 4, Current best: 101.07925996318815, Global best: 101.07925996318815, Runtime: 0.01607 seconds\n",
      "2022/07/06 10:40:00 PM, INFO, mealpy.human_based.TLO.BaseTLO: >Epoch: 5, Current best: 101.07925996318815, Global best: 101.07925996318815, Runtime: 0.01341 seconds\n",
      "2022/07/06 10:40:00 PM, INFO, mealpy.human_based.TLO.BaseTLO: >Epoch: 5, Current best: 101.07925996318815, Global best: 101.07925996318815, Runtime: 0.01341 seconds\n",
      "2022/07/06 10:40:00 PM, INFO, mealpy.human_based.TLO.BaseTLO: >Epoch: 5, Current best: 101.07925996318815, Global best: 101.07925996318815, Runtime: 0.01341 seconds\n",
      "2022/07/06 10:40:00 PM, INFO, mealpy.human_based.TLO.BaseTLO: >Epoch: 6, Current best: 100.9336476907406, Global best: 100.9336476907406, Runtime: 0.01150 seconds\n",
      "2022/07/06 10:40:00 PM, INFO, mealpy.human_based.TLO.BaseTLO: >Epoch: 6, Current best: 100.9336476907406, Global best: 100.9336476907406, Runtime: 0.01150 seconds\n",
      "2022/07/06 10:40:00 PM, INFO, mealpy.human_based.TLO.BaseTLO: >Epoch: 6, Current best: 100.9336476907406, Global best: 100.9336476907406, Runtime: 0.01150 seconds\n",
      "2022/07/06 10:40:00 PM, INFO, mealpy.human_based.TLO.BaseTLO: >Epoch: 7, Current best: 100.13546009203424, Global best: 100.13546009203424, Runtime: 0.01137 seconds\n",
      "2022/07/06 10:40:00 PM, INFO, mealpy.human_based.TLO.BaseTLO: >Epoch: 7, Current best: 100.13546009203424, Global best: 100.13546009203424, Runtime: 0.01137 seconds\n",
      "2022/07/06 10:40:00 PM, INFO, mealpy.human_based.TLO.BaseTLO: >Epoch: 7, Current best: 100.13546009203424, Global best: 100.13546009203424, Runtime: 0.01137 seconds\n",
      "2022/07/06 10:40:00 PM, INFO, mealpy.human_based.TLO.BaseTLO: >Epoch: 8, Current best: 100.04464384205602, Global best: 100.04464384205602, Runtime: 0.01237 seconds\n",
      "2022/07/06 10:40:00 PM, INFO, mealpy.human_based.TLO.BaseTLO: >Epoch: 8, Current best: 100.04464384205602, Global best: 100.04464384205602, Runtime: 0.01237 seconds\n",
      "2022/07/06 10:40:00 PM, INFO, mealpy.human_based.TLO.BaseTLO: >Epoch: 8, Current best: 100.04464384205602, Global best: 100.04464384205602, Runtime: 0.01237 seconds\n"
     ]
    },
    {
     "name": "stderr",
     "output_type": "stream",
     "text": [
      "2022/07/06 10:40:00 PM, INFO, mealpy.human_based.TLO.BaseTLO: >Epoch: 9, Current best: 100.02368527977764, Global best: 100.02368527977764, Runtime: 0.01150 seconds\n",
      "2022/07/06 10:40:00 PM, INFO, mealpy.human_based.TLO.BaseTLO: >Epoch: 9, Current best: 100.02368527977764, Global best: 100.02368527977764, Runtime: 0.01150 seconds\n",
      "2022/07/06 10:40:00 PM, INFO, mealpy.human_based.TLO.BaseTLO: >Epoch: 9, Current best: 100.02368527977764, Global best: 100.02368527977764, Runtime: 0.01150 seconds\n",
      "2022/07/06 10:40:00 PM, INFO, mealpy.human_based.TLO.BaseTLO: >Epoch: 10, Current best: 100.02368527977764, Global best: 100.02368527977764, Runtime: 0.01347 seconds\n",
      "2022/07/06 10:40:00 PM, INFO, mealpy.human_based.TLO.BaseTLO: >Epoch: 10, Current best: 100.02368527977764, Global best: 100.02368527977764, Runtime: 0.01347 seconds\n",
      "2022/07/06 10:40:00 PM, INFO, mealpy.human_based.TLO.BaseTLO: >Epoch: 10, Current best: 100.02368527977764, Global best: 100.02368527977764, Runtime: 0.01347 seconds\n",
      "2022/07/06 10:40:00 PM, INFO, mealpy.human_based.TLO.BaseTLO: >Epoch: 11, Current best: 100.02368527977764, Global best: 100.02368527977764, Runtime: 0.01084 seconds\n",
      "2022/07/06 10:40:00 PM, INFO, mealpy.human_based.TLO.BaseTLO: >Epoch: 11, Current best: 100.02368527977764, Global best: 100.02368527977764, Runtime: 0.01084 seconds\n",
      "2022/07/06 10:40:00 PM, INFO, mealpy.human_based.TLO.BaseTLO: >Epoch: 11, Current best: 100.02368527977764, Global best: 100.02368527977764, Runtime: 0.01084 seconds\n",
      "2022/07/06 10:40:00 PM, INFO, mealpy.human_based.TLO.BaseTLO: >Epoch: 12, Current best: 100.01658660064359, Global best: 100.01658660064359, Runtime: 0.01204 seconds\n"
     ]
    },
    {
     "name": "stdout",
     "output_type": "stream",
     "text": [
      "Solution: [-1.34715899e-09  2.61713767e-09  0.00000000e+00 -1.00000000e+01], Fitness: 100.0\n"
     ]
    },
    {
     "name": "stderr",
     "output_type": "stream",
     "text": [
      "2022/07/06 10:40:00 PM, INFO, mealpy.human_based.TLO.BaseTLO: >Epoch: 12, Current best: 100.01658660064359, Global best: 100.01658660064359, Runtime: 0.01204 seconds\n",
      "2022/07/06 10:40:00 PM, INFO, mealpy.human_based.TLO.BaseTLO: >Epoch: 12, Current best: 100.01658660064359, Global best: 100.01658660064359, Runtime: 0.01204 seconds\n",
      "2022/07/06 10:40:00 PM, INFO, mealpy.human_based.TLO.BaseTLO: >Epoch: 13, Current best: 100.01658660064359, Global best: 100.01658660064359, Runtime: 0.01311 seconds\n",
      "2022/07/06 10:40:00 PM, INFO, mealpy.human_based.TLO.BaseTLO: >Epoch: 13, Current best: 100.01658660064359, Global best: 100.01658660064359, Runtime: 0.01311 seconds\n",
      "2022/07/06 10:40:00 PM, INFO, mealpy.human_based.TLO.BaseTLO: >Epoch: 13, Current best: 100.01658660064359, Global best: 100.01658660064359, Runtime: 0.01311 seconds\n",
      "2022/07/06 10:40:00 PM, INFO, mealpy.human_based.TLO.BaseTLO: >Epoch: 14, Current best: 100.01658660064359, Global best: 100.01658660064359, Runtime: 0.01261 seconds\n",
      "2022/07/06 10:40:00 PM, INFO, mealpy.human_based.TLO.BaseTLO: >Epoch: 14, Current best: 100.01658660064359, Global best: 100.01658660064359, Runtime: 0.01261 seconds\n",
      "2022/07/06 10:40:00 PM, INFO, mealpy.human_based.TLO.BaseTLO: >Epoch: 14, Current best: 100.01658660064359, Global best: 100.01658660064359, Runtime: 0.01261 seconds\n",
      "2022/07/06 10:40:00 PM, INFO, mealpy.human_based.TLO.BaseTLO: >Epoch: 15, Current best: 100.01658660064359, Global best: 100.01658660064359, Runtime: 0.01398 seconds\n",
      "2022/07/06 10:40:00 PM, INFO, mealpy.human_based.TLO.BaseTLO: >Epoch: 15, Current best: 100.01658660064359, Global best: 100.01658660064359, Runtime: 0.01398 seconds\n",
      "2022/07/06 10:40:00 PM, INFO, mealpy.human_based.TLO.BaseTLO: >Epoch: 15, Current best: 100.01658660064359, Global best: 100.01658660064359, Runtime: 0.01398 seconds\n",
      "2022/07/06 10:40:00 PM, INFO, mealpy.human_based.TLO.BaseTLO: >Epoch: 16, Current best: 100.01025806452452, Global best: 100.01025806452452, Runtime: 0.01165 seconds\n",
      "2022/07/06 10:40:00 PM, INFO, mealpy.human_based.TLO.BaseTLO: >Epoch: 16, Current best: 100.01025806452452, Global best: 100.01025806452452, Runtime: 0.01165 seconds\n",
      "2022/07/06 10:40:00 PM, INFO, mealpy.human_based.TLO.BaseTLO: >Epoch: 16, Current best: 100.01025806452452, Global best: 100.01025806452452, Runtime: 0.01165 seconds\n",
      "2022/07/06 10:40:00 PM, INFO, mealpy.human_based.TLO.BaseTLO: >Epoch: 17, Current best: 100.01025806452452, Global best: 100.01025806452452, Runtime: 0.01457 seconds\n",
      "2022/07/06 10:40:00 PM, INFO, mealpy.human_based.TLO.BaseTLO: >Epoch: 17, Current best: 100.01025806452452, Global best: 100.01025806452452, Runtime: 0.01457 seconds\n",
      "2022/07/06 10:40:00 PM, INFO, mealpy.human_based.TLO.BaseTLO: >Epoch: 17, Current best: 100.01025806452452, Global best: 100.01025806452452, Runtime: 0.01457 seconds\n",
      "2022/07/06 10:40:00 PM, INFO, mealpy.human_based.TLO.BaseTLO: >Epoch: 18, Current best: 100.00448658148302, Global best: 100.00448658148302, Runtime: 0.01134 seconds\n",
      "2022/07/06 10:40:00 PM, INFO, mealpy.human_based.TLO.BaseTLO: >Epoch: 18, Current best: 100.00448658148302, Global best: 100.00448658148302, Runtime: 0.01134 seconds\n",
      "2022/07/06 10:40:00 PM, INFO, mealpy.human_based.TLO.BaseTLO: >Epoch: 18, Current best: 100.00448658148302, Global best: 100.00448658148302, Runtime: 0.01134 seconds\n",
      "2022/07/06 10:40:00 PM, INFO, mealpy.human_based.TLO.BaseTLO: >Epoch: 19, Current best: 100.00448658148302, Global best: 100.00448658148302, Runtime: 0.01210 seconds\n",
      "2022/07/06 10:40:00 PM, INFO, mealpy.human_based.TLO.BaseTLO: >Epoch: 19, Current best: 100.00448658148302, Global best: 100.00448658148302, Runtime: 0.01210 seconds\n",
      "2022/07/06 10:40:00 PM, INFO, mealpy.human_based.TLO.BaseTLO: >Epoch: 19, Current best: 100.00448658148302, Global best: 100.00448658148302, Runtime: 0.01210 seconds\n",
      "2022/07/06 10:40:00 PM, INFO, mealpy.human_based.TLO.BaseTLO: >Epoch: 20, Current best: 100.00014414068973, Global best: 100.00014414068973, Runtime: 0.01023 seconds\n",
      "2022/07/06 10:40:00 PM, INFO, mealpy.human_based.TLO.BaseTLO: >Epoch: 20, Current best: 100.00014414068973, Global best: 100.00014414068973, Runtime: 0.01023 seconds\n",
      "2022/07/06 10:40:00 PM, INFO, mealpy.human_based.TLO.BaseTLO: >Epoch: 20, Current best: 100.00014414068973, Global best: 100.00014414068973, Runtime: 0.01023 seconds\n",
      "2022/07/06 10:40:00 PM, INFO, mealpy.human_based.TLO.BaseTLO: >Epoch: 21, Current best: 100.00014414068973, Global best: 100.00014414068973, Runtime: 0.01032 seconds\n",
      "2022/07/06 10:40:00 PM, INFO, mealpy.human_based.TLO.BaseTLO: >Epoch: 21, Current best: 100.00014414068973, Global best: 100.00014414068973, Runtime: 0.01032 seconds\n",
      "2022/07/06 10:40:00 PM, INFO, mealpy.human_based.TLO.BaseTLO: >Epoch: 21, Current best: 100.00014414068973, Global best: 100.00014414068973, Runtime: 0.01032 seconds\n",
      "2022/07/06 10:40:00 PM, INFO, mealpy.human_based.TLO.BaseTLO: >Epoch: 22, Current best: 100.00014414068973, Global best: 100.00014414068973, Runtime: 0.01236 seconds\n",
      "2022/07/06 10:40:00 PM, INFO, mealpy.human_based.TLO.BaseTLO: >Epoch: 22, Current best: 100.00014414068973, Global best: 100.00014414068973, Runtime: 0.01236 seconds\n",
      "2022/07/06 10:40:00 PM, INFO, mealpy.human_based.TLO.BaseTLO: >Epoch: 22, Current best: 100.00014414068973, Global best: 100.00014414068973, Runtime: 0.01236 seconds\n",
      "2022/07/06 10:40:00 PM, INFO, mealpy.human_based.TLO.BaseTLO: >Epoch: 23, Current best: 100.00014414068973, Global best: 100.00014414068973, Runtime: 0.01115 seconds\n",
      "2022/07/06 10:40:00 PM, INFO, mealpy.human_based.TLO.BaseTLO: >Epoch: 23, Current best: 100.00014414068973, Global best: 100.00014414068973, Runtime: 0.01115 seconds\n",
      "2022/07/06 10:40:00 PM, INFO, mealpy.human_based.TLO.BaseTLO: >Epoch: 23, Current best: 100.00014414068973, Global best: 100.00014414068973, Runtime: 0.01115 seconds\n",
      "2022/07/06 10:40:00 PM, INFO, mealpy.human_based.TLO.BaseTLO: >Epoch: 24, Current best: 100.00014414068973, Global best: 100.00014414068973, Runtime: 0.01448 seconds\n",
      "2022/07/06 10:40:00 PM, INFO, mealpy.human_based.TLO.BaseTLO: >Epoch: 24, Current best: 100.00014414068973, Global best: 100.00014414068973, Runtime: 0.01448 seconds\n",
      "2022/07/06 10:40:00 PM, INFO, mealpy.human_based.TLO.BaseTLO: >Epoch: 24, Current best: 100.00014414068973, Global best: 100.00014414068973, Runtime: 0.01448 seconds\n",
      "2022/07/06 10:40:00 PM, INFO, mealpy.human_based.TLO.BaseTLO: >Epoch: 25, Current best: 100.00014414068973, Global best: 100.00014414068973, Runtime: 0.01257 seconds\n",
      "2022/07/06 10:40:00 PM, INFO, mealpy.human_based.TLO.BaseTLO: >Epoch: 25, Current best: 100.00014414068973, Global best: 100.00014414068973, Runtime: 0.01257 seconds\n",
      "2022/07/06 10:40:00 PM, INFO, mealpy.human_based.TLO.BaseTLO: >Epoch: 25, Current best: 100.00014414068973, Global best: 100.00014414068973, Runtime: 0.01257 seconds\n",
      "2022/07/06 10:40:00 PM, INFO, mealpy.human_based.TLO.BaseTLO: >Epoch: 26, Current best: 100.00014414068973, Global best: 100.00014414068973, Runtime: 0.01158 seconds\n",
      "2022/07/06 10:40:00 PM, INFO, mealpy.human_based.TLO.BaseTLO: >Epoch: 26, Current best: 100.00014414068973, Global best: 100.00014414068973, Runtime: 0.01158 seconds\n",
      "2022/07/06 10:40:00 PM, INFO, mealpy.human_based.TLO.BaseTLO: >Epoch: 26, Current best: 100.00014414068973, Global best: 100.00014414068973, Runtime: 0.01158 seconds\n",
      "2022/07/06 10:40:00 PM, INFO, mealpy.human_based.TLO.BaseTLO: >Epoch: 27, Current best: 100.00006319699096, Global best: 100.00006319699096, Runtime: 0.01216 seconds\n",
      "2022/07/06 10:40:00 PM, INFO, mealpy.human_based.TLO.BaseTLO: >Epoch: 27, Current best: 100.00006319699096, Global best: 100.00006319699096, Runtime: 0.01216 seconds\n",
      "2022/07/06 10:40:00 PM, INFO, mealpy.human_based.TLO.BaseTLO: >Epoch: 27, Current best: 100.00006319699096, Global best: 100.00006319699096, Runtime: 0.01216 seconds\n",
      "2022/07/06 10:40:00 PM, INFO, mealpy.human_based.TLO.BaseTLO: >Epoch: 28, Current best: 100.00006319699096, Global best: 100.00006319699096, Runtime: 0.00961 seconds\n",
      "2022/07/06 10:40:00 PM, INFO, mealpy.human_based.TLO.BaseTLO: >Epoch: 28, Current best: 100.00006319699096, Global best: 100.00006319699096, Runtime: 0.00961 seconds\n",
      "2022/07/06 10:40:00 PM, INFO, mealpy.human_based.TLO.BaseTLO: >Epoch: 28, Current best: 100.00006319699096, Global best: 100.00006319699096, Runtime: 0.00961 seconds\n"
     ]
    },
    {
     "name": "stderr",
     "output_type": "stream",
     "text": [
      "2022/07/06 10:40:00 PM, INFO, mealpy.human_based.TLO.BaseTLO: >Epoch: 29, Current best: 100.00006319699096, Global best: 100.00006319699096, Runtime: 0.01136 seconds\n",
      "2022/07/06 10:40:00 PM, INFO, mealpy.human_based.TLO.BaseTLO: >Epoch: 29, Current best: 100.00006319699096, Global best: 100.00006319699096, Runtime: 0.01136 seconds\n",
      "2022/07/06 10:40:00 PM, INFO, mealpy.human_based.TLO.BaseTLO: >Epoch: 29, Current best: 100.00006319699096, Global best: 100.00006319699096, Runtime: 0.01136 seconds\n",
      "2022/07/06 10:40:00 PM, INFO, mealpy.human_based.TLO.BaseTLO: >Epoch: 30, Current best: 100.00006319699096, Global best: 100.00006319699096, Runtime: 0.01126 seconds\n",
      "2022/07/06 10:40:00 PM, INFO, mealpy.human_based.TLO.BaseTLO: >Epoch: 30, Current best: 100.00006319699096, Global best: 100.00006319699096, Runtime: 0.01126 seconds\n",
      "2022/07/06 10:40:00 PM, INFO, mealpy.human_based.TLO.BaseTLO: >Epoch: 30, Current best: 100.00006319699096, Global best: 100.00006319699096, Runtime: 0.01126 seconds\n",
      "2022/07/06 10:40:00 PM, INFO, mealpy.human_based.TLO.BaseTLO: >Epoch: 31, Current best: 100.00002264284304, Global best: 100.00002264284304, Runtime: 0.01565 seconds\n",
      "2022/07/06 10:40:00 PM, INFO, mealpy.human_based.TLO.BaseTLO: >Epoch: 31, Current best: 100.00002264284304, Global best: 100.00002264284304, Runtime: 0.01565 seconds\n",
      "2022/07/06 10:40:00 PM, INFO, mealpy.human_based.TLO.BaseTLO: >Epoch: 31, Current best: 100.00002264284304, Global best: 100.00002264284304, Runtime: 0.01565 seconds\n",
      "2022/07/06 10:40:00 PM, INFO, mealpy.human_based.TLO.BaseTLO: >Epoch: 32, Current best: 100.00002264284304, Global best: 100.00002264284304, Runtime: 0.01118 seconds\n",
      "2022/07/06 10:40:00 PM, INFO, mealpy.human_based.TLO.BaseTLO: >Epoch: 32, Current best: 100.00002264284304, Global best: 100.00002264284304, Runtime: 0.01118 seconds\n",
      "2022/07/06 10:40:00 PM, INFO, mealpy.human_based.TLO.BaseTLO: >Epoch: 32, Current best: 100.00002264284304, Global best: 100.00002264284304, Runtime: 0.01118 seconds\n",
      "2022/07/06 10:40:00 PM, INFO, mealpy.human_based.TLO.BaseTLO: >Epoch: 33, Current best: 100.00000743249255, Global best: 100.00000743249255, Runtime: 0.01221 seconds\n",
      "2022/07/06 10:40:00 PM, INFO, mealpy.human_based.TLO.BaseTLO: >Epoch: 33, Current best: 100.00000743249255, Global best: 100.00000743249255, Runtime: 0.01221 seconds\n",
      "2022/07/06 10:40:00 PM, INFO, mealpy.human_based.TLO.BaseTLO: >Epoch: 33, Current best: 100.00000743249255, Global best: 100.00000743249255, Runtime: 0.01221 seconds\n",
      "2022/07/06 10:40:00 PM, INFO, mealpy.human_based.TLO.BaseTLO: >Epoch: 34, Current best: 100.0000004481987, Global best: 100.0000004481987, Runtime: 0.01824 seconds\n",
      "2022/07/06 10:40:00 PM, INFO, mealpy.human_based.TLO.BaseTLO: >Epoch: 34, Current best: 100.0000004481987, Global best: 100.0000004481987, Runtime: 0.01824 seconds\n",
      "2022/07/06 10:40:00 PM, INFO, mealpy.human_based.TLO.BaseTLO: >Epoch: 34, Current best: 100.0000004481987, Global best: 100.0000004481987, Runtime: 0.01824 seconds\n",
      "2022/07/06 10:40:01 PM, INFO, mealpy.human_based.TLO.BaseTLO: >Epoch: 35, Current best: 100.0000004481987, Global best: 100.0000004481987, Runtime: 0.01898 seconds\n",
      "2022/07/06 10:40:01 PM, INFO, mealpy.human_based.TLO.BaseTLO: >Epoch: 35, Current best: 100.0000004481987, Global best: 100.0000004481987, Runtime: 0.01898 seconds\n",
      "2022/07/06 10:40:01 PM, INFO, mealpy.human_based.TLO.BaseTLO: >Epoch: 35, Current best: 100.0000004481987, Global best: 100.0000004481987, Runtime: 0.01898 seconds\n",
      "2022/07/06 10:40:01 PM, INFO, mealpy.human_based.TLO.BaseTLO: >Epoch: 36, Current best: 100.0000004481987, Global best: 100.0000004481987, Runtime: 0.01968 seconds\n",
      "2022/07/06 10:40:01 PM, INFO, mealpy.human_based.TLO.BaseTLO: >Epoch: 36, Current best: 100.0000004481987, Global best: 100.0000004481987, Runtime: 0.01968 seconds\n",
      "2022/07/06 10:40:01 PM, INFO, mealpy.human_based.TLO.BaseTLO: >Epoch: 36, Current best: 100.0000004481987, Global best: 100.0000004481987, Runtime: 0.01968 seconds\n",
      "2022/07/06 10:40:01 PM, INFO, mealpy.human_based.TLO.BaseTLO: >Epoch: 37, Current best: 100.0000004481987, Global best: 100.0000004481987, Runtime: 0.01419 seconds\n",
      "2022/07/06 10:40:01 PM, INFO, mealpy.human_based.TLO.BaseTLO: >Epoch: 37, Current best: 100.0000004481987, Global best: 100.0000004481987, Runtime: 0.01419 seconds\n",
      "2022/07/06 10:40:01 PM, INFO, mealpy.human_based.TLO.BaseTLO: >Epoch: 37, Current best: 100.0000004481987, Global best: 100.0000004481987, Runtime: 0.01419 seconds\n",
      "2022/07/06 10:40:01 PM, INFO, mealpy.human_based.TLO.BaseTLO: >Epoch: 38, Current best: 100.0000004481987, Global best: 100.0000004481987, Runtime: 0.01890 seconds\n",
      "2022/07/06 10:40:01 PM, INFO, mealpy.human_based.TLO.BaseTLO: >Epoch: 38, Current best: 100.0000004481987, Global best: 100.0000004481987, Runtime: 0.01890 seconds\n",
      "2022/07/06 10:40:01 PM, INFO, mealpy.human_based.TLO.BaseTLO: >Epoch: 38, Current best: 100.0000004481987, Global best: 100.0000004481987, Runtime: 0.01890 seconds\n",
      "2022/07/06 10:40:01 PM, INFO, mealpy.human_based.TLO.BaseTLO: >Epoch: 39, Current best: 100.0000004481987, Global best: 100.0000004481987, Runtime: 0.01826 seconds\n",
      "2022/07/06 10:40:01 PM, INFO, mealpy.human_based.TLO.BaseTLO: >Epoch: 39, Current best: 100.0000004481987, Global best: 100.0000004481987, Runtime: 0.01826 seconds\n",
      "2022/07/06 10:40:01 PM, INFO, mealpy.human_based.TLO.BaseTLO: >Epoch: 39, Current best: 100.0000004481987, Global best: 100.0000004481987, Runtime: 0.01826 seconds\n",
      "2022/07/06 10:40:01 PM, INFO, mealpy.human_based.TLO.BaseTLO: >Epoch: 40, Current best: 100.0000004481987, Global best: 100.0000004481987, Runtime: 0.01613 seconds\n",
      "2022/07/06 10:40:01 PM, INFO, mealpy.human_based.TLO.BaseTLO: >Epoch: 40, Current best: 100.0000004481987, Global best: 100.0000004481987, Runtime: 0.01613 seconds\n",
      "2022/07/06 10:40:01 PM, INFO, mealpy.human_based.TLO.BaseTLO: >Epoch: 40, Current best: 100.0000004481987, Global best: 100.0000004481987, Runtime: 0.01613 seconds\n",
      "2022/07/06 10:40:01 PM, INFO, mealpy.human_based.TLO.BaseTLO: >Epoch: 41, Current best: 100.00000006836414, Global best: 100.00000006836414, Runtime: 0.01152 seconds\n",
      "2022/07/06 10:40:01 PM, INFO, mealpy.human_based.TLO.BaseTLO: >Epoch: 41, Current best: 100.00000006836414, Global best: 100.00000006836414, Runtime: 0.01152 seconds\n",
      "2022/07/06 10:40:01 PM, INFO, mealpy.human_based.TLO.BaseTLO: >Epoch: 41, Current best: 100.00000006836414, Global best: 100.00000006836414, Runtime: 0.01152 seconds\n",
      "2022/07/06 10:40:01 PM, INFO, mealpy.human_based.TLO.BaseTLO: >Epoch: 42, Current best: 100.00000006836414, Global best: 100.00000006836414, Runtime: 0.01241 seconds\n",
      "2022/07/06 10:40:01 PM, INFO, mealpy.human_based.TLO.BaseTLO: >Epoch: 42, Current best: 100.00000006836414, Global best: 100.00000006836414, Runtime: 0.01241 seconds\n",
      "2022/07/06 10:40:01 PM, INFO, mealpy.human_based.TLO.BaseTLO: >Epoch: 42, Current best: 100.00000006836414, Global best: 100.00000006836414, Runtime: 0.01241 seconds\n",
      "2022/07/06 10:40:01 PM, INFO, mealpy.human_based.TLO.BaseTLO: >Epoch: 43, Current best: 100.00000006836414, Global best: 100.00000006836414, Runtime: 0.01177 seconds\n",
      "2022/07/06 10:40:01 PM, INFO, mealpy.human_based.TLO.BaseTLO: >Epoch: 43, Current best: 100.00000006836414, Global best: 100.00000006836414, Runtime: 0.01177 seconds\n",
      "2022/07/06 10:40:01 PM, INFO, mealpy.human_based.TLO.BaseTLO: >Epoch: 43, Current best: 100.00000006836414, Global best: 100.00000006836414, Runtime: 0.01177 seconds\n",
      "2022/07/06 10:40:01 PM, INFO, mealpy.human_based.TLO.BaseTLO: >Epoch: 44, Current best: 100.00000006836414, Global best: 100.00000006836414, Runtime: 0.01160 seconds\n",
      "2022/07/06 10:40:01 PM, INFO, mealpy.human_based.TLO.BaseTLO: >Epoch: 44, Current best: 100.00000006836414, Global best: 100.00000006836414, Runtime: 0.01160 seconds\n",
      "2022/07/06 10:40:01 PM, INFO, mealpy.human_based.TLO.BaseTLO: >Epoch: 44, Current best: 100.00000006836414, Global best: 100.00000006836414, Runtime: 0.01160 seconds\n",
      "2022/07/06 10:40:01 PM, INFO, mealpy.human_based.TLO.BaseTLO: >Epoch: 45, Current best: 100.00000001807742, Global best: 100.00000001807742, Runtime: 0.01281 seconds\n",
      "2022/07/06 10:40:01 PM, INFO, mealpy.human_based.TLO.BaseTLO: >Epoch: 45, Current best: 100.00000001807742, Global best: 100.00000001807742, Runtime: 0.01281 seconds\n"
     ]
    },
    {
     "name": "stderr",
     "output_type": "stream",
     "text": [
      "2022/07/06 10:40:01 PM, INFO, mealpy.human_based.TLO.BaseTLO: >Epoch: 45, Current best: 100.00000001807742, Global best: 100.00000001807742, Runtime: 0.01281 seconds\n",
      "2022/07/06 10:40:01 PM, INFO, mealpy.human_based.TLO.BaseTLO: >Epoch: 46, Current best: 100.00000000974538, Global best: 100.00000000974538, Runtime: 0.01309 seconds\n",
      "2022/07/06 10:40:01 PM, INFO, mealpy.human_based.TLO.BaseTLO: >Epoch: 46, Current best: 100.00000000974538, Global best: 100.00000000974538, Runtime: 0.01309 seconds\n",
      "2022/07/06 10:40:01 PM, INFO, mealpy.human_based.TLO.BaseTLO: >Epoch: 46, Current best: 100.00000000974538, Global best: 100.00000000974538, Runtime: 0.01309 seconds\n",
      "2022/07/06 10:40:01 PM, INFO, mealpy.human_based.TLO.BaseTLO: >Epoch: 47, Current best: 100.00000000974538, Global best: 100.00000000974538, Runtime: 0.01125 seconds\n",
      "2022/07/06 10:40:01 PM, INFO, mealpy.human_based.TLO.BaseTLO: >Epoch: 47, Current best: 100.00000000974538, Global best: 100.00000000974538, Runtime: 0.01125 seconds\n",
      "2022/07/06 10:40:01 PM, INFO, mealpy.human_based.TLO.BaseTLO: >Epoch: 47, Current best: 100.00000000974538, Global best: 100.00000000974538, Runtime: 0.01125 seconds\n",
      "2022/07/06 10:40:01 PM, INFO, mealpy.human_based.TLO.BaseTLO: >Epoch: 48, Current best: 100.00000000347075, Global best: 100.00000000347075, Runtime: 0.01216 seconds\n",
      "2022/07/06 10:40:01 PM, INFO, mealpy.human_based.TLO.BaseTLO: >Epoch: 48, Current best: 100.00000000347075, Global best: 100.00000000347075, Runtime: 0.01216 seconds\n",
      "2022/07/06 10:40:01 PM, INFO, mealpy.human_based.TLO.BaseTLO: >Epoch: 48, Current best: 100.00000000347075, Global best: 100.00000000347075, Runtime: 0.01216 seconds\n",
      "2022/07/06 10:40:01 PM, INFO, mealpy.human_based.TLO.BaseTLO: >Epoch: 49, Current best: 100.00000000347075, Global best: 100.00000000347075, Runtime: 0.01202 seconds\n",
      "2022/07/06 10:40:01 PM, INFO, mealpy.human_based.TLO.BaseTLO: >Epoch: 49, Current best: 100.00000000347075, Global best: 100.00000000347075, Runtime: 0.01202 seconds\n",
      "2022/07/06 10:40:01 PM, INFO, mealpy.human_based.TLO.BaseTLO: >Epoch: 49, Current best: 100.00000000347075, Global best: 100.00000000347075, Runtime: 0.01202 seconds\n",
      "2022/07/06 10:40:01 PM, INFO, mealpy.human_based.TLO.BaseTLO: >Epoch: 50, Current best: 100.00000000155268, Global best: 100.00000000155268, Runtime: 0.01129 seconds\n",
      "2022/07/06 10:40:01 PM, INFO, mealpy.human_based.TLO.BaseTLO: >Epoch: 50, Current best: 100.00000000155268, Global best: 100.00000000155268, Runtime: 0.01129 seconds\n",
      "2022/07/06 10:40:01 PM, INFO, mealpy.human_based.TLO.BaseTLO: >Epoch: 50, Current best: 100.00000000155268, Global best: 100.00000000155268, Runtime: 0.01129 seconds\n",
      "2022/07/06 10:40:01 PM, INFO, mealpy.human_based.TLO.BaseTLO: >Epoch: 51, Current best: 100.00000000038366, Global best: 100.00000000038366, Runtime: 0.01192 seconds\n",
      "2022/07/06 10:40:01 PM, INFO, mealpy.human_based.TLO.BaseTLO: >Epoch: 51, Current best: 100.00000000038366, Global best: 100.00000000038366, Runtime: 0.01192 seconds\n",
      "2022/07/06 10:40:01 PM, INFO, mealpy.human_based.TLO.BaseTLO: >Epoch: 51, Current best: 100.00000000038366, Global best: 100.00000000038366, Runtime: 0.01192 seconds\n",
      "2022/07/06 10:40:01 PM, INFO, mealpy.human_based.TLO.BaseTLO: >Epoch: 52, Current best: 100.00000000038366, Global best: 100.00000000038366, Runtime: 0.01099 seconds\n",
      "2022/07/06 10:40:01 PM, INFO, mealpy.human_based.TLO.BaseTLO: >Epoch: 52, Current best: 100.00000000038366, Global best: 100.00000000038366, Runtime: 0.01099 seconds\n",
      "2022/07/06 10:40:01 PM, INFO, mealpy.human_based.TLO.BaseTLO: >Epoch: 52, Current best: 100.00000000038366, Global best: 100.00000000038366, Runtime: 0.01099 seconds\n",
      "2022/07/06 10:40:01 PM, INFO, mealpy.human_based.TLO.BaseTLO: >Epoch: 53, Current best: 100.00000000034593, Global best: 100.00000000034593, Runtime: 0.01157 seconds\n",
      "2022/07/06 10:40:01 PM, INFO, mealpy.human_based.TLO.BaseTLO: >Epoch: 53, Current best: 100.00000000034593, Global best: 100.00000000034593, Runtime: 0.01157 seconds\n",
      "2022/07/06 10:40:01 PM, INFO, mealpy.human_based.TLO.BaseTLO: >Epoch: 53, Current best: 100.00000000034593, Global best: 100.00000000034593, Runtime: 0.01157 seconds\n",
      "2022/07/06 10:40:01 PM, INFO, mealpy.human_based.TLO.BaseTLO: >Epoch: 54, Current best: 100.00000000034593, Global best: 100.00000000034593, Runtime: 0.01101 seconds\n",
      "2022/07/06 10:40:01 PM, INFO, mealpy.human_based.TLO.BaseTLO: >Epoch: 54, Current best: 100.00000000034593, Global best: 100.00000000034593, Runtime: 0.01101 seconds\n",
      "2022/07/06 10:40:01 PM, INFO, mealpy.human_based.TLO.BaseTLO: >Epoch: 54, Current best: 100.00000000034593, Global best: 100.00000000034593, Runtime: 0.01101 seconds\n",
      "2022/07/06 10:40:01 PM, INFO, mealpy.human_based.TLO.BaseTLO: >Epoch: 55, Current best: 100.00000000024536, Global best: 100.00000000024536, Runtime: 0.01002 seconds\n",
      "2022/07/06 10:40:01 PM, INFO, mealpy.human_based.TLO.BaseTLO: >Epoch: 55, Current best: 100.00000000024536, Global best: 100.00000000024536, Runtime: 0.01002 seconds\n",
      "2022/07/06 10:40:01 PM, INFO, mealpy.human_based.TLO.BaseTLO: >Epoch: 55, Current best: 100.00000000024536, Global best: 100.00000000024536, Runtime: 0.01002 seconds\n",
      "2022/07/06 10:40:01 PM, INFO, mealpy.human_based.TLO.BaseTLO: >Epoch: 56, Current best: 100.00000000011934, Global best: 100.00000000011934, Runtime: 0.01103 seconds\n",
      "2022/07/06 10:40:01 PM, INFO, mealpy.human_based.TLO.BaseTLO: >Epoch: 56, Current best: 100.00000000011934, Global best: 100.00000000011934, Runtime: 0.01103 seconds\n",
      "2022/07/06 10:40:01 PM, INFO, mealpy.human_based.TLO.BaseTLO: >Epoch: 56, Current best: 100.00000000011934, Global best: 100.00000000011934, Runtime: 0.01103 seconds\n",
      "2022/07/06 10:40:01 PM, INFO, mealpy.human_based.TLO.BaseTLO: >Epoch: 57, Current best: 100.00000000003199, Global best: 100.00000000003199, Runtime: 0.01065 seconds\n",
      "2022/07/06 10:40:01 PM, INFO, mealpy.human_based.TLO.BaseTLO: >Epoch: 57, Current best: 100.00000000003199, Global best: 100.00000000003199, Runtime: 0.01065 seconds\n",
      "2022/07/06 10:40:01 PM, INFO, mealpy.human_based.TLO.BaseTLO: >Epoch: 57, Current best: 100.00000000003199, Global best: 100.00000000003199, Runtime: 0.01065 seconds\n",
      "2022/07/06 10:40:01 PM, INFO, mealpy.human_based.TLO.BaseTLO: >Epoch: 58, Current best: 100.0000000000228, Global best: 100.0000000000228, Runtime: 0.01004 seconds\n",
      "2022/07/06 10:40:01 PM, INFO, mealpy.human_based.TLO.BaseTLO: >Epoch: 58, Current best: 100.0000000000228, Global best: 100.0000000000228, Runtime: 0.01004 seconds\n",
      "2022/07/06 10:40:01 PM, INFO, mealpy.human_based.TLO.BaseTLO: >Epoch: 58, Current best: 100.0000000000228, Global best: 100.0000000000228, Runtime: 0.01004 seconds\n",
      "2022/07/06 10:40:01 PM, INFO, mealpy.human_based.TLO.BaseTLO: >Epoch: 59, Current best: 100.0000000000228, Global best: 100.0000000000228, Runtime: 0.01086 seconds\n",
      "2022/07/06 10:40:01 PM, INFO, mealpy.human_based.TLO.BaseTLO: >Epoch: 59, Current best: 100.0000000000228, Global best: 100.0000000000228, Runtime: 0.01086 seconds\n",
      "2022/07/06 10:40:01 PM, INFO, mealpy.human_based.TLO.BaseTLO: >Epoch: 59, Current best: 100.0000000000228, Global best: 100.0000000000228, Runtime: 0.01086 seconds\n",
      "2022/07/06 10:40:01 PM, INFO, mealpy.human_based.TLO.BaseTLO: >Epoch: 60, Current best: 100.0000000000228, Global best: 100.0000000000228, Runtime: 0.01058 seconds\n",
      "2022/07/06 10:40:01 PM, INFO, mealpy.human_based.TLO.BaseTLO: >Epoch: 60, Current best: 100.0000000000228, Global best: 100.0000000000228, Runtime: 0.01058 seconds\n",
      "2022/07/06 10:40:01 PM, INFO, mealpy.human_based.TLO.BaseTLO: >Epoch: 60, Current best: 100.0000000000228, Global best: 100.0000000000228, Runtime: 0.01058 seconds\n",
      "2022/07/06 10:40:01 PM, INFO, mealpy.human_based.TLO.BaseTLO: >Epoch: 61, Current best: 100.0000000000039, Global best: 100.0000000000039, Runtime: 0.01045 seconds\n",
      "2022/07/06 10:40:01 PM, INFO, mealpy.human_based.TLO.BaseTLO: >Epoch: 61, Current best: 100.0000000000039, Global best: 100.0000000000039, Runtime: 0.01045 seconds\n",
      "2022/07/06 10:40:01 PM, INFO, mealpy.human_based.TLO.BaseTLO: >Epoch: 61, Current best: 100.0000000000039, Global best: 100.0000000000039, Runtime: 0.01045 seconds\n",
      "2022/07/06 10:40:01 PM, INFO, mealpy.human_based.TLO.BaseTLO: >Epoch: 62, Current best: 100.00000000000121, Global best: 100.00000000000121, Runtime: 0.01125 seconds\n"
     ]
    },
    {
     "name": "stderr",
     "output_type": "stream",
     "text": [
      "2022/07/06 10:40:01 PM, INFO, mealpy.human_based.TLO.BaseTLO: >Epoch: 62, Current best: 100.00000000000121, Global best: 100.00000000000121, Runtime: 0.01125 seconds\n",
      "2022/07/06 10:40:01 PM, INFO, mealpy.human_based.TLO.BaseTLO: >Epoch: 62, Current best: 100.00000000000121, Global best: 100.00000000000121, Runtime: 0.01125 seconds\n",
      "2022/07/06 10:40:01 PM, INFO, mealpy.human_based.TLO.BaseTLO: >Epoch: 63, Current best: 100.0000000000001, Global best: 100.0000000000001, Runtime: 0.01081 seconds\n",
      "2022/07/06 10:40:01 PM, INFO, mealpy.human_based.TLO.BaseTLO: >Epoch: 63, Current best: 100.0000000000001, Global best: 100.0000000000001, Runtime: 0.01081 seconds\n",
      "2022/07/06 10:40:01 PM, INFO, mealpy.human_based.TLO.BaseTLO: >Epoch: 63, Current best: 100.0000000000001, Global best: 100.0000000000001, Runtime: 0.01081 seconds\n",
      "2022/07/06 10:40:01 PM, INFO, mealpy.human_based.TLO.BaseTLO: >Epoch: 64, Current best: 100.0000000000001, Global best: 100.0000000000001, Runtime: 0.01152 seconds\n",
      "2022/07/06 10:40:01 PM, INFO, mealpy.human_based.TLO.BaseTLO: >Epoch: 64, Current best: 100.0000000000001, Global best: 100.0000000000001, Runtime: 0.01152 seconds\n",
      "2022/07/06 10:40:01 PM, INFO, mealpy.human_based.TLO.BaseTLO: >Epoch: 64, Current best: 100.0000000000001, Global best: 100.0000000000001, Runtime: 0.01152 seconds\n",
      "2022/07/06 10:40:01 PM, INFO, mealpy.human_based.TLO.BaseTLO: >Epoch: 65, Current best: 100.0000000000001, Global best: 100.0000000000001, Runtime: 0.00996 seconds\n",
      "2022/07/06 10:40:01 PM, INFO, mealpy.human_based.TLO.BaseTLO: >Epoch: 65, Current best: 100.0000000000001, Global best: 100.0000000000001, Runtime: 0.00996 seconds\n",
      "2022/07/06 10:40:01 PM, INFO, mealpy.human_based.TLO.BaseTLO: >Epoch: 65, Current best: 100.0000000000001, Global best: 100.0000000000001, Runtime: 0.00996 seconds\n",
      "2022/07/06 10:40:01 PM, INFO, mealpy.human_based.TLO.BaseTLO: >Epoch: 66, Current best: 100.00000000000003, Global best: 100.00000000000003, Runtime: 0.01034 seconds\n",
      "2022/07/06 10:40:01 PM, INFO, mealpy.human_based.TLO.BaseTLO: >Epoch: 66, Current best: 100.00000000000003, Global best: 100.00000000000003, Runtime: 0.01034 seconds\n",
      "2022/07/06 10:40:01 PM, INFO, mealpy.human_based.TLO.BaseTLO: >Epoch: 66, Current best: 100.00000000000003, Global best: 100.00000000000003, Runtime: 0.01034 seconds\n",
      "2022/07/06 10:40:01 PM, INFO, mealpy.human_based.TLO.BaseTLO: >Epoch: 67, Current best: 100.00000000000003, Global best: 100.00000000000003, Runtime: 0.00962 seconds\n",
      "2022/07/06 10:40:01 PM, INFO, mealpy.human_based.TLO.BaseTLO: >Epoch: 67, Current best: 100.00000000000003, Global best: 100.00000000000003, Runtime: 0.00962 seconds\n",
      "2022/07/06 10:40:01 PM, INFO, mealpy.human_based.TLO.BaseTLO: >Epoch: 67, Current best: 100.00000000000003, Global best: 100.00000000000003, Runtime: 0.00962 seconds\n",
      "2022/07/06 10:40:01 PM, INFO, mealpy.human_based.TLO.BaseTLO: >Epoch: 68, Current best: 100.0, Global best: 100.0, Runtime: 0.01072 seconds\n",
      "2022/07/06 10:40:01 PM, INFO, mealpy.human_based.TLO.BaseTLO: >Epoch: 68, Current best: 100.0, Global best: 100.0, Runtime: 0.01072 seconds\n",
      "2022/07/06 10:40:01 PM, INFO, mealpy.human_based.TLO.BaseTLO: >Epoch: 68, Current best: 100.0, Global best: 100.0, Runtime: 0.01072 seconds\n",
      "2022/07/06 10:40:01 PM, INFO, mealpy.human_based.TLO.BaseTLO: >Epoch: 69, Current best: 100.0, Global best: 100.0, Runtime: 0.00965 seconds\n",
      "2022/07/06 10:40:01 PM, INFO, mealpy.human_based.TLO.BaseTLO: >Epoch: 69, Current best: 100.0, Global best: 100.0, Runtime: 0.00965 seconds\n",
      "2022/07/06 10:40:01 PM, INFO, mealpy.human_based.TLO.BaseTLO: >Epoch: 69, Current best: 100.0, Global best: 100.0, Runtime: 0.00965 seconds\n",
      "2022/07/06 10:40:01 PM, INFO, mealpy.human_based.TLO.BaseTLO: >Epoch: 70, Current best: 100.0, Global best: 100.0, Runtime: 0.01055 seconds\n",
      "2022/07/06 10:40:01 PM, INFO, mealpy.human_based.TLO.BaseTLO: >Epoch: 70, Current best: 100.0, Global best: 100.0, Runtime: 0.01055 seconds\n",
      "2022/07/06 10:40:01 PM, INFO, mealpy.human_based.TLO.BaseTLO: >Epoch: 70, Current best: 100.0, Global best: 100.0, Runtime: 0.01055 seconds\n",
      "2022/07/06 10:40:01 PM, INFO, mealpy.human_based.TLO.BaseTLO: >Epoch: 71, Current best: 100.0, Global best: 100.0, Runtime: 0.00989 seconds\n",
      "2022/07/06 10:40:01 PM, INFO, mealpy.human_based.TLO.BaseTLO: >Epoch: 71, Current best: 100.0, Global best: 100.0, Runtime: 0.00989 seconds\n",
      "2022/07/06 10:40:01 PM, INFO, mealpy.human_based.TLO.BaseTLO: >Epoch: 71, Current best: 100.0, Global best: 100.0, Runtime: 0.00989 seconds\n",
      "2022/07/06 10:40:01 PM, INFO, mealpy.human_based.TLO.BaseTLO: >Epoch: 72, Current best: 100.0, Global best: 100.0, Runtime: 0.01107 seconds\n",
      "2022/07/06 10:40:01 PM, INFO, mealpy.human_based.TLO.BaseTLO: >Epoch: 72, Current best: 100.0, Global best: 100.0, Runtime: 0.01107 seconds\n",
      "2022/07/06 10:40:01 PM, INFO, mealpy.human_based.TLO.BaseTLO: >Epoch: 72, Current best: 100.0, Global best: 100.0, Runtime: 0.01107 seconds\n",
      "2022/07/06 10:40:01 PM, INFO, mealpy.human_based.TLO.BaseTLO: >Epoch: 73, Current best: 100.0, Global best: 100.0, Runtime: 0.00976 seconds\n",
      "2022/07/06 10:40:01 PM, INFO, mealpy.human_based.TLO.BaseTLO: >Epoch: 73, Current best: 100.0, Global best: 100.0, Runtime: 0.00976 seconds\n",
      "2022/07/06 10:40:01 PM, INFO, mealpy.human_based.TLO.BaseTLO: >Epoch: 73, Current best: 100.0, Global best: 100.0, Runtime: 0.00976 seconds\n",
      "2022/07/06 10:40:01 PM, INFO, mealpy.human_based.TLO.BaseTLO: >Epoch: 74, Current best: 100.0, Global best: 100.0, Runtime: 0.00988 seconds\n",
      "2022/07/06 10:40:01 PM, INFO, mealpy.human_based.TLO.BaseTLO: >Epoch: 74, Current best: 100.0, Global best: 100.0, Runtime: 0.00988 seconds\n",
      "2022/07/06 10:40:01 PM, INFO, mealpy.human_based.TLO.BaseTLO: >Epoch: 74, Current best: 100.0, Global best: 100.0, Runtime: 0.00988 seconds\n",
      "2022/07/06 10:40:01 PM, INFO, mealpy.human_based.TLO.BaseTLO: >Epoch: 75, Current best: 100.0, Global best: 100.0, Runtime: 0.01035 seconds\n",
      "2022/07/06 10:40:01 PM, INFO, mealpy.human_based.TLO.BaseTLO: >Epoch: 75, Current best: 100.0, Global best: 100.0, Runtime: 0.01035 seconds\n",
      "2022/07/06 10:40:01 PM, INFO, mealpy.human_based.TLO.BaseTLO: >Epoch: 75, Current best: 100.0, Global best: 100.0, Runtime: 0.01035 seconds\n",
      "2022/07/06 10:40:01 PM, INFO, mealpy.human_based.TLO.BaseTLO: >Epoch: 76, Current best: 100.0, Global best: 100.0, Runtime: 0.01026 seconds\n",
      "2022/07/06 10:40:01 PM, INFO, mealpy.human_based.TLO.BaseTLO: >Epoch: 76, Current best: 100.0, Global best: 100.0, Runtime: 0.01026 seconds\n",
      "2022/07/06 10:40:01 PM, INFO, mealpy.human_based.TLO.BaseTLO: >Epoch: 76, Current best: 100.0, Global best: 100.0, Runtime: 0.01026 seconds\n",
      "2022/07/06 10:40:01 PM, INFO, mealpy.human_based.TLO.BaseTLO: >Epoch: 77, Current best: 100.0, Global best: 100.0, Runtime: 0.01033 seconds\n",
      "2022/07/06 10:40:01 PM, INFO, mealpy.human_based.TLO.BaseTLO: >Epoch: 77, Current best: 100.0, Global best: 100.0, Runtime: 0.01033 seconds\n",
      "2022/07/06 10:40:01 PM, INFO, mealpy.human_based.TLO.BaseTLO: >Epoch: 77, Current best: 100.0, Global best: 100.0, Runtime: 0.01033 seconds\n",
      "2022/07/06 10:40:01 PM, INFO, mealpy.human_based.TLO.BaseTLO: >Epoch: 78, Current best: 100.0, Global best: 100.0, Runtime: 0.00977 seconds\n",
      "2022/07/06 10:40:01 PM, INFO, mealpy.human_based.TLO.BaseTLO: >Epoch: 78, Current best: 100.0, Global best: 100.0, Runtime: 0.00977 seconds\n",
      "2022/07/06 10:40:01 PM, INFO, mealpy.human_based.TLO.BaseTLO: >Epoch: 78, Current best: 100.0, Global best: 100.0, Runtime: 0.00977 seconds\n",
      "2022/07/06 10:40:01 PM, INFO, mealpy.human_based.TLO.BaseTLO: >Epoch: 79, Current best: 100.0, Global best: 100.0, Runtime: 0.01018 seconds\n",
      "2022/07/06 10:40:01 PM, INFO, mealpy.human_based.TLO.BaseTLO: >Epoch: 79, Current best: 100.0, Global best: 100.0, Runtime: 0.01018 seconds\n",
      "2022/07/06 10:40:01 PM, INFO, mealpy.human_based.TLO.BaseTLO: >Epoch: 79, Current best: 100.0, Global best: 100.0, Runtime: 0.01018 seconds\n",
      "2022/07/06 10:40:01 PM, INFO, mealpy.human_based.TLO.BaseTLO: >Epoch: 80, Current best: 100.0, Global best: 100.0, Runtime: 0.01105 seconds\n",
      "2022/07/06 10:40:01 PM, INFO, mealpy.human_based.TLO.BaseTLO: >Epoch: 80, Current best: 100.0, Global best: 100.0, Runtime: 0.01105 seconds\n",
      "2022/07/06 10:40:01 PM, INFO, mealpy.human_based.TLO.BaseTLO: >Epoch: 80, Current best: 100.0, Global best: 100.0, Runtime: 0.01105 seconds\n"
     ]
    },
    {
     "name": "stderr",
     "output_type": "stream",
     "text": [
      "2022/07/06 10:40:01 PM, INFO, mealpy.human_based.TLO.BaseTLO: >Epoch: 81, Current best: 100.0, Global best: 100.0, Runtime: 0.01069 seconds\n",
      "2022/07/06 10:40:01 PM, INFO, mealpy.human_based.TLO.BaseTLO: >Epoch: 81, Current best: 100.0, Global best: 100.0, Runtime: 0.01069 seconds\n",
      "2022/07/06 10:40:01 PM, INFO, mealpy.human_based.TLO.BaseTLO: >Epoch: 81, Current best: 100.0, Global best: 100.0, Runtime: 0.01069 seconds\n",
      "2022/07/06 10:40:01 PM, INFO, mealpy.human_based.TLO.BaseTLO: >Epoch: 82, Current best: 100.0, Global best: 100.0, Runtime: 0.01163 seconds\n",
      "2022/07/06 10:40:01 PM, INFO, mealpy.human_based.TLO.BaseTLO: >Epoch: 82, Current best: 100.0, Global best: 100.0, Runtime: 0.01163 seconds\n",
      "2022/07/06 10:40:01 PM, INFO, mealpy.human_based.TLO.BaseTLO: >Epoch: 82, Current best: 100.0, Global best: 100.0, Runtime: 0.01163 seconds\n",
      "2022/07/06 10:40:01 PM, INFO, mealpy.human_based.TLO.BaseTLO: >Epoch: 83, Current best: 100.0, Global best: 100.0, Runtime: 0.01042 seconds\n",
      "2022/07/06 10:40:01 PM, INFO, mealpy.human_based.TLO.BaseTLO: >Epoch: 83, Current best: 100.0, Global best: 100.0, Runtime: 0.01042 seconds\n",
      "2022/07/06 10:40:01 PM, INFO, mealpy.human_based.TLO.BaseTLO: >Epoch: 83, Current best: 100.0, Global best: 100.0, Runtime: 0.01042 seconds\n",
      "2022/07/06 10:40:01 PM, INFO, mealpy.human_based.TLO.BaseTLO: >Epoch: 84, Current best: 100.0, Global best: 100.0, Runtime: 0.01048 seconds\n",
      "2022/07/06 10:40:01 PM, INFO, mealpy.human_based.TLO.BaseTLO: >Epoch: 84, Current best: 100.0, Global best: 100.0, Runtime: 0.01048 seconds\n",
      "2022/07/06 10:40:01 PM, INFO, mealpy.human_based.TLO.BaseTLO: >Epoch: 84, Current best: 100.0, Global best: 100.0, Runtime: 0.01048 seconds\n",
      "2022/07/06 10:40:01 PM, INFO, mealpy.human_based.TLO.BaseTLO: >Epoch: 85, Current best: 100.0, Global best: 100.0, Runtime: 0.01034 seconds\n",
      "2022/07/06 10:40:01 PM, INFO, mealpy.human_based.TLO.BaseTLO: >Epoch: 85, Current best: 100.0, Global best: 100.0, Runtime: 0.01034 seconds\n",
      "2022/07/06 10:40:01 PM, INFO, mealpy.human_based.TLO.BaseTLO: >Epoch: 85, Current best: 100.0, Global best: 100.0, Runtime: 0.01034 seconds\n",
      "2022/07/06 10:40:01 PM, INFO, mealpy.human_based.TLO.BaseTLO: >Epoch: 86, Current best: 100.0, Global best: 100.0, Runtime: 0.00979 seconds\n",
      "2022/07/06 10:40:01 PM, INFO, mealpy.human_based.TLO.BaseTLO: >Epoch: 86, Current best: 100.0, Global best: 100.0, Runtime: 0.00979 seconds\n",
      "2022/07/06 10:40:01 PM, INFO, mealpy.human_based.TLO.BaseTLO: >Epoch: 86, Current best: 100.0, Global best: 100.0, Runtime: 0.00979 seconds\n",
      "2022/07/06 10:40:01 PM, INFO, mealpy.human_based.TLO.BaseTLO: >Epoch: 87, Current best: 100.0, Global best: 100.0, Runtime: 0.00985 seconds\n",
      "2022/07/06 10:40:01 PM, INFO, mealpy.human_based.TLO.BaseTLO: >Epoch: 87, Current best: 100.0, Global best: 100.0, Runtime: 0.00985 seconds\n",
      "2022/07/06 10:40:01 PM, INFO, mealpy.human_based.TLO.BaseTLO: >Epoch: 87, Current best: 100.0, Global best: 100.0, Runtime: 0.00985 seconds\n",
      "2022/07/06 10:40:01 PM, INFO, mealpy.human_based.TLO.BaseTLO: >Epoch: 88, Current best: 100.0, Global best: 100.0, Runtime: 0.01107 seconds\n",
      "2022/07/06 10:40:01 PM, INFO, mealpy.human_based.TLO.BaseTLO: >Epoch: 88, Current best: 100.0, Global best: 100.0, Runtime: 0.01107 seconds\n",
      "2022/07/06 10:40:01 PM, INFO, mealpy.human_based.TLO.BaseTLO: >Epoch: 88, Current best: 100.0, Global best: 100.0, Runtime: 0.01107 seconds\n",
      "2022/07/06 10:40:01 PM, INFO, mealpy.human_based.TLO.BaseTLO: >Epoch: 89, Current best: 100.0, Global best: 100.0, Runtime: 0.01001 seconds\n",
      "2022/07/06 10:40:01 PM, INFO, mealpy.human_based.TLO.BaseTLO: >Epoch: 89, Current best: 100.0, Global best: 100.0, Runtime: 0.01001 seconds\n",
      "2022/07/06 10:40:01 PM, INFO, mealpy.human_based.TLO.BaseTLO: >Epoch: 89, Current best: 100.0, Global best: 100.0, Runtime: 0.01001 seconds\n",
      "2022/07/06 10:40:01 PM, INFO, mealpy.human_based.TLO.BaseTLO: >Epoch: 90, Current best: 100.0, Global best: 100.0, Runtime: 0.01009 seconds\n",
      "2022/07/06 10:40:01 PM, INFO, mealpy.human_based.TLO.BaseTLO: >Epoch: 90, Current best: 100.0, Global best: 100.0, Runtime: 0.01009 seconds\n",
      "2022/07/06 10:40:01 PM, INFO, mealpy.human_based.TLO.BaseTLO: >Epoch: 90, Current best: 100.0, Global best: 100.0, Runtime: 0.01009 seconds\n",
      "2022/07/06 10:40:01 PM, INFO, mealpy.human_based.TLO.BaseTLO: >Epoch: 91, Current best: 100.0, Global best: 100.0, Runtime: 0.00966 seconds\n",
      "2022/07/06 10:40:01 PM, INFO, mealpy.human_based.TLO.BaseTLO: >Epoch: 91, Current best: 100.0, Global best: 100.0, Runtime: 0.00966 seconds\n",
      "2022/07/06 10:40:01 PM, INFO, mealpy.human_based.TLO.BaseTLO: >Epoch: 91, Current best: 100.0, Global best: 100.0, Runtime: 0.00966 seconds\n",
      "2022/07/06 10:40:01 PM, INFO, mealpy.human_based.TLO.BaseTLO: >Epoch: 92, Current best: 100.0, Global best: 100.0, Runtime: 0.01214 seconds\n",
      "2022/07/06 10:40:01 PM, INFO, mealpy.human_based.TLO.BaseTLO: >Epoch: 92, Current best: 100.0, Global best: 100.0, Runtime: 0.01214 seconds\n",
      "2022/07/06 10:40:01 PM, INFO, mealpy.human_based.TLO.BaseTLO: >Epoch: 92, Current best: 100.0, Global best: 100.0, Runtime: 0.01214 seconds\n",
      "2022/07/06 10:40:01 PM, INFO, mealpy.human_based.TLO.BaseTLO: >Epoch: 93, Current best: 100.0, Global best: 100.0, Runtime: 0.01540 seconds\n",
      "2022/07/06 10:40:01 PM, INFO, mealpy.human_based.TLO.BaseTLO: >Epoch: 93, Current best: 100.0, Global best: 100.0, Runtime: 0.01540 seconds\n",
      "2022/07/06 10:40:01 PM, INFO, mealpy.human_based.TLO.BaseTLO: >Epoch: 93, Current best: 100.0, Global best: 100.0, Runtime: 0.01540 seconds\n",
      "2022/07/06 10:40:01 PM, INFO, mealpy.human_based.TLO.BaseTLO: >Epoch: 94, Current best: 100.0, Global best: 100.0, Runtime: 0.01052 seconds\n",
      "2022/07/06 10:40:01 PM, INFO, mealpy.human_based.TLO.BaseTLO: >Epoch: 94, Current best: 100.0, Global best: 100.0, Runtime: 0.01052 seconds\n",
      "2022/07/06 10:40:01 PM, INFO, mealpy.human_based.TLO.BaseTLO: >Epoch: 94, Current best: 100.0, Global best: 100.0, Runtime: 0.01052 seconds\n",
      "2022/07/06 10:40:01 PM, INFO, mealpy.human_based.TLO.BaseTLO: >Epoch: 95, Current best: 100.0, Global best: 100.0, Runtime: 0.01164 seconds\n",
      "2022/07/06 10:40:01 PM, INFO, mealpy.human_based.TLO.BaseTLO: >Epoch: 95, Current best: 100.0, Global best: 100.0, Runtime: 0.01164 seconds\n",
      "2022/07/06 10:40:01 PM, INFO, mealpy.human_based.TLO.BaseTLO: >Epoch: 95, Current best: 100.0, Global best: 100.0, Runtime: 0.01164 seconds\n",
      "2022/07/06 10:40:01 PM, INFO, mealpy.human_based.TLO.BaseTLO: >Epoch: 96, Current best: 100.0, Global best: 100.0, Runtime: 0.01032 seconds\n",
      "2022/07/06 10:40:01 PM, INFO, mealpy.human_based.TLO.BaseTLO: >Epoch: 96, Current best: 100.0, Global best: 100.0, Runtime: 0.01032 seconds\n",
      "2022/07/06 10:40:01 PM, INFO, mealpy.human_based.TLO.BaseTLO: >Epoch: 96, Current best: 100.0, Global best: 100.0, Runtime: 0.01032 seconds\n",
      "2022/07/06 10:40:01 PM, INFO, mealpy.human_based.TLO.BaseTLO: >Epoch: 97, Current best: 100.0, Global best: 100.0, Runtime: 0.00974 seconds\n",
      "2022/07/06 10:40:01 PM, INFO, mealpy.human_based.TLO.BaseTLO: >Epoch: 97, Current best: 100.0, Global best: 100.0, Runtime: 0.00974 seconds\n",
      "2022/07/06 10:40:01 PM, INFO, mealpy.human_based.TLO.BaseTLO: >Epoch: 97, Current best: 100.0, Global best: 100.0, Runtime: 0.00974 seconds\n",
      "2022/07/06 10:40:01 PM, INFO, mealpy.human_based.TLO.BaseTLO: >Epoch: 98, Current best: 100.0, Global best: 100.0, Runtime: 0.01060 seconds\n",
      "2022/07/06 10:40:01 PM, INFO, mealpy.human_based.TLO.BaseTLO: >Epoch: 98, Current best: 100.0, Global best: 100.0, Runtime: 0.01060 seconds\n",
      "2022/07/06 10:40:01 PM, INFO, mealpy.human_based.TLO.BaseTLO: >Epoch: 98, Current best: 100.0, Global best: 100.0, Runtime: 0.01060 seconds\n",
      "2022/07/06 10:40:01 PM, INFO, mealpy.human_based.TLO.BaseTLO: >Epoch: 99, Current best: 100.0, Global best: 100.0, Runtime: 0.01092 seconds\n",
      "2022/07/06 10:40:01 PM, INFO, mealpy.human_based.TLO.BaseTLO: >Epoch: 99, Current best: 100.0, Global best: 100.0, Runtime: 0.01092 seconds\n",
      "2022/07/06 10:40:01 PM, INFO, mealpy.human_based.TLO.BaseTLO: >Epoch: 99, Current best: 100.0, Global best: 100.0, Runtime: 0.01092 seconds\n",
      "2022/07/06 10:40:01 PM, INFO, mealpy.human_based.TLO.BaseTLO: >Epoch: 100, Current best: 100.0, Global best: 100.0, Runtime: 0.01214 seconds\n",
      "2022/07/06 10:40:01 PM, INFO, mealpy.human_based.TLO.BaseTLO: >Epoch: 100, Current best: 100.0, Global best: 100.0, Runtime: 0.01214 seconds\n"
     ]
    },
    {
     "name": "stderr",
     "output_type": "stream",
     "text": [
      "2022/07/06 10:40:01 PM, INFO, mealpy.human_based.TLO.BaseTLO: >Epoch: 100, Current best: 100.0, Global best: 100.0, Runtime: 0.01214 seconds\n",
      "2022/07/06 10:40:01 PM, INFO, mealpy.human_based.TLO.BaseTLO: Solving single objective optimization problem.\n",
      "2022/07/06 10:40:01 PM, INFO, mealpy.human_based.TLO.BaseTLO: Solving single objective optimization problem.\n",
      "2022/07/06 10:40:01 PM, INFO, mealpy.human_based.TLO.BaseTLO: Solving single objective optimization problem.\n",
      "2022/07/06 10:40:01 PM, INFO, mealpy.human_based.TLO.BaseTLO: Solving single objective optimization problem.\n",
      "2022/07/06 10:40:01 PM, INFO, mealpy.human_based.TLO.BaseTLO: >Epoch: 1, Current best: 103.95702328818118, Global best: 103.95702328818118, Runtime: 0.01215 seconds\n",
      "2022/07/06 10:40:01 PM, INFO, mealpy.human_based.TLO.BaseTLO: >Epoch: 1, Current best: 103.95702328818118, Global best: 103.95702328818118, Runtime: 0.01215 seconds\n",
      "2022/07/06 10:40:01 PM, INFO, mealpy.human_based.TLO.BaseTLO: >Epoch: 1, Current best: 103.95702328818118, Global best: 103.95702328818118, Runtime: 0.01215 seconds\n",
      "2022/07/06 10:40:01 PM, INFO, mealpy.human_based.TLO.BaseTLO: >Epoch: 1, Current best: 103.95702328818118, Global best: 103.95702328818118, Runtime: 0.01215 seconds\n",
      "2022/07/06 10:40:01 PM, INFO, mealpy.human_based.TLO.BaseTLO: >Epoch: 2, Current best: 100.27494500713524, Global best: 100.27494500713524, Runtime: 0.01207 seconds\n",
      "2022/07/06 10:40:01 PM, INFO, mealpy.human_based.TLO.BaseTLO: >Epoch: 2, Current best: 100.27494500713524, Global best: 100.27494500713524, Runtime: 0.01207 seconds\n",
      "2022/07/06 10:40:01 PM, INFO, mealpy.human_based.TLO.BaseTLO: >Epoch: 2, Current best: 100.27494500713524, Global best: 100.27494500713524, Runtime: 0.01207 seconds\n",
      "2022/07/06 10:40:01 PM, INFO, mealpy.human_based.TLO.BaseTLO: >Epoch: 2, Current best: 100.27494500713524, Global best: 100.27494500713524, Runtime: 0.01207 seconds\n",
      "2022/07/06 10:40:01 PM, INFO, mealpy.human_based.TLO.BaseTLO: >Epoch: 3, Current best: 100.27494500713524, Global best: 100.27494500713524, Runtime: 0.01048 seconds\n",
      "2022/07/06 10:40:01 PM, INFO, mealpy.human_based.TLO.BaseTLO: >Epoch: 3, Current best: 100.27494500713524, Global best: 100.27494500713524, Runtime: 0.01048 seconds\n",
      "2022/07/06 10:40:01 PM, INFO, mealpy.human_based.TLO.BaseTLO: >Epoch: 3, Current best: 100.27494500713524, Global best: 100.27494500713524, Runtime: 0.01048 seconds\n",
      "2022/07/06 10:40:01 PM, INFO, mealpy.human_based.TLO.BaseTLO: >Epoch: 3, Current best: 100.27494500713524, Global best: 100.27494500713524, Runtime: 0.01048 seconds\n",
      "2022/07/06 10:40:01 PM, INFO, mealpy.human_based.TLO.BaseTLO: >Epoch: 4, Current best: 100.27494500713524, Global best: 100.27494500713524, Runtime: 0.01081 seconds\n",
      "2022/07/06 10:40:01 PM, INFO, mealpy.human_based.TLO.BaseTLO: >Epoch: 4, Current best: 100.27494500713524, Global best: 100.27494500713524, Runtime: 0.01081 seconds\n",
      "2022/07/06 10:40:01 PM, INFO, mealpy.human_based.TLO.BaseTLO: >Epoch: 4, Current best: 100.27494500713524, Global best: 100.27494500713524, Runtime: 0.01081 seconds\n",
      "2022/07/06 10:40:01 PM, INFO, mealpy.human_based.TLO.BaseTLO: >Epoch: 4, Current best: 100.27494500713524, Global best: 100.27494500713524, Runtime: 0.01081 seconds\n",
      "2022/07/06 10:40:01 PM, INFO, mealpy.human_based.TLO.BaseTLO: >Epoch: 5, Current best: 100.27494500713524, Global best: 100.27494500713524, Runtime: 0.01093 seconds\n",
      "2022/07/06 10:40:01 PM, INFO, mealpy.human_based.TLO.BaseTLO: >Epoch: 5, Current best: 100.27494500713524, Global best: 100.27494500713524, Runtime: 0.01093 seconds\n",
      "2022/07/06 10:40:01 PM, INFO, mealpy.human_based.TLO.BaseTLO: >Epoch: 5, Current best: 100.27494500713524, Global best: 100.27494500713524, Runtime: 0.01093 seconds\n",
      "2022/07/06 10:40:01 PM, INFO, mealpy.human_based.TLO.BaseTLO: >Epoch: 5, Current best: 100.27494500713524, Global best: 100.27494500713524, Runtime: 0.01093 seconds\n",
      "2022/07/06 10:40:02 PM, INFO, mealpy.human_based.TLO.BaseTLO: >Epoch: 6, Current best: 100.27494500713524, Global best: 100.27494500713524, Runtime: 0.01055 seconds\n",
      "2022/07/06 10:40:02 PM, INFO, mealpy.human_based.TLO.BaseTLO: >Epoch: 6, Current best: 100.27494500713524, Global best: 100.27494500713524, Runtime: 0.01055 seconds\n",
      "2022/07/06 10:40:02 PM, INFO, mealpy.human_based.TLO.BaseTLO: >Epoch: 6, Current best: 100.27494500713524, Global best: 100.27494500713524, Runtime: 0.01055 seconds\n",
      "2022/07/06 10:40:02 PM, INFO, mealpy.human_based.TLO.BaseTLO: >Epoch: 6, Current best: 100.27494500713524, Global best: 100.27494500713524, Runtime: 0.01055 seconds\n",
      "2022/07/06 10:40:02 PM, INFO, mealpy.human_based.TLO.BaseTLO: >Epoch: 7, Current best: 100.00602825169608, Global best: 100.00602825169608, Runtime: 0.01184 seconds\n",
      "2022/07/06 10:40:02 PM, INFO, mealpy.human_based.TLO.BaseTLO: >Epoch: 7, Current best: 100.00602825169608, Global best: 100.00602825169608, Runtime: 0.01184 seconds\n",
      "2022/07/06 10:40:02 PM, INFO, mealpy.human_based.TLO.BaseTLO: >Epoch: 7, Current best: 100.00602825169608, Global best: 100.00602825169608, Runtime: 0.01184 seconds\n",
      "2022/07/06 10:40:02 PM, INFO, mealpy.human_based.TLO.BaseTLO: >Epoch: 7, Current best: 100.00602825169608, Global best: 100.00602825169608, Runtime: 0.01184 seconds\n",
      "2022/07/06 10:40:02 PM, INFO, mealpy.human_based.TLO.BaseTLO: >Epoch: 8, Current best: 100.00602825169608, Global best: 100.00602825169608, Runtime: 0.01010 seconds\n",
      "2022/07/06 10:40:02 PM, INFO, mealpy.human_based.TLO.BaseTLO: >Epoch: 8, Current best: 100.00602825169608, Global best: 100.00602825169608, Runtime: 0.01010 seconds\n",
      "2022/07/06 10:40:02 PM, INFO, mealpy.human_based.TLO.BaseTLO: >Epoch: 8, Current best: 100.00602825169608, Global best: 100.00602825169608, Runtime: 0.01010 seconds\n",
      "2022/07/06 10:40:02 PM, INFO, mealpy.human_based.TLO.BaseTLO: >Epoch: 8, Current best: 100.00602825169608, Global best: 100.00602825169608, Runtime: 0.01010 seconds\n",
      "2022/07/06 10:40:02 PM, INFO, mealpy.human_based.TLO.BaseTLO: >Epoch: 9, Current best: 100.00602825169608, Global best: 100.00602825169608, Runtime: 0.01359 seconds\n",
      "2022/07/06 10:40:02 PM, INFO, mealpy.human_based.TLO.BaseTLO: >Epoch: 9, Current best: 100.00602825169608, Global best: 100.00602825169608, Runtime: 0.01359 seconds\n",
      "2022/07/06 10:40:02 PM, INFO, mealpy.human_based.TLO.BaseTLO: >Epoch: 9, Current best: 100.00602825169608, Global best: 100.00602825169608, Runtime: 0.01359 seconds\n",
      "2022/07/06 10:40:02 PM, INFO, mealpy.human_based.TLO.BaseTLO: >Epoch: 9, Current best: 100.00602825169608, Global best: 100.00602825169608, Runtime: 0.01359 seconds\n",
      "2022/07/06 10:40:02 PM, INFO, mealpy.human_based.TLO.BaseTLO: >Epoch: 10, Current best: 100.00602825169608, Global best: 100.00602825169608, Runtime: 0.01240 seconds\n",
      "2022/07/06 10:40:02 PM, INFO, mealpy.human_based.TLO.BaseTLO: >Epoch: 10, Current best: 100.00602825169608, Global best: 100.00602825169608, Runtime: 0.01240 seconds\n",
      "2022/07/06 10:40:02 PM, INFO, mealpy.human_based.TLO.BaseTLO: >Epoch: 10, Current best: 100.00602825169608, Global best: 100.00602825169608, Runtime: 0.01240 seconds\n",
      "2022/07/06 10:40:02 PM, INFO, mealpy.human_based.TLO.BaseTLO: >Epoch: 10, Current best: 100.00602825169608, Global best: 100.00602825169608, Runtime: 0.01240 seconds\n",
      "2022/07/06 10:40:02 PM, INFO, mealpy.human_based.TLO.BaseTLO: >Epoch: 11, Current best: 100.00602825169608, Global best: 100.00602825169608, Runtime: 0.01087 seconds\n",
      "2022/07/06 10:40:02 PM, INFO, mealpy.human_based.TLO.BaseTLO: >Epoch: 11, Current best: 100.00602825169608, Global best: 100.00602825169608, Runtime: 0.01087 seconds\n",
      "2022/07/06 10:40:02 PM, INFO, mealpy.human_based.TLO.BaseTLO: >Epoch: 11, Current best: 100.00602825169608, Global best: 100.00602825169608, Runtime: 0.01087 seconds\n",
      "2022/07/06 10:40:02 PM, INFO, mealpy.human_based.TLO.BaseTLO: >Epoch: 11, Current best: 100.00602825169608, Global best: 100.00602825169608, Runtime: 0.01087 seconds\n",
      "2022/07/06 10:40:02 PM, INFO, mealpy.human_based.TLO.BaseTLO: >Epoch: 12, Current best: 100.00602825169608, Global best: 100.00602825169608, Runtime: 0.01041 seconds\n",
      "2022/07/06 10:40:02 PM, INFO, mealpy.human_based.TLO.BaseTLO: >Epoch: 12, Current best: 100.00602825169608, Global best: 100.00602825169608, Runtime: 0.01041 seconds\n",
      "2022/07/06 10:40:02 PM, INFO, mealpy.human_based.TLO.BaseTLO: >Epoch: 12, Current best: 100.00602825169608, Global best: 100.00602825169608, Runtime: 0.01041 seconds\n"
     ]
    },
    {
     "name": "stderr",
     "output_type": "stream",
     "text": [
      "2022/07/06 10:40:02 PM, INFO, mealpy.human_based.TLO.BaseTLO: >Epoch: 12, Current best: 100.00602825169608, Global best: 100.00602825169608, Runtime: 0.01041 seconds\n",
      "2022/07/06 10:40:02 PM, INFO, mealpy.human_based.TLO.BaseTLO: >Epoch: 13, Current best: 100.00602825169608, Global best: 100.00602825169608, Runtime: 0.01097 seconds\n"
     ]
    },
    {
     "name": "stdout",
     "output_type": "stream",
     "text": [
      "Solution: [-1.65271784e-09  3.34438396e-09  0.00000000e+00 -1.00000000e+01], Fitness: 100.0\n"
     ]
    },
    {
     "name": "stderr",
     "output_type": "stream",
     "text": [
      "2022/07/06 10:40:02 PM, INFO, mealpy.human_based.TLO.BaseTLO: >Epoch: 13, Current best: 100.00602825169608, Global best: 100.00602825169608, Runtime: 0.01097 seconds\n",
      "2022/07/06 10:40:02 PM, INFO, mealpy.human_based.TLO.BaseTLO: >Epoch: 13, Current best: 100.00602825169608, Global best: 100.00602825169608, Runtime: 0.01097 seconds\n",
      "2022/07/06 10:40:02 PM, INFO, mealpy.human_based.TLO.BaseTLO: >Epoch: 13, Current best: 100.00602825169608, Global best: 100.00602825169608, Runtime: 0.01097 seconds\n",
      "2022/07/06 10:40:02 PM, INFO, mealpy.human_based.TLO.BaseTLO: >Epoch: 14, Current best: 100.00602825169608, Global best: 100.00602825169608, Runtime: 0.01151 seconds\n",
      "2022/07/06 10:40:02 PM, INFO, mealpy.human_based.TLO.BaseTLO: >Epoch: 14, Current best: 100.00602825169608, Global best: 100.00602825169608, Runtime: 0.01151 seconds\n",
      "2022/07/06 10:40:02 PM, INFO, mealpy.human_based.TLO.BaseTLO: >Epoch: 14, Current best: 100.00602825169608, Global best: 100.00602825169608, Runtime: 0.01151 seconds\n",
      "2022/07/06 10:40:02 PM, INFO, mealpy.human_based.TLO.BaseTLO: >Epoch: 14, Current best: 100.00602825169608, Global best: 100.00602825169608, Runtime: 0.01151 seconds\n",
      "2022/07/06 10:40:02 PM, INFO, mealpy.human_based.TLO.BaseTLO: >Epoch: 15, Current best: 100.00473598436483, Global best: 100.00473598436483, Runtime: 0.01083 seconds\n",
      "2022/07/06 10:40:02 PM, INFO, mealpy.human_based.TLO.BaseTLO: >Epoch: 15, Current best: 100.00473598436483, Global best: 100.00473598436483, Runtime: 0.01083 seconds\n",
      "2022/07/06 10:40:02 PM, INFO, mealpy.human_based.TLO.BaseTLO: >Epoch: 15, Current best: 100.00473598436483, Global best: 100.00473598436483, Runtime: 0.01083 seconds\n",
      "2022/07/06 10:40:02 PM, INFO, mealpy.human_based.TLO.BaseTLO: >Epoch: 15, Current best: 100.00473598436483, Global best: 100.00473598436483, Runtime: 0.01083 seconds\n",
      "2022/07/06 10:40:02 PM, INFO, mealpy.human_based.TLO.BaseTLO: >Epoch: 16, Current best: 100.00473598436483, Global best: 100.00473598436483, Runtime: 0.01025 seconds\n",
      "2022/07/06 10:40:02 PM, INFO, mealpy.human_based.TLO.BaseTLO: >Epoch: 16, Current best: 100.00473598436483, Global best: 100.00473598436483, Runtime: 0.01025 seconds\n",
      "2022/07/06 10:40:02 PM, INFO, mealpy.human_based.TLO.BaseTLO: >Epoch: 16, Current best: 100.00473598436483, Global best: 100.00473598436483, Runtime: 0.01025 seconds\n",
      "2022/07/06 10:40:02 PM, INFO, mealpy.human_based.TLO.BaseTLO: >Epoch: 16, Current best: 100.00473598436483, Global best: 100.00473598436483, Runtime: 0.01025 seconds\n",
      "2022/07/06 10:40:02 PM, INFO, mealpy.human_based.TLO.BaseTLO: >Epoch: 17, Current best: 100.00473598436483, Global best: 100.00473598436483, Runtime: 0.01055 seconds\n",
      "2022/07/06 10:40:02 PM, INFO, mealpy.human_based.TLO.BaseTLO: >Epoch: 17, Current best: 100.00473598436483, Global best: 100.00473598436483, Runtime: 0.01055 seconds\n",
      "2022/07/06 10:40:02 PM, INFO, mealpy.human_based.TLO.BaseTLO: >Epoch: 17, Current best: 100.00473598436483, Global best: 100.00473598436483, Runtime: 0.01055 seconds\n",
      "2022/07/06 10:40:02 PM, INFO, mealpy.human_based.TLO.BaseTLO: >Epoch: 17, Current best: 100.00473598436483, Global best: 100.00473598436483, Runtime: 0.01055 seconds\n",
      "2022/07/06 10:40:02 PM, INFO, mealpy.human_based.TLO.BaseTLO: >Epoch: 18, Current best: 100.00473598436483, Global best: 100.00473598436483, Runtime: 0.01020 seconds\n",
      "2022/07/06 10:40:02 PM, INFO, mealpy.human_based.TLO.BaseTLO: >Epoch: 18, Current best: 100.00473598436483, Global best: 100.00473598436483, Runtime: 0.01020 seconds\n",
      "2022/07/06 10:40:02 PM, INFO, mealpy.human_based.TLO.BaseTLO: >Epoch: 18, Current best: 100.00473598436483, Global best: 100.00473598436483, Runtime: 0.01020 seconds\n",
      "2022/07/06 10:40:02 PM, INFO, mealpy.human_based.TLO.BaseTLO: >Epoch: 18, Current best: 100.00473598436483, Global best: 100.00473598436483, Runtime: 0.01020 seconds\n",
      "2022/07/06 10:40:02 PM, INFO, mealpy.human_based.TLO.BaseTLO: >Epoch: 19, Current best: 100.00460708193472, Global best: 100.00460708193472, Runtime: 0.01087 seconds\n",
      "2022/07/06 10:40:02 PM, INFO, mealpy.human_based.TLO.BaseTLO: >Epoch: 19, Current best: 100.00460708193472, Global best: 100.00460708193472, Runtime: 0.01087 seconds\n",
      "2022/07/06 10:40:02 PM, INFO, mealpy.human_based.TLO.BaseTLO: >Epoch: 19, Current best: 100.00460708193472, Global best: 100.00460708193472, Runtime: 0.01087 seconds\n",
      "2022/07/06 10:40:02 PM, INFO, mealpy.human_based.TLO.BaseTLO: >Epoch: 19, Current best: 100.00460708193472, Global best: 100.00460708193472, Runtime: 0.01087 seconds\n",
      "2022/07/06 10:40:02 PM, INFO, mealpy.human_based.TLO.BaseTLO: >Epoch: 20, Current best: 100.00057802490224, Global best: 100.00057802490224, Runtime: 0.01068 seconds\n",
      "2022/07/06 10:40:02 PM, INFO, mealpy.human_based.TLO.BaseTLO: >Epoch: 20, Current best: 100.00057802490224, Global best: 100.00057802490224, Runtime: 0.01068 seconds\n",
      "2022/07/06 10:40:02 PM, INFO, mealpy.human_based.TLO.BaseTLO: >Epoch: 20, Current best: 100.00057802490224, Global best: 100.00057802490224, Runtime: 0.01068 seconds\n",
      "2022/07/06 10:40:02 PM, INFO, mealpy.human_based.TLO.BaseTLO: >Epoch: 20, Current best: 100.00057802490224, Global best: 100.00057802490224, Runtime: 0.01068 seconds\n",
      "2022/07/06 10:40:02 PM, INFO, mealpy.human_based.TLO.BaseTLO: >Epoch: 21, Current best: 100.00057802490224, Global best: 100.00057802490224, Runtime: 0.01005 seconds\n",
      "2022/07/06 10:40:02 PM, INFO, mealpy.human_based.TLO.BaseTLO: >Epoch: 21, Current best: 100.00057802490224, Global best: 100.00057802490224, Runtime: 0.01005 seconds\n",
      "2022/07/06 10:40:02 PM, INFO, mealpy.human_based.TLO.BaseTLO: >Epoch: 21, Current best: 100.00057802490224, Global best: 100.00057802490224, Runtime: 0.01005 seconds\n",
      "2022/07/06 10:40:02 PM, INFO, mealpy.human_based.TLO.BaseTLO: >Epoch: 21, Current best: 100.00057802490224, Global best: 100.00057802490224, Runtime: 0.01005 seconds\n",
      "2022/07/06 10:40:02 PM, INFO, mealpy.human_based.TLO.BaseTLO: >Epoch: 22, Current best: 100.00057802490224, Global best: 100.00057802490224, Runtime: 0.01521 seconds\n",
      "2022/07/06 10:40:02 PM, INFO, mealpy.human_based.TLO.BaseTLO: >Epoch: 22, Current best: 100.00057802490224, Global best: 100.00057802490224, Runtime: 0.01521 seconds\n",
      "2022/07/06 10:40:02 PM, INFO, mealpy.human_based.TLO.BaseTLO: >Epoch: 22, Current best: 100.00057802490224, Global best: 100.00057802490224, Runtime: 0.01521 seconds\n",
      "2022/07/06 10:40:02 PM, INFO, mealpy.human_based.TLO.BaseTLO: >Epoch: 22, Current best: 100.00057802490224, Global best: 100.00057802490224, Runtime: 0.01521 seconds\n",
      "2022/07/06 10:40:02 PM, INFO, mealpy.human_based.TLO.BaseTLO: >Epoch: 23, Current best: 100.00038756090612, Global best: 100.00038756090612, Runtime: 0.00998 seconds\n",
      "2022/07/06 10:40:02 PM, INFO, mealpy.human_based.TLO.BaseTLO: >Epoch: 23, Current best: 100.00038756090612, Global best: 100.00038756090612, Runtime: 0.00998 seconds\n",
      "2022/07/06 10:40:02 PM, INFO, mealpy.human_based.TLO.BaseTLO: >Epoch: 23, Current best: 100.00038756090612, Global best: 100.00038756090612, Runtime: 0.00998 seconds\n",
      "2022/07/06 10:40:02 PM, INFO, mealpy.human_based.TLO.BaseTLO: >Epoch: 23, Current best: 100.00038756090612, Global best: 100.00038756090612, Runtime: 0.00998 seconds\n",
      "2022/07/06 10:40:02 PM, INFO, mealpy.human_based.TLO.BaseTLO: >Epoch: 24, Current best: 100.00038756090612, Global best: 100.00038756090612, Runtime: 0.01137 seconds\n",
      "2022/07/06 10:40:02 PM, INFO, mealpy.human_based.TLO.BaseTLO: >Epoch: 24, Current best: 100.00038756090612, Global best: 100.00038756090612, Runtime: 0.01137 seconds\n",
      "2022/07/06 10:40:02 PM, INFO, mealpy.human_based.TLO.BaseTLO: >Epoch: 24, Current best: 100.00038756090612, Global best: 100.00038756090612, Runtime: 0.01137 seconds\n",
      "2022/07/06 10:40:02 PM, INFO, mealpy.human_based.TLO.BaseTLO: >Epoch: 24, Current best: 100.00038756090612, Global best: 100.00038756090612, Runtime: 0.01137 seconds\n",
      "2022/07/06 10:40:02 PM, INFO, mealpy.human_based.TLO.BaseTLO: >Epoch: 25, Current best: 100.00038756090612, Global best: 100.00038756090612, Runtime: 0.01018 seconds\n",
      "2022/07/06 10:40:02 PM, INFO, mealpy.human_based.TLO.BaseTLO: >Epoch: 25, Current best: 100.00038756090612, Global best: 100.00038756090612, Runtime: 0.01018 seconds\n",
      "2022/07/06 10:40:02 PM, INFO, mealpy.human_based.TLO.BaseTLO: >Epoch: 25, Current best: 100.00038756090612, Global best: 100.00038756090612, Runtime: 0.01018 seconds\n"
     ]
    },
    {
     "name": "stderr",
     "output_type": "stream",
     "text": [
      "2022/07/06 10:40:02 PM, INFO, mealpy.human_based.TLO.BaseTLO: >Epoch: 25, Current best: 100.00038756090612, Global best: 100.00038756090612, Runtime: 0.01018 seconds\n",
      "2022/07/06 10:40:02 PM, INFO, mealpy.human_based.TLO.BaseTLO: >Epoch: 26, Current best: 100.0001656633394, Global best: 100.0001656633394, Runtime: 0.01221 seconds\n",
      "2022/07/06 10:40:02 PM, INFO, mealpy.human_based.TLO.BaseTLO: >Epoch: 26, Current best: 100.0001656633394, Global best: 100.0001656633394, Runtime: 0.01221 seconds\n",
      "2022/07/06 10:40:02 PM, INFO, mealpy.human_based.TLO.BaseTLO: >Epoch: 26, Current best: 100.0001656633394, Global best: 100.0001656633394, Runtime: 0.01221 seconds\n",
      "2022/07/06 10:40:02 PM, INFO, mealpy.human_based.TLO.BaseTLO: >Epoch: 26, Current best: 100.0001656633394, Global best: 100.0001656633394, Runtime: 0.01221 seconds\n",
      "2022/07/06 10:40:02 PM, INFO, mealpy.human_based.TLO.BaseTLO: >Epoch: 27, Current best: 100.00010964950101, Global best: 100.00010964950101, Runtime: 0.01104 seconds\n",
      "2022/07/06 10:40:02 PM, INFO, mealpy.human_based.TLO.BaseTLO: >Epoch: 27, Current best: 100.00010964950101, Global best: 100.00010964950101, Runtime: 0.01104 seconds\n",
      "2022/07/06 10:40:02 PM, INFO, mealpy.human_based.TLO.BaseTLO: >Epoch: 27, Current best: 100.00010964950101, Global best: 100.00010964950101, Runtime: 0.01104 seconds\n",
      "2022/07/06 10:40:02 PM, INFO, mealpy.human_based.TLO.BaseTLO: >Epoch: 27, Current best: 100.00010964950101, Global best: 100.00010964950101, Runtime: 0.01104 seconds\n",
      "2022/07/06 10:40:02 PM, INFO, mealpy.human_based.TLO.BaseTLO: >Epoch: 28, Current best: 100.00005485488, Global best: 100.00005485488, Runtime: 0.01019 seconds\n",
      "2022/07/06 10:40:02 PM, INFO, mealpy.human_based.TLO.BaseTLO: >Epoch: 28, Current best: 100.00005485488, Global best: 100.00005485488, Runtime: 0.01019 seconds\n",
      "2022/07/06 10:40:02 PM, INFO, mealpy.human_based.TLO.BaseTLO: >Epoch: 28, Current best: 100.00005485488, Global best: 100.00005485488, Runtime: 0.01019 seconds\n",
      "2022/07/06 10:40:02 PM, INFO, mealpy.human_based.TLO.BaseTLO: >Epoch: 28, Current best: 100.00005485488, Global best: 100.00005485488, Runtime: 0.01019 seconds\n",
      "2022/07/06 10:40:02 PM, INFO, mealpy.human_based.TLO.BaseTLO: >Epoch: 29, Current best: 100.00005485488, Global best: 100.00005485488, Runtime: 0.01108 seconds\n",
      "2022/07/06 10:40:02 PM, INFO, mealpy.human_based.TLO.BaseTLO: >Epoch: 29, Current best: 100.00005485488, Global best: 100.00005485488, Runtime: 0.01108 seconds\n",
      "2022/07/06 10:40:02 PM, INFO, mealpy.human_based.TLO.BaseTLO: >Epoch: 29, Current best: 100.00005485488, Global best: 100.00005485488, Runtime: 0.01108 seconds\n",
      "2022/07/06 10:40:02 PM, INFO, mealpy.human_based.TLO.BaseTLO: >Epoch: 29, Current best: 100.00005485488, Global best: 100.00005485488, Runtime: 0.01108 seconds\n",
      "2022/07/06 10:40:02 PM, INFO, mealpy.human_based.TLO.BaseTLO: >Epoch: 30, Current best: 100.00001717087034, Global best: 100.00001717087034, Runtime: 0.01082 seconds\n",
      "2022/07/06 10:40:02 PM, INFO, mealpy.human_based.TLO.BaseTLO: >Epoch: 30, Current best: 100.00001717087034, Global best: 100.00001717087034, Runtime: 0.01082 seconds\n",
      "2022/07/06 10:40:02 PM, INFO, mealpy.human_based.TLO.BaseTLO: >Epoch: 30, Current best: 100.00001717087034, Global best: 100.00001717087034, Runtime: 0.01082 seconds\n",
      "2022/07/06 10:40:02 PM, INFO, mealpy.human_based.TLO.BaseTLO: >Epoch: 30, Current best: 100.00001717087034, Global best: 100.00001717087034, Runtime: 0.01082 seconds\n",
      "2022/07/06 10:40:02 PM, INFO, mealpy.human_based.TLO.BaseTLO: >Epoch: 31, Current best: 100.00001717087034, Global best: 100.00001717087034, Runtime: 0.00963 seconds\n",
      "2022/07/06 10:40:02 PM, INFO, mealpy.human_based.TLO.BaseTLO: >Epoch: 31, Current best: 100.00001717087034, Global best: 100.00001717087034, Runtime: 0.00963 seconds\n",
      "2022/07/06 10:40:02 PM, INFO, mealpy.human_based.TLO.BaseTLO: >Epoch: 31, Current best: 100.00001717087034, Global best: 100.00001717087034, Runtime: 0.00963 seconds\n",
      "2022/07/06 10:40:02 PM, INFO, mealpy.human_based.TLO.BaseTLO: >Epoch: 31, Current best: 100.00001717087034, Global best: 100.00001717087034, Runtime: 0.00963 seconds\n",
      "2022/07/06 10:40:02 PM, INFO, mealpy.human_based.TLO.BaseTLO: >Epoch: 32, Current best: 100.00001717087034, Global best: 100.00001717087034, Runtime: 0.01041 seconds\n",
      "2022/07/06 10:40:02 PM, INFO, mealpy.human_based.TLO.BaseTLO: >Epoch: 32, Current best: 100.00001717087034, Global best: 100.00001717087034, Runtime: 0.01041 seconds\n",
      "2022/07/06 10:40:02 PM, INFO, mealpy.human_based.TLO.BaseTLO: >Epoch: 32, Current best: 100.00001717087034, Global best: 100.00001717087034, Runtime: 0.01041 seconds\n",
      "2022/07/06 10:40:02 PM, INFO, mealpy.human_based.TLO.BaseTLO: >Epoch: 32, Current best: 100.00001717087034, Global best: 100.00001717087034, Runtime: 0.01041 seconds\n",
      "2022/07/06 10:40:02 PM, INFO, mealpy.human_based.TLO.BaseTLO: >Epoch: 33, Current best: 100.00001717087034, Global best: 100.00001717087034, Runtime: 0.01080 seconds\n",
      "2022/07/06 10:40:02 PM, INFO, mealpy.human_based.TLO.BaseTLO: >Epoch: 33, Current best: 100.00001717087034, Global best: 100.00001717087034, Runtime: 0.01080 seconds\n",
      "2022/07/06 10:40:02 PM, INFO, mealpy.human_based.TLO.BaseTLO: >Epoch: 33, Current best: 100.00001717087034, Global best: 100.00001717087034, Runtime: 0.01080 seconds\n",
      "2022/07/06 10:40:02 PM, INFO, mealpy.human_based.TLO.BaseTLO: >Epoch: 33, Current best: 100.00001717087034, Global best: 100.00001717087034, Runtime: 0.01080 seconds\n",
      "2022/07/06 10:40:02 PM, INFO, mealpy.human_based.TLO.BaseTLO: >Epoch: 34, Current best: 100.00001717087034, Global best: 100.00001717087034, Runtime: 0.01034 seconds\n",
      "2022/07/06 10:40:02 PM, INFO, mealpy.human_based.TLO.BaseTLO: >Epoch: 34, Current best: 100.00001717087034, Global best: 100.00001717087034, Runtime: 0.01034 seconds\n",
      "2022/07/06 10:40:02 PM, INFO, mealpy.human_based.TLO.BaseTLO: >Epoch: 34, Current best: 100.00001717087034, Global best: 100.00001717087034, Runtime: 0.01034 seconds\n",
      "2022/07/06 10:40:02 PM, INFO, mealpy.human_based.TLO.BaseTLO: >Epoch: 34, Current best: 100.00001717087034, Global best: 100.00001717087034, Runtime: 0.01034 seconds\n",
      "2022/07/06 10:40:02 PM, INFO, mealpy.human_based.TLO.BaseTLO: >Epoch: 35, Current best: 100.0000127560663, Global best: 100.0000127560663, Runtime: 0.01022 seconds\n",
      "2022/07/06 10:40:02 PM, INFO, mealpy.human_based.TLO.BaseTLO: >Epoch: 35, Current best: 100.0000127560663, Global best: 100.0000127560663, Runtime: 0.01022 seconds\n",
      "2022/07/06 10:40:02 PM, INFO, mealpy.human_based.TLO.BaseTLO: >Epoch: 35, Current best: 100.0000127560663, Global best: 100.0000127560663, Runtime: 0.01022 seconds\n",
      "2022/07/06 10:40:02 PM, INFO, mealpy.human_based.TLO.BaseTLO: >Epoch: 35, Current best: 100.0000127560663, Global best: 100.0000127560663, Runtime: 0.01022 seconds\n",
      "2022/07/06 10:40:02 PM, INFO, mealpy.human_based.TLO.BaseTLO: >Epoch: 36, Current best: 100.00000075854193, Global best: 100.00000075854193, Runtime: 0.01134 seconds\n",
      "2022/07/06 10:40:02 PM, INFO, mealpy.human_based.TLO.BaseTLO: >Epoch: 36, Current best: 100.00000075854193, Global best: 100.00000075854193, Runtime: 0.01134 seconds\n",
      "2022/07/06 10:40:02 PM, INFO, mealpy.human_based.TLO.BaseTLO: >Epoch: 36, Current best: 100.00000075854193, Global best: 100.00000075854193, Runtime: 0.01134 seconds\n",
      "2022/07/06 10:40:02 PM, INFO, mealpy.human_based.TLO.BaseTLO: >Epoch: 36, Current best: 100.00000075854193, Global best: 100.00000075854193, Runtime: 0.01134 seconds\n",
      "2022/07/06 10:40:02 PM, INFO, mealpy.human_based.TLO.BaseTLO: >Epoch: 37, Current best: 100.00000075854193, Global best: 100.00000075854193, Runtime: 0.01093 seconds\n",
      "2022/07/06 10:40:02 PM, INFO, mealpy.human_based.TLO.BaseTLO: >Epoch: 37, Current best: 100.00000075854193, Global best: 100.00000075854193, Runtime: 0.01093 seconds\n",
      "2022/07/06 10:40:02 PM, INFO, mealpy.human_based.TLO.BaseTLO: >Epoch: 37, Current best: 100.00000075854193, Global best: 100.00000075854193, Runtime: 0.01093 seconds\n",
      "2022/07/06 10:40:02 PM, INFO, mealpy.human_based.TLO.BaseTLO: >Epoch: 37, Current best: 100.00000075854193, Global best: 100.00000075854193, Runtime: 0.01093 seconds\n",
      "2022/07/06 10:40:02 PM, INFO, mealpy.human_based.TLO.BaseTLO: >Epoch: 38, Current best: 100.00000075854193, Global best: 100.00000075854193, Runtime: 0.01023 seconds\n"
     ]
    },
    {
     "name": "stderr",
     "output_type": "stream",
     "text": [
      "2022/07/06 10:40:02 PM, INFO, mealpy.human_based.TLO.BaseTLO: >Epoch: 38, Current best: 100.00000075854193, Global best: 100.00000075854193, Runtime: 0.01023 seconds\n",
      "2022/07/06 10:40:02 PM, INFO, mealpy.human_based.TLO.BaseTLO: >Epoch: 38, Current best: 100.00000075854193, Global best: 100.00000075854193, Runtime: 0.01023 seconds\n",
      "2022/07/06 10:40:02 PM, INFO, mealpy.human_based.TLO.BaseTLO: >Epoch: 38, Current best: 100.00000075854193, Global best: 100.00000075854193, Runtime: 0.01023 seconds\n",
      "2022/07/06 10:40:02 PM, INFO, mealpy.human_based.TLO.BaseTLO: >Epoch: 39, Current best: 100.00000075854193, Global best: 100.00000075854193, Runtime: 0.01101 seconds\n",
      "2022/07/06 10:40:02 PM, INFO, mealpy.human_based.TLO.BaseTLO: >Epoch: 39, Current best: 100.00000075854193, Global best: 100.00000075854193, Runtime: 0.01101 seconds\n",
      "2022/07/06 10:40:02 PM, INFO, mealpy.human_based.TLO.BaseTLO: >Epoch: 39, Current best: 100.00000075854193, Global best: 100.00000075854193, Runtime: 0.01101 seconds\n",
      "2022/07/06 10:40:02 PM, INFO, mealpy.human_based.TLO.BaseTLO: >Epoch: 39, Current best: 100.00000075854193, Global best: 100.00000075854193, Runtime: 0.01101 seconds\n",
      "2022/07/06 10:40:02 PM, INFO, mealpy.human_based.TLO.BaseTLO: >Epoch: 40, Current best: 100.00000017417669, Global best: 100.00000017417669, Runtime: 0.01057 seconds\n",
      "2022/07/06 10:40:02 PM, INFO, mealpy.human_based.TLO.BaseTLO: >Epoch: 40, Current best: 100.00000017417669, Global best: 100.00000017417669, Runtime: 0.01057 seconds\n",
      "2022/07/06 10:40:02 PM, INFO, mealpy.human_based.TLO.BaseTLO: >Epoch: 40, Current best: 100.00000017417669, Global best: 100.00000017417669, Runtime: 0.01057 seconds\n",
      "2022/07/06 10:40:02 PM, INFO, mealpy.human_based.TLO.BaseTLO: >Epoch: 40, Current best: 100.00000017417669, Global best: 100.00000017417669, Runtime: 0.01057 seconds\n",
      "2022/07/06 10:40:02 PM, INFO, mealpy.human_based.TLO.BaseTLO: >Epoch: 41, Current best: 100.00000001144548, Global best: 100.00000001144548, Runtime: 0.01050 seconds\n",
      "2022/07/06 10:40:02 PM, INFO, mealpy.human_based.TLO.BaseTLO: >Epoch: 41, Current best: 100.00000001144548, Global best: 100.00000001144548, Runtime: 0.01050 seconds\n",
      "2022/07/06 10:40:02 PM, INFO, mealpy.human_based.TLO.BaseTLO: >Epoch: 41, Current best: 100.00000001144548, Global best: 100.00000001144548, Runtime: 0.01050 seconds\n",
      "2022/07/06 10:40:02 PM, INFO, mealpy.human_based.TLO.BaseTLO: >Epoch: 41, Current best: 100.00000001144548, Global best: 100.00000001144548, Runtime: 0.01050 seconds\n",
      "2022/07/06 10:40:02 PM, INFO, mealpy.human_based.TLO.BaseTLO: >Epoch: 42, Current best: 100.00000001144548, Global best: 100.00000001144548, Runtime: 0.01021 seconds\n",
      "2022/07/06 10:40:02 PM, INFO, mealpy.human_based.TLO.BaseTLO: >Epoch: 42, Current best: 100.00000001144548, Global best: 100.00000001144548, Runtime: 0.01021 seconds\n",
      "2022/07/06 10:40:02 PM, INFO, mealpy.human_based.TLO.BaseTLO: >Epoch: 42, Current best: 100.00000001144548, Global best: 100.00000001144548, Runtime: 0.01021 seconds\n",
      "2022/07/06 10:40:02 PM, INFO, mealpy.human_based.TLO.BaseTLO: >Epoch: 42, Current best: 100.00000001144548, Global best: 100.00000001144548, Runtime: 0.01021 seconds\n",
      "2022/07/06 10:40:02 PM, INFO, mealpy.human_based.TLO.BaseTLO: >Epoch: 43, Current best: 100.00000001144548, Global best: 100.00000001144548, Runtime: 0.00981 seconds\n",
      "2022/07/06 10:40:02 PM, INFO, mealpy.human_based.TLO.BaseTLO: >Epoch: 43, Current best: 100.00000001144548, Global best: 100.00000001144548, Runtime: 0.00981 seconds\n",
      "2022/07/06 10:40:02 PM, INFO, mealpy.human_based.TLO.BaseTLO: >Epoch: 43, Current best: 100.00000001144548, Global best: 100.00000001144548, Runtime: 0.00981 seconds\n",
      "2022/07/06 10:40:02 PM, INFO, mealpy.human_based.TLO.BaseTLO: >Epoch: 43, Current best: 100.00000001144548, Global best: 100.00000001144548, Runtime: 0.00981 seconds\n",
      "2022/07/06 10:40:02 PM, INFO, mealpy.human_based.TLO.BaseTLO: >Epoch: 44, Current best: 100.00000001144548, Global best: 100.00000001144548, Runtime: 0.01074 seconds\n",
      "2022/07/06 10:40:02 PM, INFO, mealpy.human_based.TLO.BaseTLO: >Epoch: 44, Current best: 100.00000001144548, Global best: 100.00000001144548, Runtime: 0.01074 seconds\n",
      "2022/07/06 10:40:02 PM, INFO, mealpy.human_based.TLO.BaseTLO: >Epoch: 44, Current best: 100.00000001144548, Global best: 100.00000001144548, Runtime: 0.01074 seconds\n",
      "2022/07/06 10:40:02 PM, INFO, mealpy.human_based.TLO.BaseTLO: >Epoch: 44, Current best: 100.00000001144548, Global best: 100.00000001144548, Runtime: 0.01074 seconds\n",
      "2022/07/06 10:40:02 PM, INFO, mealpy.human_based.TLO.BaseTLO: >Epoch: 45, Current best: 100.00000000119297, Global best: 100.00000000119297, Runtime: 0.01043 seconds\n",
      "2022/07/06 10:40:02 PM, INFO, mealpy.human_based.TLO.BaseTLO: >Epoch: 45, Current best: 100.00000000119297, Global best: 100.00000000119297, Runtime: 0.01043 seconds\n",
      "2022/07/06 10:40:02 PM, INFO, mealpy.human_based.TLO.BaseTLO: >Epoch: 45, Current best: 100.00000000119297, Global best: 100.00000000119297, Runtime: 0.01043 seconds\n",
      "2022/07/06 10:40:02 PM, INFO, mealpy.human_based.TLO.BaseTLO: >Epoch: 45, Current best: 100.00000000119297, Global best: 100.00000000119297, Runtime: 0.01043 seconds\n",
      "2022/07/06 10:40:02 PM, INFO, mealpy.human_based.TLO.BaseTLO: >Epoch: 46, Current best: 100.00000000119297, Global best: 100.00000000119297, Runtime: 0.00998 seconds\n",
      "2022/07/06 10:40:02 PM, INFO, mealpy.human_based.TLO.BaseTLO: >Epoch: 46, Current best: 100.00000000119297, Global best: 100.00000000119297, Runtime: 0.00998 seconds\n",
      "2022/07/06 10:40:02 PM, INFO, mealpy.human_based.TLO.BaseTLO: >Epoch: 46, Current best: 100.00000000119297, Global best: 100.00000000119297, Runtime: 0.00998 seconds\n",
      "2022/07/06 10:40:02 PM, INFO, mealpy.human_based.TLO.BaseTLO: >Epoch: 46, Current best: 100.00000000119297, Global best: 100.00000000119297, Runtime: 0.00998 seconds\n",
      "2022/07/06 10:40:02 PM, INFO, mealpy.human_based.TLO.BaseTLO: >Epoch: 47, Current best: 100.00000000119297, Global best: 100.00000000119297, Runtime: 0.00999 seconds\n",
      "2022/07/06 10:40:02 PM, INFO, mealpy.human_based.TLO.BaseTLO: >Epoch: 47, Current best: 100.00000000119297, Global best: 100.00000000119297, Runtime: 0.00999 seconds\n",
      "2022/07/06 10:40:02 PM, INFO, mealpy.human_based.TLO.BaseTLO: >Epoch: 47, Current best: 100.00000000119297, Global best: 100.00000000119297, Runtime: 0.00999 seconds\n",
      "2022/07/06 10:40:02 PM, INFO, mealpy.human_based.TLO.BaseTLO: >Epoch: 47, Current best: 100.00000000119297, Global best: 100.00000000119297, Runtime: 0.00999 seconds\n",
      "2022/07/06 10:40:02 PM, INFO, mealpy.human_based.TLO.BaseTLO: >Epoch: 48, Current best: 100.00000000119297, Global best: 100.00000000119297, Runtime: 0.00914 seconds\n",
      "2022/07/06 10:40:02 PM, INFO, mealpy.human_based.TLO.BaseTLO: >Epoch: 48, Current best: 100.00000000119297, Global best: 100.00000000119297, Runtime: 0.00914 seconds\n",
      "2022/07/06 10:40:02 PM, INFO, mealpy.human_based.TLO.BaseTLO: >Epoch: 48, Current best: 100.00000000119297, Global best: 100.00000000119297, Runtime: 0.00914 seconds\n",
      "2022/07/06 10:40:02 PM, INFO, mealpy.human_based.TLO.BaseTLO: >Epoch: 48, Current best: 100.00000000119297, Global best: 100.00000000119297, Runtime: 0.00914 seconds\n",
      "2022/07/06 10:40:02 PM, INFO, mealpy.human_based.TLO.BaseTLO: >Epoch: 49, Current best: 100.00000000119297, Global best: 100.00000000119297, Runtime: 0.00931 seconds\n",
      "2022/07/06 10:40:02 PM, INFO, mealpy.human_based.TLO.BaseTLO: >Epoch: 49, Current best: 100.00000000119297, Global best: 100.00000000119297, Runtime: 0.00931 seconds\n",
      "2022/07/06 10:40:02 PM, INFO, mealpy.human_based.TLO.BaseTLO: >Epoch: 49, Current best: 100.00000000119297, Global best: 100.00000000119297, Runtime: 0.00931 seconds\n",
      "2022/07/06 10:40:02 PM, INFO, mealpy.human_based.TLO.BaseTLO: >Epoch: 49, Current best: 100.00000000119297, Global best: 100.00000000119297, Runtime: 0.00931 seconds\n",
      "2022/07/06 10:40:02 PM, INFO, mealpy.human_based.TLO.BaseTLO: >Epoch: 50, Current best: 100.00000000007144, Global best: 100.00000000007144, Runtime: 0.01078 seconds\n",
      "2022/07/06 10:40:02 PM, INFO, mealpy.human_based.TLO.BaseTLO: >Epoch: 50, Current best: 100.00000000007144, Global best: 100.00000000007144, Runtime: 0.01078 seconds\n",
      "2022/07/06 10:40:02 PM, INFO, mealpy.human_based.TLO.BaseTLO: >Epoch: 50, Current best: 100.00000000007144, Global best: 100.00000000007144, Runtime: 0.01078 seconds\n"
     ]
    },
    {
     "name": "stderr",
     "output_type": "stream",
     "text": [
      "2022/07/06 10:40:02 PM, INFO, mealpy.human_based.TLO.BaseTLO: >Epoch: 50, Current best: 100.00000000007144, Global best: 100.00000000007144, Runtime: 0.01078 seconds\n",
      "2022/07/06 10:40:02 PM, INFO, mealpy.human_based.TLO.BaseTLO: >Epoch: 51, Current best: 100.00000000007144, Global best: 100.00000000007144, Runtime: 0.01074 seconds\n",
      "2022/07/06 10:40:02 PM, INFO, mealpy.human_based.TLO.BaseTLO: >Epoch: 51, Current best: 100.00000000007144, Global best: 100.00000000007144, Runtime: 0.01074 seconds\n",
      "2022/07/06 10:40:02 PM, INFO, mealpy.human_based.TLO.BaseTLO: >Epoch: 51, Current best: 100.00000000007144, Global best: 100.00000000007144, Runtime: 0.01074 seconds\n",
      "2022/07/06 10:40:02 PM, INFO, mealpy.human_based.TLO.BaseTLO: >Epoch: 51, Current best: 100.00000000007144, Global best: 100.00000000007144, Runtime: 0.01074 seconds\n",
      "2022/07/06 10:40:02 PM, INFO, mealpy.human_based.TLO.BaseTLO: >Epoch: 52, Current best: 100.00000000007144, Global best: 100.00000000007144, Runtime: 0.01060 seconds\n",
      "2022/07/06 10:40:02 PM, INFO, mealpy.human_based.TLO.BaseTLO: >Epoch: 52, Current best: 100.00000000007144, Global best: 100.00000000007144, Runtime: 0.01060 seconds\n",
      "2022/07/06 10:40:02 PM, INFO, mealpy.human_based.TLO.BaseTLO: >Epoch: 52, Current best: 100.00000000007144, Global best: 100.00000000007144, Runtime: 0.01060 seconds\n",
      "2022/07/06 10:40:02 PM, INFO, mealpy.human_based.TLO.BaseTLO: >Epoch: 52, Current best: 100.00000000007144, Global best: 100.00000000007144, Runtime: 0.01060 seconds\n",
      "2022/07/06 10:40:02 PM, INFO, mealpy.human_based.TLO.BaseTLO: >Epoch: 53, Current best: 100.00000000007144, Global best: 100.00000000007144, Runtime: 0.01008 seconds\n",
      "2022/07/06 10:40:02 PM, INFO, mealpy.human_based.TLO.BaseTLO: >Epoch: 53, Current best: 100.00000000007144, Global best: 100.00000000007144, Runtime: 0.01008 seconds\n",
      "2022/07/06 10:40:02 PM, INFO, mealpy.human_based.TLO.BaseTLO: >Epoch: 53, Current best: 100.00000000007144, Global best: 100.00000000007144, Runtime: 0.01008 seconds\n",
      "2022/07/06 10:40:02 PM, INFO, mealpy.human_based.TLO.BaseTLO: >Epoch: 53, Current best: 100.00000000007144, Global best: 100.00000000007144, Runtime: 0.01008 seconds\n",
      "2022/07/06 10:40:02 PM, INFO, mealpy.human_based.TLO.BaseTLO: >Epoch: 54, Current best: 100.00000000007144, Global best: 100.00000000007144, Runtime: 0.01157 seconds\n",
      "2022/07/06 10:40:02 PM, INFO, mealpy.human_based.TLO.BaseTLO: >Epoch: 54, Current best: 100.00000000007144, Global best: 100.00000000007144, Runtime: 0.01157 seconds\n",
      "2022/07/06 10:40:02 PM, INFO, mealpy.human_based.TLO.BaseTLO: >Epoch: 54, Current best: 100.00000000007144, Global best: 100.00000000007144, Runtime: 0.01157 seconds\n",
      "2022/07/06 10:40:02 PM, INFO, mealpy.human_based.TLO.BaseTLO: >Epoch: 54, Current best: 100.00000000007144, Global best: 100.00000000007144, Runtime: 0.01157 seconds\n",
      "2022/07/06 10:40:02 PM, INFO, mealpy.human_based.TLO.BaseTLO: >Epoch: 55, Current best: 100.00000000007144, Global best: 100.00000000007144, Runtime: 0.01314 seconds\n",
      "2022/07/06 10:40:02 PM, INFO, mealpy.human_based.TLO.BaseTLO: >Epoch: 55, Current best: 100.00000000007144, Global best: 100.00000000007144, Runtime: 0.01314 seconds\n",
      "2022/07/06 10:40:02 PM, INFO, mealpy.human_based.TLO.BaseTLO: >Epoch: 55, Current best: 100.00000000007144, Global best: 100.00000000007144, Runtime: 0.01314 seconds\n",
      "2022/07/06 10:40:02 PM, INFO, mealpy.human_based.TLO.BaseTLO: >Epoch: 55, Current best: 100.00000000007144, Global best: 100.00000000007144, Runtime: 0.01314 seconds\n",
      "2022/07/06 10:40:02 PM, INFO, mealpy.human_based.TLO.BaseTLO: >Epoch: 56, Current best: 100.00000000003475, Global best: 100.00000000003475, Runtime: 0.01083 seconds\n",
      "2022/07/06 10:40:02 PM, INFO, mealpy.human_based.TLO.BaseTLO: >Epoch: 56, Current best: 100.00000000003475, Global best: 100.00000000003475, Runtime: 0.01083 seconds\n",
      "2022/07/06 10:40:02 PM, INFO, mealpy.human_based.TLO.BaseTLO: >Epoch: 56, Current best: 100.00000000003475, Global best: 100.00000000003475, Runtime: 0.01083 seconds\n",
      "2022/07/06 10:40:02 PM, INFO, mealpy.human_based.TLO.BaseTLO: >Epoch: 56, Current best: 100.00000000003475, Global best: 100.00000000003475, Runtime: 0.01083 seconds\n",
      "2022/07/06 10:40:02 PM, INFO, mealpy.human_based.TLO.BaseTLO: >Epoch: 57, Current best: 100.00000000000136, Global best: 100.00000000000136, Runtime: 0.00952 seconds\n",
      "2022/07/06 10:40:02 PM, INFO, mealpy.human_based.TLO.BaseTLO: >Epoch: 57, Current best: 100.00000000000136, Global best: 100.00000000000136, Runtime: 0.00952 seconds\n",
      "2022/07/06 10:40:02 PM, INFO, mealpy.human_based.TLO.BaseTLO: >Epoch: 57, Current best: 100.00000000000136, Global best: 100.00000000000136, Runtime: 0.00952 seconds\n",
      "2022/07/06 10:40:02 PM, INFO, mealpy.human_based.TLO.BaseTLO: >Epoch: 57, Current best: 100.00000000000136, Global best: 100.00000000000136, Runtime: 0.00952 seconds\n",
      "2022/07/06 10:40:02 PM, INFO, mealpy.human_based.TLO.BaseTLO: >Epoch: 58, Current best: 100.00000000000136, Global best: 100.00000000000136, Runtime: 0.01052 seconds\n",
      "2022/07/06 10:40:02 PM, INFO, mealpy.human_based.TLO.BaseTLO: >Epoch: 58, Current best: 100.00000000000136, Global best: 100.00000000000136, Runtime: 0.01052 seconds\n",
      "2022/07/06 10:40:02 PM, INFO, mealpy.human_based.TLO.BaseTLO: >Epoch: 58, Current best: 100.00000000000136, Global best: 100.00000000000136, Runtime: 0.01052 seconds\n",
      "2022/07/06 10:40:02 PM, INFO, mealpy.human_based.TLO.BaseTLO: >Epoch: 58, Current best: 100.00000000000136, Global best: 100.00000000000136, Runtime: 0.01052 seconds\n",
      "2022/07/06 10:40:02 PM, INFO, mealpy.human_based.TLO.BaseTLO: >Epoch: 59, Current best: 100.0000000000012, Global best: 100.0000000000012, Runtime: 0.01133 seconds\n",
      "2022/07/06 10:40:02 PM, INFO, mealpy.human_based.TLO.BaseTLO: >Epoch: 59, Current best: 100.0000000000012, Global best: 100.0000000000012, Runtime: 0.01133 seconds\n",
      "2022/07/06 10:40:02 PM, INFO, mealpy.human_based.TLO.BaseTLO: >Epoch: 59, Current best: 100.0000000000012, Global best: 100.0000000000012, Runtime: 0.01133 seconds\n",
      "2022/07/06 10:40:02 PM, INFO, mealpy.human_based.TLO.BaseTLO: >Epoch: 59, Current best: 100.0000000000012, Global best: 100.0000000000012, Runtime: 0.01133 seconds\n",
      "2022/07/06 10:40:02 PM, INFO, mealpy.human_based.TLO.BaseTLO: >Epoch: 60, Current best: 100.0000000000012, Global best: 100.0000000000012, Runtime: 0.00987 seconds\n",
      "2022/07/06 10:40:02 PM, INFO, mealpy.human_based.TLO.BaseTLO: >Epoch: 60, Current best: 100.0000000000012, Global best: 100.0000000000012, Runtime: 0.00987 seconds\n",
      "2022/07/06 10:40:02 PM, INFO, mealpy.human_based.TLO.BaseTLO: >Epoch: 60, Current best: 100.0000000000012, Global best: 100.0000000000012, Runtime: 0.00987 seconds\n",
      "2022/07/06 10:40:02 PM, INFO, mealpy.human_based.TLO.BaseTLO: >Epoch: 60, Current best: 100.0000000000012, Global best: 100.0000000000012, Runtime: 0.00987 seconds\n",
      "2022/07/06 10:40:02 PM, INFO, mealpy.human_based.TLO.BaseTLO: >Epoch: 61, Current best: 100.00000000000067, Global best: 100.00000000000067, Runtime: 0.00946 seconds\n",
      "2022/07/06 10:40:02 PM, INFO, mealpy.human_based.TLO.BaseTLO: >Epoch: 61, Current best: 100.00000000000067, Global best: 100.00000000000067, Runtime: 0.00946 seconds\n",
      "2022/07/06 10:40:02 PM, INFO, mealpy.human_based.TLO.BaseTLO: >Epoch: 61, Current best: 100.00000000000067, Global best: 100.00000000000067, Runtime: 0.00946 seconds\n",
      "2022/07/06 10:40:02 PM, INFO, mealpy.human_based.TLO.BaseTLO: >Epoch: 61, Current best: 100.00000000000067, Global best: 100.00000000000067, Runtime: 0.00946 seconds\n",
      "2022/07/06 10:40:02 PM, INFO, mealpy.human_based.TLO.BaseTLO: >Epoch: 62, Current best: 100.0000000000006, Global best: 100.0000000000006, Runtime: 0.01056 seconds\n",
      "2022/07/06 10:40:02 PM, INFO, mealpy.human_based.TLO.BaseTLO: >Epoch: 62, Current best: 100.0000000000006, Global best: 100.0000000000006, Runtime: 0.01056 seconds\n",
      "2022/07/06 10:40:02 PM, INFO, mealpy.human_based.TLO.BaseTLO: >Epoch: 62, Current best: 100.0000000000006, Global best: 100.0000000000006, Runtime: 0.01056 seconds\n",
      "2022/07/06 10:40:02 PM, INFO, mealpy.human_based.TLO.BaseTLO: >Epoch: 62, Current best: 100.0000000000006, Global best: 100.0000000000006, Runtime: 0.01056 seconds\n",
      "2022/07/06 10:40:02 PM, INFO, mealpy.human_based.TLO.BaseTLO: >Epoch: 63, Current best: 100.0000000000006, Global best: 100.0000000000006, Runtime: 0.01116 seconds\n"
     ]
    },
    {
     "name": "stderr",
     "output_type": "stream",
     "text": [
      "2022/07/06 10:40:02 PM, INFO, mealpy.human_based.TLO.BaseTLO: >Epoch: 63, Current best: 100.0000000000006, Global best: 100.0000000000006, Runtime: 0.01116 seconds\n",
      "2022/07/06 10:40:02 PM, INFO, mealpy.human_based.TLO.BaseTLO: >Epoch: 63, Current best: 100.0000000000006, Global best: 100.0000000000006, Runtime: 0.01116 seconds\n",
      "2022/07/06 10:40:02 PM, INFO, mealpy.human_based.TLO.BaseTLO: >Epoch: 63, Current best: 100.0000000000006, Global best: 100.0000000000006, Runtime: 0.01116 seconds\n",
      "2022/07/06 10:40:02 PM, INFO, mealpy.human_based.TLO.BaseTLO: >Epoch: 64, Current best: 100.00000000000045, Global best: 100.00000000000045, Runtime: 0.00996 seconds\n",
      "2022/07/06 10:40:02 PM, INFO, mealpy.human_based.TLO.BaseTLO: >Epoch: 64, Current best: 100.00000000000045, Global best: 100.00000000000045, Runtime: 0.00996 seconds\n",
      "2022/07/06 10:40:02 PM, INFO, mealpy.human_based.TLO.BaseTLO: >Epoch: 64, Current best: 100.00000000000045, Global best: 100.00000000000045, Runtime: 0.00996 seconds\n",
      "2022/07/06 10:40:02 PM, INFO, mealpy.human_based.TLO.BaseTLO: >Epoch: 64, Current best: 100.00000000000045, Global best: 100.00000000000045, Runtime: 0.00996 seconds\n",
      "2022/07/06 10:40:02 PM, INFO, mealpy.human_based.TLO.BaseTLO: >Epoch: 65, Current best: 100.00000000000045, Global best: 100.00000000000045, Runtime: 0.01051 seconds\n",
      "2022/07/06 10:40:02 PM, INFO, mealpy.human_based.TLO.BaseTLO: >Epoch: 65, Current best: 100.00000000000045, Global best: 100.00000000000045, Runtime: 0.01051 seconds\n",
      "2022/07/06 10:40:02 PM, INFO, mealpy.human_based.TLO.BaseTLO: >Epoch: 65, Current best: 100.00000000000045, Global best: 100.00000000000045, Runtime: 0.01051 seconds\n",
      "2022/07/06 10:40:02 PM, INFO, mealpy.human_based.TLO.BaseTLO: >Epoch: 65, Current best: 100.00000000000045, Global best: 100.00000000000045, Runtime: 0.01051 seconds\n",
      "2022/07/06 10:40:02 PM, INFO, mealpy.human_based.TLO.BaseTLO: >Epoch: 66, Current best: 100.00000000000014, Global best: 100.00000000000014, Runtime: 0.01041 seconds\n",
      "2022/07/06 10:40:02 PM, INFO, mealpy.human_based.TLO.BaseTLO: >Epoch: 66, Current best: 100.00000000000014, Global best: 100.00000000000014, Runtime: 0.01041 seconds\n",
      "2022/07/06 10:40:02 PM, INFO, mealpy.human_based.TLO.BaseTLO: >Epoch: 66, Current best: 100.00000000000014, Global best: 100.00000000000014, Runtime: 0.01041 seconds\n",
      "2022/07/06 10:40:02 PM, INFO, mealpy.human_based.TLO.BaseTLO: >Epoch: 66, Current best: 100.00000000000014, Global best: 100.00000000000014, Runtime: 0.01041 seconds\n",
      "2022/07/06 10:40:02 PM, INFO, mealpy.human_based.TLO.BaseTLO: >Epoch: 67, Current best: 100.00000000000014, Global best: 100.00000000000014, Runtime: 0.01107 seconds\n",
      "2022/07/06 10:40:02 PM, INFO, mealpy.human_based.TLO.BaseTLO: >Epoch: 67, Current best: 100.00000000000014, Global best: 100.00000000000014, Runtime: 0.01107 seconds\n",
      "2022/07/06 10:40:02 PM, INFO, mealpy.human_based.TLO.BaseTLO: >Epoch: 67, Current best: 100.00000000000014, Global best: 100.00000000000014, Runtime: 0.01107 seconds\n",
      "2022/07/06 10:40:02 PM, INFO, mealpy.human_based.TLO.BaseTLO: >Epoch: 67, Current best: 100.00000000000014, Global best: 100.00000000000014, Runtime: 0.01107 seconds\n",
      "2022/07/06 10:40:02 PM, INFO, mealpy.human_based.TLO.BaseTLO: >Epoch: 68, Current best: 100.00000000000014, Global best: 100.00000000000014, Runtime: 0.01000 seconds\n",
      "2022/07/06 10:40:02 PM, INFO, mealpy.human_based.TLO.BaseTLO: >Epoch: 68, Current best: 100.00000000000014, Global best: 100.00000000000014, Runtime: 0.01000 seconds\n",
      "2022/07/06 10:40:02 PM, INFO, mealpy.human_based.TLO.BaseTLO: >Epoch: 68, Current best: 100.00000000000014, Global best: 100.00000000000014, Runtime: 0.01000 seconds\n",
      "2022/07/06 10:40:02 PM, INFO, mealpy.human_based.TLO.BaseTLO: >Epoch: 68, Current best: 100.00000000000014, Global best: 100.00000000000014, Runtime: 0.01000 seconds\n",
      "2022/07/06 10:40:02 PM, INFO, mealpy.human_based.TLO.BaseTLO: >Epoch: 69, Current best: 100.00000000000009, Global best: 100.00000000000009, Runtime: 0.01218 seconds\n",
      "2022/07/06 10:40:02 PM, INFO, mealpy.human_based.TLO.BaseTLO: >Epoch: 69, Current best: 100.00000000000009, Global best: 100.00000000000009, Runtime: 0.01218 seconds\n",
      "2022/07/06 10:40:02 PM, INFO, mealpy.human_based.TLO.BaseTLO: >Epoch: 69, Current best: 100.00000000000009, Global best: 100.00000000000009, Runtime: 0.01218 seconds\n",
      "2022/07/06 10:40:02 PM, INFO, mealpy.human_based.TLO.BaseTLO: >Epoch: 69, Current best: 100.00000000000009, Global best: 100.00000000000009, Runtime: 0.01218 seconds\n",
      "2022/07/06 10:40:02 PM, INFO, mealpy.human_based.TLO.BaseTLO: >Epoch: 70, Current best: 100.0, Global best: 100.0, Runtime: 0.01088 seconds\n",
      "2022/07/06 10:40:02 PM, INFO, mealpy.human_based.TLO.BaseTLO: >Epoch: 70, Current best: 100.0, Global best: 100.0, Runtime: 0.01088 seconds\n",
      "2022/07/06 10:40:02 PM, INFO, mealpy.human_based.TLO.BaseTLO: >Epoch: 70, Current best: 100.0, Global best: 100.0, Runtime: 0.01088 seconds\n",
      "2022/07/06 10:40:02 PM, INFO, mealpy.human_based.TLO.BaseTLO: >Epoch: 70, Current best: 100.0, Global best: 100.0, Runtime: 0.01088 seconds\n",
      "2022/07/06 10:40:02 PM, INFO, mealpy.human_based.TLO.BaseTLO: >Epoch: 71, Current best: 100.0, Global best: 100.0, Runtime: 0.01027 seconds\n",
      "2022/07/06 10:40:02 PM, INFO, mealpy.human_based.TLO.BaseTLO: >Epoch: 71, Current best: 100.0, Global best: 100.0, Runtime: 0.01027 seconds\n",
      "2022/07/06 10:40:02 PM, INFO, mealpy.human_based.TLO.BaseTLO: >Epoch: 71, Current best: 100.0, Global best: 100.0, Runtime: 0.01027 seconds\n",
      "2022/07/06 10:40:02 PM, INFO, mealpy.human_based.TLO.BaseTLO: >Epoch: 71, Current best: 100.0, Global best: 100.0, Runtime: 0.01027 seconds\n",
      "2022/07/06 10:40:02 PM, INFO, mealpy.human_based.TLO.BaseTLO: >Epoch: 72, Current best: 100.0, Global best: 100.0, Runtime: 0.01044 seconds\n",
      "2022/07/06 10:40:02 PM, INFO, mealpy.human_based.TLO.BaseTLO: >Epoch: 72, Current best: 100.0, Global best: 100.0, Runtime: 0.01044 seconds\n",
      "2022/07/06 10:40:02 PM, INFO, mealpy.human_based.TLO.BaseTLO: >Epoch: 72, Current best: 100.0, Global best: 100.0, Runtime: 0.01044 seconds\n",
      "2022/07/06 10:40:02 PM, INFO, mealpy.human_based.TLO.BaseTLO: >Epoch: 72, Current best: 100.0, Global best: 100.0, Runtime: 0.01044 seconds\n",
      "2022/07/06 10:40:02 PM, INFO, mealpy.human_based.TLO.BaseTLO: >Epoch: 73, Current best: 100.0, Global best: 100.0, Runtime: 0.01021 seconds\n",
      "2022/07/06 10:40:02 PM, INFO, mealpy.human_based.TLO.BaseTLO: >Epoch: 73, Current best: 100.0, Global best: 100.0, Runtime: 0.01021 seconds\n",
      "2022/07/06 10:40:02 PM, INFO, mealpy.human_based.TLO.BaseTLO: >Epoch: 73, Current best: 100.0, Global best: 100.0, Runtime: 0.01021 seconds\n",
      "2022/07/06 10:40:02 PM, INFO, mealpy.human_based.TLO.BaseTLO: >Epoch: 73, Current best: 100.0, Global best: 100.0, Runtime: 0.01021 seconds\n",
      "2022/07/06 10:40:02 PM, INFO, mealpy.human_based.TLO.BaseTLO: >Epoch: 74, Current best: 100.0, Global best: 100.0, Runtime: 0.01072 seconds\n",
      "2022/07/06 10:40:02 PM, INFO, mealpy.human_based.TLO.BaseTLO: >Epoch: 74, Current best: 100.0, Global best: 100.0, Runtime: 0.01072 seconds\n",
      "2022/07/06 10:40:02 PM, INFO, mealpy.human_based.TLO.BaseTLO: >Epoch: 74, Current best: 100.0, Global best: 100.0, Runtime: 0.01072 seconds\n",
      "2022/07/06 10:40:02 PM, INFO, mealpy.human_based.TLO.BaseTLO: >Epoch: 74, Current best: 100.0, Global best: 100.0, Runtime: 0.01072 seconds\n",
      "2022/07/06 10:40:02 PM, INFO, mealpy.human_based.TLO.BaseTLO: >Epoch: 75, Current best: 100.0, Global best: 100.0, Runtime: 0.01092 seconds\n",
      "2022/07/06 10:40:02 PM, INFO, mealpy.human_based.TLO.BaseTLO: >Epoch: 75, Current best: 100.0, Global best: 100.0, Runtime: 0.01092 seconds\n",
      "2022/07/06 10:40:02 PM, INFO, mealpy.human_based.TLO.BaseTLO: >Epoch: 75, Current best: 100.0, Global best: 100.0, Runtime: 0.01092 seconds\n",
      "2022/07/06 10:40:02 PM, INFO, mealpy.human_based.TLO.BaseTLO: >Epoch: 75, Current best: 100.0, Global best: 100.0, Runtime: 0.01092 seconds\n",
      "2022/07/06 10:40:02 PM, INFO, mealpy.human_based.TLO.BaseTLO: >Epoch: 76, Current best: 100.0, Global best: 100.0, Runtime: 0.01052 seconds\n",
      "2022/07/06 10:40:02 PM, INFO, mealpy.human_based.TLO.BaseTLO: >Epoch: 76, Current best: 100.0, Global best: 100.0, Runtime: 0.01052 seconds\n",
      "2022/07/06 10:40:02 PM, INFO, mealpy.human_based.TLO.BaseTLO: >Epoch: 76, Current best: 100.0, Global best: 100.0, Runtime: 0.01052 seconds\n"
     ]
    },
    {
     "name": "stderr",
     "output_type": "stream",
     "text": [
      "2022/07/06 10:40:02 PM, INFO, mealpy.human_based.TLO.BaseTLO: >Epoch: 76, Current best: 100.0, Global best: 100.0, Runtime: 0.01052 seconds\n",
      "2022/07/06 10:40:02 PM, INFO, mealpy.human_based.TLO.BaseTLO: >Epoch: 77, Current best: 100.0, Global best: 100.0, Runtime: 0.01193 seconds\n",
      "2022/07/06 10:40:02 PM, INFO, mealpy.human_based.TLO.BaseTLO: >Epoch: 77, Current best: 100.0, Global best: 100.0, Runtime: 0.01193 seconds\n",
      "2022/07/06 10:40:02 PM, INFO, mealpy.human_based.TLO.BaseTLO: >Epoch: 77, Current best: 100.0, Global best: 100.0, Runtime: 0.01193 seconds\n",
      "2022/07/06 10:40:02 PM, INFO, mealpy.human_based.TLO.BaseTLO: >Epoch: 77, Current best: 100.0, Global best: 100.0, Runtime: 0.01193 seconds\n",
      "2022/07/06 10:40:02 PM, INFO, mealpy.human_based.TLO.BaseTLO: >Epoch: 78, Current best: 100.0, Global best: 100.0, Runtime: 0.01026 seconds\n",
      "2022/07/06 10:40:02 PM, INFO, mealpy.human_based.TLO.BaseTLO: >Epoch: 78, Current best: 100.0, Global best: 100.0, Runtime: 0.01026 seconds\n",
      "2022/07/06 10:40:02 PM, INFO, mealpy.human_based.TLO.BaseTLO: >Epoch: 78, Current best: 100.0, Global best: 100.0, Runtime: 0.01026 seconds\n",
      "2022/07/06 10:40:02 PM, INFO, mealpy.human_based.TLO.BaseTLO: >Epoch: 78, Current best: 100.0, Global best: 100.0, Runtime: 0.01026 seconds\n",
      "2022/07/06 10:40:02 PM, INFO, mealpy.human_based.TLO.BaseTLO: >Epoch: 79, Current best: 100.0, Global best: 100.0, Runtime: 0.01186 seconds\n",
      "2022/07/06 10:40:02 PM, INFO, mealpy.human_based.TLO.BaseTLO: >Epoch: 79, Current best: 100.0, Global best: 100.0, Runtime: 0.01186 seconds\n",
      "2022/07/06 10:40:02 PM, INFO, mealpy.human_based.TLO.BaseTLO: >Epoch: 79, Current best: 100.0, Global best: 100.0, Runtime: 0.01186 seconds\n",
      "2022/07/06 10:40:02 PM, INFO, mealpy.human_based.TLO.BaseTLO: >Epoch: 79, Current best: 100.0, Global best: 100.0, Runtime: 0.01186 seconds\n",
      "2022/07/06 10:40:03 PM, INFO, mealpy.human_based.TLO.BaseTLO: >Epoch: 80, Current best: 100.0, Global best: 100.0, Runtime: 0.01097 seconds\n",
      "2022/07/06 10:40:03 PM, INFO, mealpy.human_based.TLO.BaseTLO: >Epoch: 80, Current best: 100.0, Global best: 100.0, Runtime: 0.01097 seconds\n",
      "2022/07/06 10:40:03 PM, INFO, mealpy.human_based.TLO.BaseTLO: >Epoch: 80, Current best: 100.0, Global best: 100.0, Runtime: 0.01097 seconds\n",
      "2022/07/06 10:40:03 PM, INFO, mealpy.human_based.TLO.BaseTLO: >Epoch: 80, Current best: 100.0, Global best: 100.0, Runtime: 0.01097 seconds\n",
      "2022/07/06 10:40:03 PM, INFO, mealpy.human_based.TLO.BaseTLO: >Epoch: 81, Current best: 100.0, Global best: 100.0, Runtime: 0.01076 seconds\n",
      "2022/07/06 10:40:03 PM, INFO, mealpy.human_based.TLO.BaseTLO: >Epoch: 81, Current best: 100.0, Global best: 100.0, Runtime: 0.01076 seconds\n",
      "2022/07/06 10:40:03 PM, INFO, mealpy.human_based.TLO.BaseTLO: >Epoch: 81, Current best: 100.0, Global best: 100.0, Runtime: 0.01076 seconds\n",
      "2022/07/06 10:40:03 PM, INFO, mealpy.human_based.TLO.BaseTLO: >Epoch: 81, Current best: 100.0, Global best: 100.0, Runtime: 0.01076 seconds\n",
      "2022/07/06 10:40:03 PM, INFO, mealpy.human_based.TLO.BaseTLO: >Epoch: 82, Current best: 100.0, Global best: 100.0, Runtime: 0.01080 seconds\n",
      "2022/07/06 10:40:03 PM, INFO, mealpy.human_based.TLO.BaseTLO: >Epoch: 82, Current best: 100.0, Global best: 100.0, Runtime: 0.01080 seconds\n",
      "2022/07/06 10:40:03 PM, INFO, mealpy.human_based.TLO.BaseTLO: >Epoch: 82, Current best: 100.0, Global best: 100.0, Runtime: 0.01080 seconds\n",
      "2022/07/06 10:40:03 PM, INFO, mealpy.human_based.TLO.BaseTLO: >Epoch: 82, Current best: 100.0, Global best: 100.0, Runtime: 0.01080 seconds\n",
      "2022/07/06 10:40:03 PM, INFO, mealpy.human_based.TLO.BaseTLO: >Epoch: 83, Current best: 100.0, Global best: 100.0, Runtime: 0.01057 seconds\n",
      "2022/07/06 10:40:03 PM, INFO, mealpy.human_based.TLO.BaseTLO: >Epoch: 83, Current best: 100.0, Global best: 100.0, Runtime: 0.01057 seconds\n",
      "2022/07/06 10:40:03 PM, INFO, mealpy.human_based.TLO.BaseTLO: >Epoch: 83, Current best: 100.0, Global best: 100.0, Runtime: 0.01057 seconds\n",
      "2022/07/06 10:40:03 PM, INFO, mealpy.human_based.TLO.BaseTLO: >Epoch: 83, Current best: 100.0, Global best: 100.0, Runtime: 0.01057 seconds\n",
      "2022/07/06 10:40:03 PM, INFO, mealpy.human_based.TLO.BaseTLO: >Epoch: 84, Current best: 100.0, Global best: 100.0, Runtime: 0.01046 seconds\n",
      "2022/07/06 10:40:03 PM, INFO, mealpy.human_based.TLO.BaseTLO: >Epoch: 84, Current best: 100.0, Global best: 100.0, Runtime: 0.01046 seconds\n",
      "2022/07/06 10:40:03 PM, INFO, mealpy.human_based.TLO.BaseTLO: >Epoch: 84, Current best: 100.0, Global best: 100.0, Runtime: 0.01046 seconds\n",
      "2022/07/06 10:40:03 PM, INFO, mealpy.human_based.TLO.BaseTLO: >Epoch: 84, Current best: 100.0, Global best: 100.0, Runtime: 0.01046 seconds\n",
      "2022/07/06 10:40:03 PM, INFO, mealpy.human_based.TLO.BaseTLO: >Epoch: 85, Current best: 100.0, Global best: 100.0, Runtime: 0.01153 seconds\n",
      "2022/07/06 10:40:03 PM, INFO, mealpy.human_based.TLO.BaseTLO: >Epoch: 85, Current best: 100.0, Global best: 100.0, Runtime: 0.01153 seconds\n",
      "2022/07/06 10:40:03 PM, INFO, mealpy.human_based.TLO.BaseTLO: >Epoch: 85, Current best: 100.0, Global best: 100.0, Runtime: 0.01153 seconds\n",
      "2022/07/06 10:40:03 PM, INFO, mealpy.human_based.TLO.BaseTLO: >Epoch: 85, Current best: 100.0, Global best: 100.0, Runtime: 0.01153 seconds\n",
      "2022/07/06 10:40:03 PM, INFO, mealpy.human_based.TLO.BaseTLO: >Epoch: 86, Current best: 100.0, Global best: 100.0, Runtime: 0.01026 seconds\n",
      "2022/07/06 10:40:03 PM, INFO, mealpy.human_based.TLO.BaseTLO: >Epoch: 86, Current best: 100.0, Global best: 100.0, Runtime: 0.01026 seconds\n",
      "2022/07/06 10:40:03 PM, INFO, mealpy.human_based.TLO.BaseTLO: >Epoch: 86, Current best: 100.0, Global best: 100.0, Runtime: 0.01026 seconds\n",
      "2022/07/06 10:40:03 PM, INFO, mealpy.human_based.TLO.BaseTLO: >Epoch: 86, Current best: 100.0, Global best: 100.0, Runtime: 0.01026 seconds\n",
      "2022/07/06 10:40:03 PM, INFO, mealpy.human_based.TLO.BaseTLO: >Epoch: 87, Current best: 100.0, Global best: 100.0, Runtime: 0.00991 seconds\n",
      "2022/07/06 10:40:03 PM, INFO, mealpy.human_based.TLO.BaseTLO: >Epoch: 87, Current best: 100.0, Global best: 100.0, Runtime: 0.00991 seconds\n",
      "2022/07/06 10:40:03 PM, INFO, mealpy.human_based.TLO.BaseTLO: >Epoch: 87, Current best: 100.0, Global best: 100.0, Runtime: 0.00991 seconds\n",
      "2022/07/06 10:40:03 PM, INFO, mealpy.human_based.TLO.BaseTLO: >Epoch: 87, Current best: 100.0, Global best: 100.0, Runtime: 0.00991 seconds\n",
      "2022/07/06 10:40:03 PM, INFO, mealpy.human_based.TLO.BaseTLO: >Epoch: 88, Current best: 100.0, Global best: 100.0, Runtime: 0.01059 seconds\n",
      "2022/07/06 10:40:03 PM, INFO, mealpy.human_based.TLO.BaseTLO: >Epoch: 88, Current best: 100.0, Global best: 100.0, Runtime: 0.01059 seconds\n",
      "2022/07/06 10:40:03 PM, INFO, mealpy.human_based.TLO.BaseTLO: >Epoch: 88, Current best: 100.0, Global best: 100.0, Runtime: 0.01059 seconds\n",
      "2022/07/06 10:40:03 PM, INFO, mealpy.human_based.TLO.BaseTLO: >Epoch: 88, Current best: 100.0, Global best: 100.0, Runtime: 0.01059 seconds\n",
      "2022/07/06 10:40:03 PM, INFO, mealpy.human_based.TLO.BaseTLO: >Epoch: 89, Current best: 100.0, Global best: 100.0, Runtime: 0.01175 seconds\n",
      "2022/07/06 10:40:03 PM, INFO, mealpy.human_based.TLO.BaseTLO: >Epoch: 89, Current best: 100.0, Global best: 100.0, Runtime: 0.01175 seconds\n",
      "2022/07/06 10:40:03 PM, INFO, mealpy.human_based.TLO.BaseTLO: >Epoch: 89, Current best: 100.0, Global best: 100.0, Runtime: 0.01175 seconds\n",
      "2022/07/06 10:40:03 PM, INFO, mealpy.human_based.TLO.BaseTLO: >Epoch: 89, Current best: 100.0, Global best: 100.0, Runtime: 0.01175 seconds\n",
      "2022/07/06 10:40:03 PM, INFO, mealpy.human_based.TLO.BaseTLO: >Epoch: 90, Current best: 100.0, Global best: 100.0, Runtime: 0.01041 seconds\n",
      "2022/07/06 10:40:03 PM, INFO, mealpy.human_based.TLO.BaseTLO: >Epoch: 90, Current best: 100.0, Global best: 100.0, Runtime: 0.01041 seconds\n",
      "2022/07/06 10:40:03 PM, INFO, mealpy.human_based.TLO.BaseTLO: >Epoch: 90, Current best: 100.0, Global best: 100.0, Runtime: 0.01041 seconds\n",
      "2022/07/06 10:40:03 PM, INFO, mealpy.human_based.TLO.BaseTLO: >Epoch: 90, Current best: 100.0, Global best: 100.0, Runtime: 0.01041 seconds\n",
      "2022/07/06 10:40:03 PM, INFO, mealpy.human_based.TLO.BaseTLO: >Epoch: 91, Current best: 100.0, Global best: 100.0, Runtime: 0.01058 seconds\n",
      "2022/07/06 10:40:03 PM, INFO, mealpy.human_based.TLO.BaseTLO: >Epoch: 91, Current best: 100.0, Global best: 100.0, Runtime: 0.01058 seconds\n"
     ]
    },
    {
     "name": "stderr",
     "output_type": "stream",
     "text": [
      "2022/07/06 10:40:03 PM, INFO, mealpy.human_based.TLO.BaseTLO: >Epoch: 91, Current best: 100.0, Global best: 100.0, Runtime: 0.01058 seconds\n",
      "2022/07/06 10:40:03 PM, INFO, mealpy.human_based.TLO.BaseTLO: >Epoch: 91, Current best: 100.0, Global best: 100.0, Runtime: 0.01058 seconds\n",
      "2022/07/06 10:40:03 PM, INFO, mealpy.human_based.TLO.BaseTLO: >Epoch: 92, Current best: 100.0, Global best: 100.0, Runtime: 0.01043 seconds\n",
      "2022/07/06 10:40:03 PM, INFO, mealpy.human_based.TLO.BaseTLO: >Epoch: 92, Current best: 100.0, Global best: 100.0, Runtime: 0.01043 seconds\n",
      "2022/07/06 10:40:03 PM, INFO, mealpy.human_based.TLO.BaseTLO: >Epoch: 92, Current best: 100.0, Global best: 100.0, Runtime: 0.01043 seconds\n",
      "2022/07/06 10:40:03 PM, INFO, mealpy.human_based.TLO.BaseTLO: >Epoch: 92, Current best: 100.0, Global best: 100.0, Runtime: 0.01043 seconds\n",
      "2022/07/06 10:40:03 PM, INFO, mealpy.human_based.TLO.BaseTLO: >Epoch: 93, Current best: 100.0, Global best: 100.0, Runtime: 0.01099 seconds\n",
      "2022/07/06 10:40:03 PM, INFO, mealpy.human_based.TLO.BaseTLO: >Epoch: 93, Current best: 100.0, Global best: 100.0, Runtime: 0.01099 seconds\n",
      "2022/07/06 10:40:03 PM, INFO, mealpy.human_based.TLO.BaseTLO: >Epoch: 93, Current best: 100.0, Global best: 100.0, Runtime: 0.01099 seconds\n",
      "2022/07/06 10:40:03 PM, INFO, mealpy.human_based.TLO.BaseTLO: >Epoch: 93, Current best: 100.0, Global best: 100.0, Runtime: 0.01099 seconds\n",
      "2022/07/06 10:40:03 PM, INFO, mealpy.human_based.TLO.BaseTLO: >Epoch: 94, Current best: 100.0, Global best: 100.0, Runtime: 0.01036 seconds\n",
      "2022/07/06 10:40:03 PM, INFO, mealpy.human_based.TLO.BaseTLO: >Epoch: 94, Current best: 100.0, Global best: 100.0, Runtime: 0.01036 seconds\n",
      "2022/07/06 10:40:03 PM, INFO, mealpy.human_based.TLO.BaseTLO: >Epoch: 94, Current best: 100.0, Global best: 100.0, Runtime: 0.01036 seconds\n",
      "2022/07/06 10:40:03 PM, INFO, mealpy.human_based.TLO.BaseTLO: >Epoch: 94, Current best: 100.0, Global best: 100.0, Runtime: 0.01036 seconds\n",
      "2022/07/06 10:40:03 PM, INFO, mealpy.human_based.TLO.BaseTLO: >Epoch: 95, Current best: 100.0, Global best: 100.0, Runtime: 0.01061 seconds\n",
      "2022/07/06 10:40:03 PM, INFO, mealpy.human_based.TLO.BaseTLO: >Epoch: 95, Current best: 100.0, Global best: 100.0, Runtime: 0.01061 seconds\n",
      "2022/07/06 10:40:03 PM, INFO, mealpy.human_based.TLO.BaseTLO: >Epoch: 95, Current best: 100.0, Global best: 100.0, Runtime: 0.01061 seconds\n",
      "2022/07/06 10:40:03 PM, INFO, mealpy.human_based.TLO.BaseTLO: >Epoch: 95, Current best: 100.0, Global best: 100.0, Runtime: 0.01061 seconds\n",
      "2022/07/06 10:40:03 PM, INFO, mealpy.human_based.TLO.BaseTLO: >Epoch: 96, Current best: 100.0, Global best: 100.0, Runtime: 0.00958 seconds\n",
      "2022/07/06 10:40:03 PM, INFO, mealpy.human_based.TLO.BaseTLO: >Epoch: 96, Current best: 100.0, Global best: 100.0, Runtime: 0.00958 seconds\n",
      "2022/07/06 10:40:03 PM, INFO, mealpy.human_based.TLO.BaseTLO: >Epoch: 96, Current best: 100.0, Global best: 100.0, Runtime: 0.00958 seconds\n",
      "2022/07/06 10:40:03 PM, INFO, mealpy.human_based.TLO.BaseTLO: >Epoch: 96, Current best: 100.0, Global best: 100.0, Runtime: 0.00958 seconds\n",
      "2022/07/06 10:40:03 PM, INFO, mealpy.human_based.TLO.BaseTLO: >Epoch: 97, Current best: 100.0, Global best: 100.0, Runtime: 0.00993 seconds\n",
      "2022/07/06 10:40:03 PM, INFO, mealpy.human_based.TLO.BaseTLO: >Epoch: 97, Current best: 100.0, Global best: 100.0, Runtime: 0.00993 seconds\n",
      "2022/07/06 10:40:03 PM, INFO, mealpy.human_based.TLO.BaseTLO: >Epoch: 97, Current best: 100.0, Global best: 100.0, Runtime: 0.00993 seconds\n",
      "2022/07/06 10:40:03 PM, INFO, mealpy.human_based.TLO.BaseTLO: >Epoch: 97, Current best: 100.0, Global best: 100.0, Runtime: 0.00993 seconds\n",
      "2022/07/06 10:40:03 PM, INFO, mealpy.human_based.TLO.BaseTLO: >Epoch: 98, Current best: 100.0, Global best: 100.0, Runtime: 0.01023 seconds\n",
      "2022/07/06 10:40:03 PM, INFO, mealpy.human_based.TLO.BaseTLO: >Epoch: 98, Current best: 100.0, Global best: 100.0, Runtime: 0.01023 seconds\n",
      "2022/07/06 10:40:03 PM, INFO, mealpy.human_based.TLO.BaseTLO: >Epoch: 98, Current best: 100.0, Global best: 100.0, Runtime: 0.01023 seconds\n",
      "2022/07/06 10:40:03 PM, INFO, mealpy.human_based.TLO.BaseTLO: >Epoch: 98, Current best: 100.0, Global best: 100.0, Runtime: 0.01023 seconds\n",
      "2022/07/06 10:40:03 PM, INFO, mealpy.human_based.TLO.BaseTLO: >Epoch: 99, Current best: 100.0, Global best: 100.0, Runtime: 0.01016 seconds\n",
      "2022/07/06 10:40:03 PM, INFO, mealpy.human_based.TLO.BaseTLO: >Epoch: 99, Current best: 100.0, Global best: 100.0, Runtime: 0.01016 seconds\n",
      "2022/07/06 10:40:03 PM, INFO, mealpy.human_based.TLO.BaseTLO: >Epoch: 99, Current best: 100.0, Global best: 100.0, Runtime: 0.01016 seconds\n",
      "2022/07/06 10:40:03 PM, INFO, mealpy.human_based.TLO.BaseTLO: >Epoch: 99, Current best: 100.0, Global best: 100.0, Runtime: 0.01016 seconds\n",
      "2022/07/06 10:40:03 PM, INFO, mealpy.human_based.TLO.BaseTLO: >Epoch: 100, Current best: 100.0, Global best: 100.0, Runtime: 0.01371 seconds\n",
      "2022/07/06 10:40:03 PM, INFO, mealpy.human_based.TLO.BaseTLO: >Epoch: 100, Current best: 100.0, Global best: 100.0, Runtime: 0.01371 seconds\n",
      "2022/07/06 10:40:03 PM, INFO, mealpy.human_based.TLO.BaseTLO: >Epoch: 100, Current best: 100.0, Global best: 100.0, Runtime: 0.01371 seconds\n",
      "2022/07/06 10:40:03 PM, INFO, mealpy.human_based.TLO.BaseTLO: >Epoch: 100, Current best: 100.0, Global best: 100.0, Runtime: 0.01371 seconds\n"
     ]
    },
    {
     "name": "stdout",
     "output_type": "stream",
     "text": [
      "Solution: [-3.72550875e-09 -5.09143072e-10  0.00000000e+00 -1.00000000e+01], Fitness: 100.0\n",
      "(4, 4)\n"
     ]
    }
   ],
   "source": [
    "wts_mat = []\n",
    "for i in range(0,7,2):\n",
    "    wts_mat.append(TLBO(model.weights[i]))\n",
    "wts_mat = np.array(wts_mat)\n",
    "print(wts_mat.shape)"
   ]
  },
  {
   "cell_type": "markdown",
   "id": "cb9edb15",
   "metadata": {},
   "source": [
    "### Predicting and reverse transforming"
   ]
  },
  {
   "cell_type": "code",
   "execution_count": 32,
   "id": "a1aaf605",
   "metadata": {},
   "outputs": [],
   "source": [
    "train_predict=model.predict(X_train)\n",
    "\n",
    "train_predict = scaler.inverse_transform(train_predict)\n",
    "array_length = len(train_predict)\n",
    "val = train_predict[array_length - 1]\n",
    "\n",
    "test_predict=model.predict(X_test)\n",
    "test_predict = scaler.inverse_transform(test_predict)\n",
    "array_length = len(test_predict)\n",
    "val_test = test_predict[array_length - 1]"
   ]
  },
  {
   "cell_type": "markdown",
   "id": "05842d81",
   "metadata": {},
   "source": [
    "### Performance Analysis"
   ]
  },
  {
   "cell_type": "code",
   "execution_count": 33,
   "id": "675c53f5",
   "metadata": {},
   "outputs": [
    {
     "name": "stdout",
     "output_type": "stream",
     "text": [
      "Root Mean Square Error while using LSTM-TLBO on training data :  47.76977982951381\n",
      "Root Mean Square Error while using LSTM-TLBO on testing data :  51.10058034084588\n"
     ]
    }
   ],
   "source": [
    "train_mse = math.sqrt(mean_squared_error(y_train,train_predict))\n",
    "print(\"Root Mean Square Error while using LSTM-TLBO on training data : \", train_mse)\n",
    "test_mse = math.sqrt(mean_squared_error(y_test,test_predict))\n",
    "print(\"Root Mean Square Error while using LSTM-TLBO on testing data : \", test_mse)"
   ]
  },
  {
   "cell_type": "markdown",
   "id": "917d0409",
   "metadata": {},
   "source": [
    "### Visualization of Predictions"
   ]
  },
  {
   "cell_type": "code",
   "execution_count": 34,
   "id": "280d57b2",
   "metadata": {},
   "outputs": [
    {
     "data": {
      "image/png": "[encoded data removed]",
      "text/plain": [
       "<Figure size 640x480 with 1 Axes>"
      ]
     },
     "metadata": {},
     "output_type": "display_data"
    }
   ],
   "source": [
    "look_back = 100\n",
    "\n",
    "trainPredictPlot = np.empty_like(df1)\n",
    "trainPredictPlot[:, :] = np.nan\n",
    "trainPredictPlot[look_back:len(train_predict)+look_back, :] = train_predict\n",
    "\n",
    "testPredictPlot = np.empty_like(df1)\n",
    "testPredictPlot[:, :] = np.nan\n",
    "testPredictPlot[len(train_predict)+(look_back*2)+1:len(df1)-1, :] = test_predict\n",
    "\n",
    "plt.plot(scaler.inverse_transform(df1))\n",
    "plt.plot(trainPredictPlot)\n",
    "plt.plot(testPredictPlot)\n",
    "\n",
    "labels = ['Actual Values' , 'Training Dataset', 'Testing Dataset']\n",
    "plt.title(\"LSTM-TLBO on a train-test split\")\n",
    "plt.legend(labels)\n",
    "plt.show()"
   ]
  },
  {
   "cell_type": "markdown",
   "id": "78b97b9e",
   "metadata": {},
   "source": [
    "### Visualization of loss"
   ]
  },
  {
   "cell_type": "code",
   "execution_count": 35,
   "id": "7bb5e9c5",
   "metadata": {},
   "outputs": [
    {
     "data": {
      "image/png": "[encoded data removed]",
      "text/plain": [
       "<Figure size 640x480 with 1 Axes>"
      ]
     },
     "metadata": {},
     "output_type": "display_data"
    }
   ],
   "source": [
    "plt.plot(history.history['loss'], 'r', label='Training loss')\n",
    "plt.plot(history.history['val_loss'], 'g', label='Validation loss')\n",
    "plt.title('Training VS Validation loss')\n",
    "plt.xlabel('No. of Epochs')\n",
    "plt.ylabel('Loss')\n",
    "plt.legend()\n",
    "plt.show()"
   ]
  },
  {
   "cell_type": "markdown",
   "id": "6fd5959b",
   "metadata": {},
   "source": [
    "### Final Verdict"
   ]
  },
  {
   "cell_type": "code",
   "execution_count": 36,
   "id": "674b883f",
   "metadata": {},
   "outputs": [
    {
     "name": "stdout",
     "output_type": "stream",
     "text": [
      "The price will move from 49.477196 to 36.622974\n"
     ]
    }
   ],
   "source": [
    "# Our prediction of the stock price from last training timestamp to last tested timestamp\n",
    "print(\"The price will move from\", (str(val)[1:-1]),\"to\" , str(val_test)[1:-1])"
   ]
  }
 ],
 "metadata": {
  "kernelspec": {
   "display_name": "Python 3 (ipykernel)",
   "language": "python",
   "name": "python3"
  },
  "language_info": {
   "codemirror_mode": {
    "name": "ipython",
    "version": 3
   },
   "file_extension": ".py",
   "mimetype": "text/x-python",
   "name": "python",
   "nbconvert_exporter": "python",
   "pygments_lexer": "ipython3",
   "version": "3.9.7"
  },
  "vscode": {
   "interpreter": {
    "hash": "6f9ca588e35d5380ec64e1f233f1ed83f266cf3860296cb111ef4116e0969506"
   }
  }
 },
 "nbformat": 4,
 "nbformat_minor": 5
}
